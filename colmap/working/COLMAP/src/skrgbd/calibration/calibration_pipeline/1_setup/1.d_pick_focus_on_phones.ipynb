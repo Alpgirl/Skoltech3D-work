{
 "cells": [
  {
   "cell_type": "markdown",
   "id": "057fc1ec",
   "metadata": {},
   "source": [
    "# Pick the optimal fixed focus on the phones"
   ]
  },
  {
   "cell_type": "code",
   "execution_count": null,
   "id": "a1aeb04f",
   "metadata": {},
   "outputs": [],
   "source": [
    "from time import sleep\n",
    "import sys\n",
    "from threading import Thread\n",
    "\n",
    "sys.path.append('/home/universal/Downloads/dev.sk_robot_rgbd_data/src')\n",
    "from skrgbd.devices.rig import Rig"
   ]
  },
  {
   "cell_type": "code",
   "execution_count": null,
   "id": "8a72a764",
   "metadata": {},
   "outputs": [],
   "source": [
    "rig = Rig(False, False, False, False, False, True, True)\n",
    "rig.init_cameras().join()\n",
    "rig.start_cameras.join()"
   ]
  },
  {
   "cell_type": "markdown",
   "id": "9910e696",
   "metadata": {},
   "source": [
    "1. Warm up the phones. Use the temperature monitoring scripts to see when the temperature of the phones stops increasing."
   ]
  },
  {
   "cell_type": "code",
   "execution_count": null,
   "id": "43907365",
   "metadata": {},
   "outputs": [],
   "source": [
    "for phone in rig.phones:\n",
    "    phone.start_warmup(1.5)"
   ]
  },
  {
   "cell_type": "markdown",
   "id": "049a07b6",
   "metadata": {},
   "source": [
    "2. Clean up the calibraion dir if necessary."
   ]
  },
  {
   "cell_type": "raw",
   "id": "01d0cfdf",
   "metadata": {},
   "source": [
    "for phone in rig.phones:\n",
    "    phone.clean_calibration()"
   ]
  },
  {
   "cell_type": "markdown",
   "id": "fe0d610d",
   "metadata": {},
   "source": [
    "3. Put the calibration object in front of the phones at the working distance.\n",
    "4. Take several photos with different focus settings."
   ]
  },
  {
   "cell_type": "code",
   "execution_count": null,
   "id": "72b18afb",
   "metadata": {},
   "outputs": [],
   "source": [
    "data_dir = '/home/universal/Downloads/dev.sk_robot_rgbd_data/experiments/calibration'"
   ]
  },
  {
   "cell_type": "code",
   "execution_count": null,
   "id": "6a57c04f",
   "metadata": {},
   "outputs": [],
   "source": [
    "for phone in rig.phones:\n",
    "    phone.stop_warmup()\n",
    "\n",
    "def pick_focus(phone):\n",
    "    phone.start_warmup(1.5)\n",
    "    sleep(10)\n",
    "    phone.stop_warmup()\n",
    "    sleep(5)\n",
    "    phone.clean()\n",
    "    \n",
    "    for focus in range(120, 300, 5):\n",
    "        phone.shell(f'setprop vendor.manual_af.vcmcode.value {focus}')\n",
    "        sleep(2)\n",
    "        phone.save_calib_data(f'{data_dir}/pick_focus', f'f{focus}', modalities={'image'}, blocking=False)\n",
    "\n",
    "threads = []\n",
    "for phone in rig.phones:\n",
    "    thread = Thread(target=pick_focus, args=[phone])\n",
    "    thread.start()\n",
    "    threads.append(thread)\n",
    "for thread in threads:\n",
    "    thread.join()"
   ]
  },
  {
   "cell_type": "markdown",
   "id": "2180d075",
   "metadata": {},
   "source": [
    "5. Pull the data and pick the best value."
   ]
  },
  {
   "cell_type": "code",
   "execution_count": null,
   "id": "10d10808",
   "metadata": {},
   "outputs": [],
   "source": [
    "for phone in rig.phones:\n",
    "    phone.pull_calibration(data_dir)"
   ]
  },
  {
   "cell_type": "markdown",
   "id": "ba38a4fd",
   "metadata": {},
   "source": [
    "6. Clean up the calibraion dir if necessary."
   ]
  },
  {
   "cell_type": "raw",
   "id": "0c6b80de",
   "metadata": {},
   "source": [
    "for phone in rig.phones:\n",
    "    phone.clean_calibration()"
   ]
  }
 ],
 "metadata": {
  "kernelspec": {
   "display_name": "Python 3",
   "language": "python",
   "name": "python3"
  },
  "language_info": {
   "codemirror_mode": {
    "name": "ipython",
    "version": 3
   },
   "file_extension": ".py",
   "mimetype": "text/x-python",
   "name": "python",
   "nbconvert_exporter": "python",
   "pygments_lexer": "ipython3",
   "version": "3.8.6"
  }
 },
 "nbformat": 4,
 "nbformat_minor": 5
}
