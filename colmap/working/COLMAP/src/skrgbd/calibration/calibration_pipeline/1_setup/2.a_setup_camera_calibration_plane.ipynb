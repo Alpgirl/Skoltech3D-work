{
 "cells": [
  {
   "cell_type": "markdown",
   "id": "e741443c",
   "metadata": {},
   "source": [
    "# Setup camera calibration plane"
   ]
  },
  {
   "cell_type": "code",
   "execution_count": null,
   "id": "cf3c2468",
   "metadata": {},
   "outputs": [],
   "source": [
    "from time import sleep\n",
    "import sys\n",
    "\n",
    "sys.path.append('/home/universal/Downloads/dev.sk_robot_rgbd_data/src')\n",
    "from skrgbd.devices.robot.robot_on_plane import RobotOnPlane"
   ]
  },
  {
   "cell_type": "code",
   "execution_count": null,
   "id": "10e5c740",
   "metadata": {},
   "outputs": [],
   "source": [
    "robot = RobotOnPlane()"
   ]
  },
  {
   "cell_type": "markdown",
   "id": "60f37505",
   "metadata": {},
   "source": [
    "1. Position the robot at bottom right of the calibration plane."
   ]
  },
  {
   "cell_type": "code",
   "execution_count": null,
   "id": "7f6d76dd",
   "metadata": {},
   "outputs": [],
   "source": [
    "bottom = 0\n",
    "right = 1\n",
    "robot.move_to((right, bottom), .1);"
   ]
  },
  {
   "cell_type": "markdown",
   "id": "854f9d8d",
   "metadata": {},
   "source": [
    "2. Position the calibration board\n",
    "    * at the working distance of the cameras,\n",
    "    * so that the tag is at the top boundary of all the images, and the left boundary of all the images,\n",
    "    * so that the board is parallel to the image planes.\n",
    "\n",
    "Make sure that the white area around the tag is fully visible on the images.\n",
    "\n",
    "For monitoring use\n",
    "* `tcam-capture` for TIS,\n",
    "* `Protonect` for Kinect,\n",
    "* `realsense-viewer` for RealSense,\n",
    "* camera app on the screen of the phones."
   ]
  },
  {
   "cell_type": "markdown",
   "id": "0f16a18e",
   "metadata": {},
   "source": [
    "3. Find the horizontal position of the robot so that the tag is at the right boundary of all the images."
   ]
  },
  {
   "cell_type": "code",
   "execution_count": null,
   "id": "d84b84e2",
   "metadata": {},
   "outputs": [],
   "source": [
    "left = 0\n",
    "robot.move_to((left, bottom), .1);"
   ]
  },
  {
   "cell_type": "markdown",
   "id": "62b86afa",
   "metadata": {},
   "source": [
    "4. Find the vertical position of the robot so that the tag is at the bottom boundary of all the images."
   ]
  },
  {
   "cell_type": "code",
   "execution_count": null,
   "id": "7c86562b",
   "metadata": {},
   "outputs": [],
   "source": [
    "top = 1\n",
    "robot.move_to((left, top), .1);"
   ]
  },
  {
   "cell_type": "code",
   "execution_count": null,
   "id": "6b390185",
   "metadata": {},
   "outputs": [],
   "source": [
    "robot.move_to((.4, top), .1);"
   ]
  },
  {
   "cell_type": "code",
   "execution_count": null,
   "id": "74ce629a",
   "metadata": {},
   "outputs": [],
   "source": [
    "robot.move_to((right, top), .1);"
   ]
  },
  {
   "cell_type": "markdown",
   "id": "bb66a8dd",
   "metadata": {},
   "source": [
    "5. Check the corners of all images."
   ]
  },
  {
   "cell_type": "code",
   "execution_count": null,
   "id": "b797e04d",
   "metadata": {},
   "outputs": [],
   "source": [
    "while True:\n",
    "    robot.move_to((left, top), .1)\n",
    "    robot.move_to((right, top), .1)\n",
    "    robot.move_to((right, bottom), .1)\n",
    "    robot.move_to((left, bottom), .1)"
   ]
  },
  {
   "cell_type": "markdown",
   "id": "de40b40c",
   "metadata": {},
   "source": [
    "## Find tag crop positions"
   ]
  },
  {
   "cell_type": "code",
   "execution_count": null,
   "id": "11927ba1",
   "metadata": {},
   "outputs": [],
   "source": [
    "from time import sleep\n",
    "import sys\n",
    "\n",
    "sys.stderr = sys.__stderr__  # redirect stderr back to the shell\n",
    "\n",
    "from pupil_apriltags import Detector\n",
    "import numpy as np\n",
    "import matplotlib.pyplot as plt\n",
    "\n",
    "sys.path.append('/home/universal/Downloads/dev.sk_robot_rgbd_data/src')\n",
    "from skrgbd.calibration.calibration_helper.trajectories.camera_plane import CameraCalibrationPlane, make_im_slice\n",
    "from skrgbd.devices.rig import Rig\n",
    "from skrgbd.devices.robot.robot_on_plane import RobotOnPlane"
   ]
  },
  {
   "cell_type": "code",
   "execution_count": null,
   "id": "468ea043",
   "metadata": {},
   "outputs": [],
   "source": [
    "robot = RobotOnPlane()\n",
    "trajectory = CameraCalibrationPlane(robot)\n",
    "trajectory.move_zero(.1)"
   ]
  },
  {
   "cell_type": "code",
   "execution_count": null,
   "id": "d29e3631",
   "metadata": {},
   "outputs": [],
   "source": [
    "rig = Rig()\n",
    "rig.init_cameras().join()\n",
    "rig.start_cameras().join()"
   ]
  },
  {
   "cell_type": "code",
   "execution_count": null,
   "id": "2c54dcdb",
   "metadata": {},
   "outputs": [],
   "source": [
    "detector = Detector(\n",
    "    families='tag36h11',\n",
    "    nthreads=1,\n",
    "    quad_decimate=1.0,\n",
    "    quad_sigma=0.0,\n",
    "    refine_edges=1,\n",
    "    decode_sharpening=0.25,\n",
    "    debug=0\n",
    ")"
   ]
  },
  {
   "cell_type": "code",
   "execution_count": null,
   "id": "5911bd31",
   "metadata": {},
   "outputs": [],
   "source": [
    "# image = rig.realsense.snap_frame(compressed=True)['ir_right']\n",
    "# image = rig.tis_right.snap_frame()['image']\n",
    "# image = rig.kinect.snap_frame()['ir']\n",
    "# image = np.clip(image * 255, 0, 255).astype(np.uint8)\n",
    "image = rig.phone_right.get_photo()\n",
    "\n",
    "if image.ndim > 2:\n",
    "    image = image[..., 1]  # keep only green channel since tag detector only works with single-channel images\n",
    "plt.imshow(image, cmap='gray')"
   ]
  },
  {
   "cell_type": "code",
   "execution_count": null,
   "id": "1df04251",
   "metadata": {},
   "outputs": [],
   "source": [
    "detection = detector.detect(image)[0]\n",
    "\n",
    "x, y = detection.center\n",
    "size = (detection.corners[0, 0] - detection.center[0]) * 2\n",
    "\n",
    "size = size * 1.3\n",
    "size = round(size)\n",
    "x = round(x)\n",
    "y = round(y)\n",
    "\n",
    "print(f'({y}, {x}), {size}')\n",
    "plt.imshow(image[make_im_slice([y, x], size)], cmap='gray')"
   ]
  },
  {
   "cell_type": "markdown",
   "id": "fbe1593d",
   "metadata": {},
   "source": [
    "## Check tag crop positions"
   ]
  },
  {
   "cell_type": "code",
   "execution_count": null,
   "id": "63fc9714",
   "metadata": {},
   "outputs": [],
   "source": [
    "from time import sleep\n",
    "import sys\n",
    "\n",
    "sys.stderr = sys.__stderr__  # redirect stderr back to the shell\n",
    "\n",
    "sys.path.append('/home/universal/Downloads/dev.sk_robot_rgbd_data/src')\n",
    "from skrgbd.calibration.calibration_helper.trajectories.camera_plane import CameraCalibrationPlane\n",
    "from skrgbd.devices.rig import Rig"
   ]
  },
  {
   "cell_type": "code",
   "execution_count": null,
   "id": "ef71e4bb",
   "metadata": {},
   "outputs": [],
   "source": [
    "rig = Rig()\n",
    "rig.init_cameras().join()\n",
    "rig.start_cameras().join()"
   ]
  },
  {
   "cell_type": "code",
   "execution_count": null,
   "id": "0ed14c9b",
   "metadata": {},
   "outputs": [],
   "source": [
    "trajectory = CameraCalibrationPlane(None)\n",
    "trajectory.stream_tag(rig.realsense, rig.tis_left, rig.tis_right, rig.kinect, rig.phone_left, rig.phone_right)"
   ]
  },
  {
   "cell_type": "code",
   "execution_count": null,
   "id": "6dbbdba0",
   "metadata": {},
   "outputs": [],
   "source": [
    "trajectory.stop_tag_streaming()"
   ]
  }
 ],
 "metadata": {
  "kernelspec": {
   "display_name": "Python 3",
   "language": "python",
   "name": "python3"
  },
  "language_info": {
   "codemirror_mode": {
    "name": "ipython",
    "version": 3
   },
   "file_extension": ".py",
   "mimetype": "text/x-python",
   "name": "python",
   "nbconvert_exporter": "python",
   "pygments_lexer": "ipython3",
   "version": "3.8.6"
  }
 },
 "nbformat": 4,
 "nbformat_minor": 5
}
