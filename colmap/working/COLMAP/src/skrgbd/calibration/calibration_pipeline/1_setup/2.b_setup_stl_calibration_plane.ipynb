{
 "cells": [
  {
   "cell_type": "markdown",
   "id": "e741443c",
   "metadata": {},
   "source": [
    "# Setup STL calibration plane"
   ]
  },
  {
   "cell_type": "code",
   "execution_count": null,
   "id": "cf3c2468",
   "metadata": {},
   "outputs": [],
   "source": [
    "from time import sleep\n",
    "import sys\n",
    "\n",
    "sys.path.append('/home/universal/Downloads/dev.sk_robot_rgbd_data/src')\n",
    "from skrgbd.devices.robot.robot_on_plane import RobotOnPlane"
   ]
  },
  {
   "cell_type": "code",
   "execution_count": null,
   "id": "7469e471",
   "metadata": {},
   "outputs": [],
   "source": [
    "robot = RobotOnPlane()"
   ]
  },
  {
   "cell_type": "markdown",
   "id": "60f37505",
   "metadata": {},
   "source": [
    "1. Position the robot at bottom right of the calibration plane."
   ]
  },
  {
   "cell_type": "code",
   "execution_count": null,
   "id": "7f6d76dd",
   "metadata": {},
   "outputs": [],
   "source": [
    "bottom = 0\n",
    "right = 1\n",
    "robot.move_to((right, bottom), .1);"
   ]
  },
  {
   "cell_type": "markdown",
   "id": "854f9d8d",
   "metadata": {},
   "source": [
    "2. Position the calibration board\n",
    "    * at the working distance of stl,\n",
    "    * so that the tag is slightly beyond the top left of the image of the right stl camera,\n",
    "    * so that the board is parallel to the image of the right stl camera.\n",
    "\n",
    "Make sure that the white area around the tag is fully visible on the image.\n",
    "\n",
    "For monitoring use `amlite` or `touplite`."
   ]
  },
  {
   "cell_type": "markdown",
   "id": "0f16a18e",
   "metadata": {},
   "source": [
    "3. Find the vertical position of the robot so that the tag is at the bottom left of the image of the right stl camera."
   ]
  },
  {
   "cell_type": "code",
   "execution_count": null,
   "id": "671660c6",
   "metadata": {},
   "outputs": [],
   "source": [
    "top = .235\n",
    "robot.move_to((right, top), .1);"
   ]
  },
  {
   "cell_type": "markdown",
   "id": "62b86afa",
   "metadata": {},
   "source": [
    "4. Find the horizontal position of the robot so that the tag is at the right boundary of the image of the right stl camera."
   ]
  },
  {
   "cell_type": "code",
   "execution_count": null,
   "id": "7c86562b",
   "metadata": {},
   "outputs": [],
   "source": [
    "left = .79\n",
    "robot.move_to((left, top), .1);"
   ]
  },
  {
   "cell_type": "markdown",
   "id": "571060b0",
   "metadata": {},
   "source": [
    "5. Fine tune the boundaries so that the tag is always fully visible."
   ]
  },
  {
   "cell_type": "code",
   "execution_count": null,
   "id": "e0066b71",
   "metadata": {},
   "outputs": [],
   "source": [
    "left = .789\n",
    "right = 1\n",
    "bottom = .017\n",
    "top = .243"
   ]
  },
  {
   "cell_type": "code",
   "execution_count": null,
   "id": "636bbc9e",
   "metadata": {},
   "outputs": [],
   "source": [
    "robot.move_to((left, top), .1);\n",
    "input()\n",
    "robot.move_to((right, top), .1);\n",
    "input()\n",
    "robot.move_to((right, bottom), .1);\n",
    "input()\n",
    "robot.move_to((left, bottom), .1);\n",
    "input()\n",
    "robot.move_to((left, top), .1);"
   ]
  },
  {
   "cell_type": "markdown",
   "id": "3620ec0b",
   "metadata": {},
   "source": [
    "## Find tag crop positions"
   ]
  },
  {
   "cell_type": "code",
   "execution_count": null,
   "id": "3b3f9254",
   "metadata": {},
   "outputs": [],
   "source": [
    "from time import sleep\n",
    "import sys\n",
    "\n",
    "sys.stderr = sys.__stderr__  # redirect stderr back to the shell\n",
    "\n",
    "from pupil_apriltags import Detector\n",
    "import numpy as np\n",
    "import matplotlib.pyplot as plt\n",
    "\n",
    "sys.path.append('/home/universal/Downloads/dev.sk_robot_rgbd_data/src')\n",
    "from skrgbd.calibration.calibration_helper.trajectories.stl_plane import STLCalibrationPlane, make_im_slice\n",
    "from skrgbd.devices.rig import Rig\n",
    "from skrgbd.devices.robot.robot_on_plane import RobotOnPlane"
   ]
  },
  {
   "cell_type": "code",
   "execution_count": null,
   "id": "597ee04d",
   "metadata": {},
   "outputs": [],
   "source": [
    "robot = RobotOnPlane()\n",
    "trajectory = STLCalibrationPlane(robot)\n",
    "trajectory.move_zero(.1)"
   ]
  },
  {
   "cell_type": "code",
   "execution_count": null,
   "id": "fea9e5b6",
   "metadata": {},
   "outputs": [],
   "source": [
    "rig = Rig(stl_right=True, phone_left=False, phone_right=False)\n",
    "rig.init_cameras().join()\n",
    "rig.start_cameras().join()"
   ]
  },
  {
   "cell_type": "code",
   "execution_count": null,
   "id": "e29303d0",
   "metadata": {},
   "outputs": [],
   "source": [
    "detector = Detector(\n",
    "    families='tag36h11',\n",
    "    nthreads=1,\n",
    "    quad_decimate=1.0,\n",
    "    quad_sigma=0.0,\n",
    "    refine_edges=1,\n",
    "    decode_sharpening=0.25,\n",
    "    debug=0\n",
    ")"
   ]
  },
  {
   "cell_type": "code",
   "execution_count": null,
   "id": "7d0147d4",
   "metadata": {},
   "outputs": [],
   "source": [
    "# image = rig.stl_right.snap_frame()['image']\n",
    "# image = rig.realsense.snap_frame()['image']\n",
    "# image = rig.tis_right.snap_frame()['image']\n",
    "image = rig.kinect.snap_frame()['image']\n",
    "\n",
    "if image.ndim > 2:\n",
    "    image = image[..., 1]  # keep only green channel since tag detector only works with single-channel images\n",
    "plt.imshow(image, cmap='gray')"
   ]
  },
  {
   "cell_type": "code",
   "execution_count": null,
   "id": "28b38004",
   "metadata": {},
   "outputs": [],
   "source": [
    "detection = detector.detect(image)[0]\n",
    "\n",
    "x, y = detection.center\n",
    "size = (detection.corners[0, 0] - detection.center[0]) * 2\n",
    "\n",
    "size = size * 1.3\n",
    "size = round(size)\n",
    "x = round(x)\n",
    "y = round(y)\n",
    "\n",
    "print(f'({y}, {x}), {size}')\n",
    "plt.imshow(image[make_im_slice([y, x], size)], cmap='gray')"
   ]
  },
  {
   "cell_type": "markdown",
   "id": "29498e96",
   "metadata": {},
   "source": [
    "## Check tag crop positions"
   ]
  },
  {
   "cell_type": "code",
   "execution_count": null,
   "id": "dec478be",
   "metadata": {},
   "outputs": [],
   "source": [
    "from time import sleep\n",
    "import sys\n",
    "\n",
    "sys.stderr = sys.__stderr__  # redirect stderr back to the shell\n",
    "\n",
    "sys.path.append('/home/universal/Downloads/dev.sk_robot_rgbd_data/src')\n",
    "from skrgbd.calibration.calibration_helper.trajectories.stl_plane import STLCalibrationPlane\n",
    "from skrgbd.devices.rig import Rig"
   ]
  },
  {
   "cell_type": "code",
   "execution_count": null,
   "id": "4d8f289e",
   "metadata": {},
   "outputs": [],
   "source": [
    "rig = Rig(stl_right=True, phone_left=False, phone_right=False)\n",
    "rig.init_cameras().join()\n",
    "rig.start_cameras().join()"
   ]
  },
  {
   "cell_type": "code",
   "execution_count": null,
   "id": "9869df2c",
   "metadata": {},
   "outputs": [],
   "source": [
    "trajectory = STLCalibrationPlane(None)\n",
    "trajectory.stream_tag(rig.stl_right, rig.realsense, rig.tis_left, rig.tis_right, rig.kinect)"
   ]
  },
  {
   "cell_type": "code",
   "execution_count": null,
   "id": "50ee18c4",
   "metadata": {},
   "outputs": [],
   "source": [
    "trajectory.stop_tag_streaming()"
   ]
  }
 ],
 "metadata": {
  "kernelspec": {
   "display_name": "Python 3",
   "language": "python",
   "name": "python3"
  },
  "language_info": {
   "codemirror_mode": {
    "name": "ipython",
    "version": 3
   },
   "file_extension": ".py",
   "mimetype": "text/x-python",
   "name": "python",
   "nbconvert_exporter": "python",
   "pygments_lexer": "ipython3",
   "version": "3.8.6"
  }
 },
 "nbformat": 4,
 "nbformat_minor": 5
}
