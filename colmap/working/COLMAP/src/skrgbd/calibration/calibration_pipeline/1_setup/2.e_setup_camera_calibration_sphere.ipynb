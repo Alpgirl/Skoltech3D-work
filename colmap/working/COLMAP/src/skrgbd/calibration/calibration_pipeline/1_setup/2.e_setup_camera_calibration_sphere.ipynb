{
 "cells": [
  {
   "cell_type": "markdown",
   "id": "e741443c",
   "metadata": {},
   "source": [
    "# Setup camera calibration sphere"
   ]
  },
  {
   "cell_type": "markdown",
   "id": "de40b40c",
   "metadata": {},
   "source": [
    "## Find tag crop positions"
   ]
  },
  {
   "cell_type": "code",
   "execution_count": null,
   "id": "3db75f64",
   "metadata": {},
   "outputs": [],
   "source": [
    "from time import sleep\n",
    "import sys\n",
    "\n",
    "sys.stderr = sys.__stderr__  # redirect stderr back to the shell\n",
    "\n",
    "from pupil_apriltags import Detector\n",
    "import numpy as np\n",
    "import matplotlib.pyplot as plt\n",
    "\n",
    "sys.path.append('/home/universal/Downloads/dev.sk_robot_rgbd_data/src')\n",
    "from skrgbd.calibration.calibration_helper.trajectories.camera_sphere import CameraCalibrationSphere, make_im_slice\n",
    "from skrgbd.devices.rig import Rig\n",
    "from skrgbd.devices.robot.robot_on_sphere import RobotOnSphere, RobotOnSTLSphere"
   ]
  },
  {
   "cell_type": "code",
   "execution_count": null,
   "id": "6560222e",
   "metadata": {},
   "outputs": [],
   "source": [
    "RobotOnSTLSphere().move_to((.5, .5), .1);"
   ]
  },
  {
   "cell_type": "markdown",
   "id": "3d30eeeb",
   "metadata": {},
   "source": [
    "Включите ScanCenter, включите проекцию Cross на проекторе и расположите калибровочную доску так чтобы\n",
    "* тег был над меткой на столе,\n",
    "* тег был в центре правой СТЛ камеры,\n",
    "* доска была параллельна ригу."
   ]
  },
  {
   "cell_type": "code",
   "execution_count": null,
   "id": "10e5c740",
   "metadata": {
    "scrolled": true
   },
   "outputs": [],
   "source": [
    "robot = RobotOnSphere()\n",
    "trajectory = CameraCalibrationSphere(robot)\n",
    "trajectory.move_zero(.1)"
   ]
  },
  {
   "cell_type": "code",
   "execution_count": null,
   "id": "d29e3631",
   "metadata": {},
   "outputs": [],
   "source": [
    "rig = Rig()\n",
    "rig.init_cameras().join()\n",
    "rig.start_cameras().join()"
   ]
  },
  {
   "cell_type": "code",
   "execution_count": null,
   "id": "2c54dcdb",
   "metadata": {},
   "outputs": [],
   "source": [
    "detector = Detector(\n",
    "    families='tag36h11',\n",
    "    nthreads=1,\n",
    "    quad_decimate=1.0,\n",
    "    quad_sigma=0.0,\n",
    "    refine_edges=1,\n",
    "    decode_sharpening=0.25,\n",
    "    debug=0\n",
    ")"
   ]
  },
  {
   "cell_type": "code",
   "execution_count": null,
   "id": "5911bd31",
   "metadata": {},
   "outputs": [],
   "source": [
    "# image = rig.realsense.snap_frame()['image']\n",
    "# image = rig.tis_left.snap_frame()['image']\n",
    "# image = rig.tis_right.snap_frame()['image']\n",
    "# image = rig.kinect.snap_frame()['image']\n",
    "# image = rig.phone_left.get_photo()\n",
    "image = rig.phone_right.get_photo()\n",
    "\n",
    "if image.ndim > 2:\n",
    "    image = image[..., 1]  # keep only green channel since tag detector only works with single-channel images\n",
    "# plt.imshow(image, cmap='gray')\n",
    "plt.imshow(image[::8, ::8], cmap='gray')"
   ]
  },
  {
   "cell_type": "code",
   "execution_count": null,
   "id": "1df04251",
   "metadata": {},
   "outputs": [],
   "source": [
    "detection = detector.detect(image)[0]\n",
    "\n",
    "x, y = detection.center\n",
    "size = (detection.corners[0, 0] - detection.center[0]) * 2\n",
    "\n",
    "size = size * 1.3\n",
    "size = round(size)\n",
    "x = round(x)\n",
    "y = round(y)\n",
    "\n",
    "print(f'({y}, {x}), {size}')\n",
    "plt.imshow(image[make_im_slice([y, x], size)], cmap='gray')"
   ]
  },
  {
   "cell_type": "markdown",
   "id": "fbe1593d",
   "metadata": {},
   "source": [
    "## Check tag crop positions"
   ]
  },
  {
   "cell_type": "code",
   "execution_count": null,
   "id": "63fc9714",
   "metadata": {},
   "outputs": [],
   "source": [
    "from time import sleep\n",
    "import sys\n",
    "\n",
    "sys.stderr = sys.__stderr__  # redirect stderr back to the shell\n",
    "\n",
    "sys.path.append('/home/universal/Downloads/dev.sk_robot_rgbd_data/src')\n",
    "from skrgbd.calibration.calibration_helper.trajectories.camera_sphere import CameraCalibrationSphere\n",
    "from skrgbd.devices.rig import Rig"
   ]
  },
  {
   "cell_type": "code",
   "execution_count": null,
   "id": "ef71e4bb",
   "metadata": {},
   "outputs": [],
   "source": [
    "rig = Rig()\n",
    "rig.init_cameras().join()\n",
    "rig.start_cameras().join()"
   ]
  },
  {
   "cell_type": "code",
   "execution_count": null,
   "id": "0ed14c9b",
   "metadata": {},
   "outputs": [],
   "source": [
    "trajectory = CameraCalibrationSphere(None)\n",
    "trajectory.stream_tag(rig.realsense, rig.tis_left, rig.tis_right, rig.kinect, rig.phone_left, rig.phone_right)"
   ]
  },
  {
   "cell_type": "code",
   "execution_count": null,
   "id": "6dbbdba0",
   "metadata": {},
   "outputs": [],
   "source": [
    "trajectory.stop_tag_streaming()"
   ]
  }
 ],
 "metadata": {
  "kernelspec": {
   "display_name": "Python 3",
   "language": "python",
   "name": "python3"
  },
  "language_info": {
   "codemirror_mode": {
    "name": "ipython",
    "version": 3
   },
   "file_extension": ".py",
   "mimetype": "text/x-python",
   "name": "python",
   "nbconvert_exporter": "python",
   "pygments_lexer": "ipython3",
   "version": "3.8.6"
  }
 },
 "nbformat": 4,
 "nbformat_minor": 5
}
