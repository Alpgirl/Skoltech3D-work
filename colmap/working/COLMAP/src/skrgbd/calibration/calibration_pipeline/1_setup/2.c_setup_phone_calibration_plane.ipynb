{
 "cells": [
  {
   "cell_type": "markdown",
   "id": "e741443c",
   "metadata": {},
   "source": [
    "# Setup phone calibration plane"
   ]
  },
  {
   "cell_type": "code",
   "execution_count": null,
   "id": "cf3c2468",
   "metadata": {},
   "outputs": [],
   "source": [
    "from time import sleep\n",
    "import sys\n",
    "\n",
    "from ipywidgets import Box\n",
    "from IPython.display import display\n",
    "\n",
    "sys.path.append('/home/universal/Downloads/dev.sk_robot_rgbd_data/src')\n",
    "from skrgbd.devices.robot.robot_on_plane import RobotOnPlane\n",
    "from skrgbd.devices.rig import Rig"
   ]
  },
  {
   "cell_type": "code",
   "execution_count": null,
   "id": "5318b6ca",
   "metadata": {},
   "outputs": [],
   "source": [
    "robot = RobotOnPlane()\n",
    "\n",
    "rig = Rig(stl_right=False, tis_left=False, tis_right=False, realsense=False, kinect=False,\n",
    "          phone_left=True, phone_right=True)\n",
    "rig.init_cameras().join()\n",
    "rig.start_cameras().join()\n",
    "\n",
    "for camera in rig.phones:\n",
    "    camera.setup('room_lights', 'calibration')"
   ]
  },
  {
   "cell_type": "code",
   "execution_count": null,
   "id": "d80beb25",
   "metadata": {},
   "outputs": [],
   "source": [
    "widget = Box([phone.start_streaming('ir', ticks=False) for phone in rig.phones])"
   ]
  },
  {
   "cell_type": "markdown",
   "id": "60f37505",
   "metadata": {},
   "source": [
    "1. Position the robot at middle right of the calibration plane."
   ]
  },
  {
   "cell_type": "code",
   "execution_count": null,
   "id": "7f6d76dd",
   "metadata": {},
   "outputs": [],
   "source": [
    "right = 1\n",
    "robot.move_to((right, .5), .1);"
   ]
  },
  {
   "cell_type": "markdown",
   "id": "854f9d8d",
   "metadata": {},
   "source": [
    "2. Position the calibration board\n",
    "    * at the working distance of the cameras,\n",
    "    * so that the tag is slightly beyond the left boundary of both IR images,\n",
    "    * so that the board is parallel to the image planes.\n",
    "\n",
    "Make sure that the white area around the tag is fully visible on the images."
   ]
  },
  {
   "cell_type": "code",
   "execution_count": null,
   "id": "679beada",
   "metadata": {},
   "outputs": [],
   "source": [
    "widget"
   ]
  },
  {
   "cell_type": "markdown",
   "id": "0f16a18e",
   "metadata": {},
   "source": [
    "3. Find the vertical position of the robot so that the tag is at the top boundary of all the images."
   ]
  },
  {
   "cell_type": "code",
   "execution_count": null,
   "id": "961cc52d",
   "metadata": {},
   "outputs": [],
   "source": [
    "bottom = .21\n",
    "robot.move_to((right, bottom), .1);\n",
    "widget"
   ]
  },
  {
   "cell_type": "markdown",
   "id": "62b86afa",
   "metadata": {},
   "source": [
    "4. Find the vertical position of the robot so that the tag is at the bottom boundary of all the images."
   ]
  },
  {
   "cell_type": "code",
   "execution_count": null,
   "id": "e36461bf",
   "metadata": {},
   "outputs": [],
   "source": [
    "top = .75\n",
    "robot.move_to((right, top), .1);\n",
    "widget"
   ]
  },
  {
   "cell_type": "markdown",
   "id": "1b0202e9",
   "metadata": {},
   "source": [
    "5. Find the horizontal position of the robot so that the tag is at the right boundary of all the images."
   ]
  },
  {
   "cell_type": "code",
   "execution_count": null,
   "id": "a602d9ed",
   "metadata": {},
   "outputs": [],
   "source": [
    "left = .36\n",
    "robot.move_to((left, top), .1);\n",
    "widget"
   ]
  },
  {
   "cell_type": "markdown",
   "id": "bb66a8dd",
   "metadata": {},
   "source": [
    "6. Fine tune the boundaries so that the tag is fully visible at the corner positions."
   ]
  },
  {
   "cell_type": "code",
   "execution_count": null,
   "id": "05a54b21",
   "metadata": {},
   "outputs": [],
   "source": [
    "widget"
   ]
  },
  {
   "cell_type": "code",
   "execution_count": null,
   "id": "bdf05d01",
   "metadata": {},
   "outputs": [],
   "source": [
    "left = .33\n",
    "right = .98\n",
    "bottom = .21\n",
    "top = .72\n",
    "\n",
    "robot.move_to((left, top), .1);\n",
    "robot.move_to((right, top), .1);\n",
    "robot.move_to((right, bottom), .1);\n",
    "robot.move_to((left, bottom), .1);\n",
    "robot.move_to((left, top), .1);"
   ]
  },
  {
   "cell_type": "code",
   "execution_count": null,
   "id": "aaf20fab",
   "metadata": {},
   "outputs": [],
   "source": [
    "rig.phone_left.stop_streaming('ir')\n",
    "rig.phone_right.stop_streaming('ir')"
   ]
  },
  {
   "cell_type": "markdown",
   "id": "de40b40c",
   "metadata": {},
   "source": [
    "## Find tag crop positions"
   ]
  },
  {
   "cell_type": "code",
   "execution_count": null,
   "id": "898b27d2",
   "metadata": {},
   "outputs": [],
   "source": [
    "from time import sleep\n",
    "import sys\n",
    "\n",
    "sys.stderr = sys.__stderr__  # redirect stderr back to the shell\n",
    "\n",
    "from pupil_apriltags import Detector\n",
    "import numpy as np\n",
    "import matplotlib.pyplot as plt\n",
    "\n",
    "sys.path.append('/home/universal/Downloads/dev.sk_robot_rgbd_data/src')\n",
    "from skrgbd.calibration.calibration_helper.trajectories.phone_plane import PhoneCalibrationPlane, make_im_slice\n",
    "from skrgbd.devices.rig import Rig\n",
    "from skrgbd.devices.robot.robot_on_plane import RobotOnPlane"
   ]
  },
  {
   "cell_type": "code",
   "execution_count": null,
   "id": "96d8c960",
   "metadata": {},
   "outputs": [],
   "source": [
    "robot = RobotOnPlane()\n",
    "trajectory = PhoneCalibrationPlane(robot)\n",
    "trajectory.move_zero(.1)"
   ]
  },
  {
   "cell_type": "code",
   "execution_count": null,
   "id": "6056b508",
   "metadata": {},
   "outputs": [],
   "source": [
    "rig = Rig(stl_right=False, tis_left=False, tis_right=False, realsense=False, kinect=False,\n",
    "          phone_left=True, phone_right=True)\n",
    "rig.init_cameras().join()\n",
    "rig.start_cameras().join()\n",
    "\n",
    "for camera in rig.phones:\n",
    "    camera.setup('room_lights', 'calibration')"
   ]
  },
  {
   "cell_type": "code",
   "execution_count": null,
   "id": "8d216db5",
   "metadata": {},
   "outputs": [],
   "source": [
    "detector = Detector(\n",
    "    families='tag36h11',\n",
    "    nthreads=1,\n",
    "    quad_decimate=1.0,\n",
    "    quad_sigma=0.0,\n",
    "    refine_edges=1,\n",
    "    decode_sharpening=0.25,\n",
    "    debug=0\n",
    ")"
   ]
  },
  {
   "cell_type": "code",
   "execution_count": null,
   "id": "31ba9854",
   "metadata": {},
   "outputs": [],
   "source": [
    "image = rig.phone_right.get_ir()\n",
    "\n",
    "image = np.clip((image.astype(np.float32) / image.max() * 255).round(), 0, 255).astype(np.uint8)\n",
    "plt.imshow(image, cmap='gray')"
   ]
  },
  {
   "cell_type": "code",
   "execution_count": null,
   "id": "64653020",
   "metadata": {},
   "outputs": [],
   "source": [
    "detection = detector.detect(image)[0]\n",
    "\n",
    "x, y = detection.center\n",
    "size = (detection.corners[0, 0] - detection.center[0]) * 2\n",
    "\n",
    "size = size * 1.3\n",
    "size = round(size)\n",
    "x = round(x)\n",
    "y = round(y)\n",
    "\n",
    "print(f'({y}, {x}), {size}')\n",
    "plt.imshow(image[make_im_slice([y, x], size)], cmap='gray')"
   ]
  },
  {
   "cell_type": "markdown",
   "id": "d4ca93c8",
   "metadata": {},
   "source": [
    "## Check tag crop positions"
   ]
  },
  {
   "cell_type": "code",
   "execution_count": null,
   "id": "fd941415",
   "metadata": {},
   "outputs": [],
   "source": [
    "from time import sleep\n",
    "import sys\n",
    "\n",
    "sys.stderr = sys.__stderr__  # redirect stderr back to the shell\n",
    "\n",
    "sys.path.append('/home/universal/Downloads/dev.sk_robot_rgbd_data/src')\n",
    "from skrgbd.calibration.calibration_helper.trajectories.phone_plane import PhoneCalibrationPlane\n",
    "from skrgbd.devices.rig import Rig"
   ]
  },
  {
   "cell_type": "code",
   "execution_count": null,
   "id": "f2e3ab1d",
   "metadata": {},
   "outputs": [],
   "source": [
    "rig = Rig(stl_right=False, tis_left=False, tis_right=False, realsense=False, kinect=False,\n",
    "          phone_left=True, phone_right=True)\n",
    "rig.init_cameras().join()\n",
    "rig.start_cameras().join()\n",
    "\n",
    "for camera in rig.phones:\n",
    "    camera.setup('room_lights', 'calibration')"
   ]
  },
  {
   "cell_type": "code",
   "execution_count": null,
   "id": "ff2277fd",
   "metadata": {},
   "outputs": [],
   "source": [
    "trajectory = PhoneCalibrationPlane(None)\n",
    "trajectory.stream_tag(rig.phone_left, rig.phone_right)"
   ]
  },
  {
   "cell_type": "code",
   "execution_count": null,
   "id": "4749e45b",
   "metadata": {},
   "outputs": [],
   "source": [
    "trajectory.stop_tag_streaming()"
   ]
  }
 ],
 "metadata": {
  "kernelspec": {
   "display_name": "Python 3",
   "language": "python",
   "name": "python3"
  },
  "language_info": {
   "codemirror_mode": {
    "name": "ipython",
    "version": 3
   },
   "file_extension": ".py",
   "mimetype": "text/x-python",
   "name": "python",
   "nbconvert_exporter": "python",
   "pygments_lexer": "ipython3",
   "version": "3.8.6"
  }
 },
 "nbformat": 4,
 "nbformat_minor": 5
}
