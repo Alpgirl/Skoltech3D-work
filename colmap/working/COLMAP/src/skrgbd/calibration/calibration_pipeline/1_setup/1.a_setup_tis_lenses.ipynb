{
 "cells": [
  {
   "cell_type": "markdown",
   "id": "49c8f9f1",
   "metadata": {},
   "source": [
    "# Setup lenses of TIS cameras"
   ]
  },
  {
   "cell_type": "code",
   "execution_count": null,
   "id": "05b8607f",
   "metadata": {},
   "outputs": [],
   "source": [
    "from time import sleep\n",
    "import sys\n",
    "\n",
    "from IPython.display import clear_output, display\n",
    "import matplotlib.pyplot as plt\n",
    "\n",
    "\n",
    "sys.path.append('/home/universal/Downloads/dev.sk_robot_rgbd_data/src')\n",
    "from skrgbd.devices.robot.robot_on_plane import RobotOnPlane\n",
    "from skrgbd.devices.tis import LeftTisCamera, RightTisCamera"
   ]
  },
  {
   "cell_type": "markdown",
   "id": "dd741be2",
   "metadata": {},
   "source": [
    "1. Use the star on the RangeVision calibration board to monitor the focus.\n",
    "2. Position robot at some convenient spot and position the star directly in front of the camera,\n",
    "   at the working distance, so that it is in the center of the image."
   ]
  },
  {
   "cell_type": "raw",
   "id": "157b756f",
   "metadata": {},
   "source": [
    "RobotOnPlane().move_to((1, 0), .1);"
   ]
  },
  {
   "cell_type": "markdown",
   "id": "d75c8ba0",
   "metadata": {},
   "source": [
    "3. Start the camera."
   ]
  },
  {
   "cell_type": "code",
   "execution_count": null,
   "id": "b608ed23",
   "metadata": {},
   "outputs": [],
   "source": [
    "camera = LeftTisCamera()\n",
    "camera.start()"
   ]
  },
  {
   "cell_type": "markdown",
   "id": "f9e129ad",
   "metadata": {},
   "source": [
    "4. Open the aperture, pick a good exposure value so that the image is bright enough, and find the best focal length.\n",
    "5. Then pick the best aperture, e.g fully- or semi- closed, pick a good exposure value and fine tune the focal length.\n",
    "    Keep in mind, that fully closed aperture may lead to diffraction blur (see e.g [this](https://jonrista.com/2013/03/24/the-diffraction-myth/))."
   ]
  },
  {
   "cell_type": "code",
   "execution_count": null,
   "id": "36964912",
   "metadata": {},
   "outputs": [],
   "source": [
    "camera.set_gain(0)\n",
    "camera.set_exposure(300_000)\n",
    "crop = (slice(1024-200, 1024+200), slice(1200-200, 1200+200))\n",
    "\n",
    "try:\n",
    "    f, ax = plt.subplots(1, 1, figsize=(20, 20))\n",
    "    _ = camera.snap_frame()['image'][crop]\n",
    "    plot = ax.imshow(_)\n",
    "    while True:\n",
    "        _ = camera.snap_frame()['image'][crop]\n",
    "        plot.set_data(_)\n",
    "        clear_output(wait=True)\n",
    "        display(f)\n",
    "        \n",
    "except KeyboardInterrupt:\n",
    "    pass\n",
    "plt.close()"
   ]
  }
 ],
 "metadata": {
  "kernelspec": {
   "display_name": "Python 3",
   "language": "python",
   "name": "python3"
  },
  "language_info": {
   "codemirror_mode": {
    "name": "ipython",
    "version": 3
   },
   "file_extension": ".py",
   "mimetype": "text/x-python",
   "name": "python",
   "nbconvert_exporter": "python",
   "pygments_lexer": "ipython3",
   "version": "3.8.6"
  }
 },
 "nbformat": 4,
 "nbformat_minor": 5
}
