{
 "cells": [
  {
   "cell_type": "markdown",
   "id": "e741443c",
   "metadata": {},
   "source": [
    "# Setup STL calibration table"
   ]
  },
  {
   "cell_type": "markdown",
   "id": "de40b40c",
   "metadata": {},
   "source": [
    "## Find tag crop positions"
   ]
  },
  {
   "cell_type": "code",
   "execution_count": null,
   "id": "3db75f64",
   "metadata": {},
   "outputs": [],
   "source": [
    "from time import sleep\n",
    "import sys\n",
    "\n",
    "sys.stderr = sys.__stderr__  # redirect stderr back to the shell\n",
    "\n",
    "from pupil_apriltags import Detector\n",
    "import numpy as np\n",
    "import matplotlib.pyplot as plt\n",
    "\n",
    "sys.path.append('/home/universal/Downloads/dev.sk_robot_rgbd_data/src')\n",
    "from skrgbd.calibration.trajectories.stl_table import STLCalibrationTable, make_im_slice\n",
    "from skrgbd.devices.rig import Rig\n",
    "from skrgbd.devices.robot.robot_on_table import RobotOnSTLTable"
   ]
  },
  {
   "cell_type": "code",
   "execution_count": null,
   "id": "4090b23c",
   "metadata": {},
   "outputs": [],
   "source": [
    "robot = RobotOnSTLTable()\n",
    "trajectory = STLCalibrationTable(robot)"
   ]
  },
  {
   "cell_type": "raw",
   "id": "08990863",
   "metadata": {},
   "source": [
    "for v in 'top', 'mid_left', 'mid_right', 'bot_right', 'bot_mid', 'bot_left', 'bot_bot_left', 'top':\n",
    "    robot.move_to(('C0', v), .1)\n",
    "    input()"
   ]
  },
  {
   "cell_type": "raw",
   "id": "4f84fb0c",
   "metadata": {},
   "source": [
    "for v in 'top', 'mid_left', 'mid_right', 'bot_right', 'bot_mid', 'bot_left', 'bot_bot_left', 'top':\n",
    "    robot.move_to(('C1', v), .1)\n",
    "    input()"
   ]
  },
  {
   "cell_type": "raw",
   "id": "01bbd384",
   "metadata": {},
   "source": [
    "for v in 'top', 'mid_left', 'mid_right', 'bot_right', 'bot_mid', 'bot_left', 'bot_bot_left', 'top':\n",
    "    robot.move_to(('C2', v), .1)\n",
    "    input()"
   ]
  },
  {
   "cell_type": "raw",
   "id": "35705b2a",
   "metadata": {},
   "source": [
    "for v in 'top', 'mid_left', 'mid_right', 'bot_right', 'bot_mid', 'bot_left', 'top':\n",
    "    robot.move_to(('C3', v), .1)\n",
    "    input()"
   ]
  },
  {
   "cell_type": "raw",
   "id": "93a06217",
   "metadata": {},
   "source": [
    "for v in 'top', 'mid_left', 'mid_right', 'bot_right', 'bot_mid', 'bot_left', 'top':\n",
    "    robot.move_to(('B3', v), .1)\n",
    "    input()"
   ]
  },
  {
   "cell_type": "raw",
   "id": "404b48ff",
   "metadata": {},
   "source": [
    "for v in 'top', 'mid_left', 'mid_right', 'bot_right', 'bot_mid', 'bot_left', 'top':\n",
    "    robot.move_to(('B2', v), .1)\n",
    "    input()"
   ]
  },
  {
   "cell_type": "raw",
   "id": "28906292",
   "metadata": {},
   "source": [
    "for v in 'top', 'mid_left', 'mid_right', 'bot_right', 'bot_mid', 'bot_left', 'top':\n",
    "    robot.move_to(('B1', v), .1)\n",
    "    input()"
   ]
  },
  {
   "cell_type": "raw",
   "id": "5d579837",
   "metadata": {},
   "source": [
    "for v in 'top', 'mid_left', 'mid_right', 'bot_right', 'bot_mid', 'bot_left', 'top':\n",
    "    robot.move_to(('B0', v), .1)\n",
    "    input()"
   ]
  },
  {
   "cell_type": "raw",
   "id": "dcb607df",
   "metadata": {},
   "source": [
    "for v in 'top', 'mid_left', 'mid_right', 'bot_right', 'bot_mid', 'bot_left', 'top':\n",
    "    robot.move_to(('A0', v), .1)\n",
    "    input()"
   ]
  },
  {
   "cell_type": "raw",
   "id": "3724dec0",
   "metadata": {},
   "source": [
    "for v in 'top', 'mid_left', 'mid_right', 'bot_right', 'bot_mid', 'bot_left', 'top':\n",
    "    robot.move_to(('A1', v), .1)\n",
    "    input()"
   ]
  },
  {
   "cell_type": "raw",
   "id": "3a9e21ee",
   "metadata": {},
   "source": [
    "for v in 'top', 'mid_left', 'mid_right', 'bot_right', 'bot_mid', 'bot_left', 'top':\n",
    "    robot.move_to(('A2', v), .1)\n",
    "    input()"
   ]
  },
  {
   "cell_type": "raw",
   "id": "637dd2aa",
   "metadata": {},
   "source": [
    "for v in 'top', 'mid_left', 'mid_right', 'bot_right', 'bot_bot_right', 'bot_right', 'bot_mid', 'bot_left', 'top':\n",
    "    robot.move_to(('A3', v), .1)\n",
    "    input()"
   ]
  },
  {
   "cell_type": "raw",
   "id": "cab4cfc7",
   "metadata": {},
   "source": [
    "robot.move_to(('A2', 'top'), .1);"
   ]
  },
  {
   "cell_type": "raw",
   "id": "5bbbcf53",
   "metadata": {},
   "source": [
    "robot.move_to(('A3', 'top'), .1);"
   ]
  },
  {
   "cell_type": "code",
   "execution_count": null,
   "id": "d29e3631",
   "metadata": {},
   "outputs": [],
   "source": [
    "rig = Rig(stl_right=True, phone_left=False, phone_right=False)\n",
    "rig.init_cameras().join()\n",
    "rig.start_cameras().join()"
   ]
  },
  {
   "cell_type": "code",
   "execution_count": null,
   "id": "9e53feae",
   "metadata": {},
   "outputs": [],
   "source": [
    "detector = Detector(\n",
    "    families='tag36h11',\n",
    "    nthreads=1,\n",
    "    quad_decimate=1.0,\n",
    "    quad_sigma=0.0,\n",
    "    refine_edges=1,\n",
    "    decode_sharpening=0.25,\n",
    "    debug=0\n",
    ")"
   ]
  },
  {
   "cell_type": "code",
   "execution_count": null,
   "id": "b92f078a",
   "metadata": {},
   "outputs": [],
   "source": [
    "# image = rig.stl_right.snap_frame()['image']\n",
    "# image = rig.realsense.snap_frame()['image']\n",
    "# image = rig.tis_left.snap_frame()['image']\n",
    "# image = rig.tis_right.snap_frame()['image']\n",
    "image = rig.kinect.snap_frame()['image']\n",
    "\n",
    "if image.ndim > 2:\n",
    "    image = image[..., 1]  # keep only green channel since tag detector only works with single-channel images\n",
    "plt.imshow(image, cmap='gray')"
   ]
  },
  {
   "cell_type": "code",
   "execution_count": null,
   "id": "8a5f1292",
   "metadata": {},
   "outputs": [],
   "source": [
    "detection = detector.detect(image)[0]\n",
    "\n",
    "x, y = detection.center\n",
    "size = (detection.corners[0, 0] - detection.center[0]) * 2\n",
    "\n",
    "size = size * 1.3\n",
    "size = round(size)\n",
    "x = round(x)\n",
    "y = round(y)\n",
    "\n",
    "print(f'({y}, {x}), {size}')\n",
    "plt.imshow(image[make_im_slice([y, x], size)], cmap='gray')"
   ]
  }
 ],
 "metadata": {
  "kernelspec": {
   "display_name": "Python 3",
   "language": "python",
   "name": "python3"
  },
  "language_info": {
   "codemirror_mode": {
    "name": "ipython",
    "version": 3
   },
   "file_extension": ".py",
   "mimetype": "text/x-python",
   "name": "python",
   "nbconvert_exporter": "python",
   "pygments_lexer": "ipython3",
   "version": "3.8.6"
  }
 },
 "nbformat": 4,
 "nbformat_minor": 5
}
