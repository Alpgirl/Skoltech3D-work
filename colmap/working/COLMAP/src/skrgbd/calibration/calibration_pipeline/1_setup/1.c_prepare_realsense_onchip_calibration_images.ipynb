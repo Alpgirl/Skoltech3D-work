{
 "cells": [
  {
   "cell_type": "code",
   "execution_count": null,
   "id": "e937f9a9",
   "metadata": {},
   "outputs": [],
   "source": [
    "from PIL import Image, ImageEnhance\n",
    "import torch"
   ]
  },
  {
   "cell_type": "code",
   "execution_count": null,
   "id": "f31be93c",
   "metadata": {},
   "outputs": [],
   "source": [
    "def make_pattern(h=297, w=420, square_size=5):\n",
    "    pattern = torch.rand(round(h / square_size), round(w / square_size))\n",
    "    pattern = torch.nn.functional.interpolate(pattern.unsqueeze(0).unsqueeze(1), size=(h, w)).squeeze(1).squeeze(0)\n",
    "    pattern = pattern.clamp(0, 1)\n",
    "\n",
    "    noise = torch.rand_like(pattern)\n",
    "    noise_here = torch.rand_like(pattern) > .6\n",
    "    pattern = noise.where(noise_here, pattern)\n",
    "\n",
    "    pattern = pattern.mul(255).round().byte()\n",
    "    pattern = Image.fromarray(pattern.numpy())\n",
    "    pattern = ImageEnhance.Contrast(pattern).enhance(1.5)\n",
    "    return pattern"
   ]
  },
  {
   "cell_type": "code",
   "execution_count": null,
   "id": "abb8d8d4",
   "metadata": {},
   "outputs": [],
   "source": [
    "torch.manual_seed(439857)\n",
    "for i in range(6):\n",
    "    pattern = make_pattern()\n",
    "    pattern.save(\n",
    "        f'/home/universal/Downloads/dev.sk_robot_rgbd_data/experiments/calibration/noise_patterns/{i}.pdf',\n",
    "        resolution=25.4\n",
    "    )"
   ]
  }
 ],
 "metadata": {
  "kernelspec": {
   "display_name": "Python 3",
   "language": "python",
   "name": "python3"
  },
  "language_info": {
   "codemirror_mode": {
    "name": "ipython",
    "version": 3
   },
   "file_extension": ".py",
   "mimetype": "text/x-python",
   "name": "python",
   "nbconvert_exporter": "python",
   "pygments_lexer": "ipython3",
   "version": "3.8.6"
  }
 },
 "nbformat": 4,
 "nbformat_minor": 5
}
