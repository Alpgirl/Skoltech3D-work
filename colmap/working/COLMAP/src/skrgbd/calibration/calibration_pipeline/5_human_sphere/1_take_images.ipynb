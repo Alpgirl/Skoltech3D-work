{
 "cells": [
  {
   "cell_type": "markdown",
   "metadata": {},
   "source": [
    "# Collect images for scans of people\n",
    "\n",
    "We assume that you have already calibrated the cameras using for SmallScaleSphere,\n",
    "so here we collect the images only to determine the extrinsics on the trajectory."
   ]
  },
  {
   "cell_type": "code",
   "execution_count": null,
   "metadata": {},
   "outputs": [],
   "source": [
    "import datetime\n",
    "import sys\n",
    "from time import sleep\n",
    "\n",
    "sys.path.append('/home/universal/Downloads/dev.sk_robot_rgbd_data/src')\n",
    "from skrgbd.utils.camera_utils import auto_white_balance\n",
    "from skrgbd.utils.logging import logger, tqdm\n",
    "from skrgbd.devices.robot.robot_on_human_sphere import RobotOnHumanSphere\n",
    "from skrgbd.devices.tis import LeftTisCamera as TisCamera"
   ]
  },
  {
   "cell_type": "code",
   "execution_count": null,
   "metadata": {},
   "outputs": [],
   "source": [
    "today = datetime.datetime.now().strftime('%y_%m_%d')\n",
    "logfile = f'/home/universal/Downloads/dev.sk_robot_rgbd_data/experiments/calibration/logs/{today}.log'\n",
    "logger.prepare_for_scanning(logfile)"
   ]
  },
  {
   "cell_type": "code",
   "execution_count": null,
   "metadata": {},
   "outputs": [],
   "source": [
    "camera = TisCamera()\n",
    "camera.start()\n",
    "sleep(1)"
   ]
  },
  {
   "cell_type": "code",
   "execution_count": null,
   "metadata": {},
   "outputs": [],
   "source": [
    "auto_white_balance([camera])"
   ]
  },
  {
   "cell_type": "code",
   "execution_count": null,
   "metadata": {},
   "outputs": [],
   "source": [
    "camera.setup('room_lights', 'calibration')"
   ]
  },
  {
   "cell_type": "raw",
   "metadata": {},
   "source": [
    "import matplotlib.pyplot as plt\n",
    "\n",
    "image = camera.snap_frame()['image']\n",
    "plt.figure(figsize=(15, 15))\n",
    "plt.imshow(image)"
   ]
  },
  {
   "cell_type": "code",
   "execution_count": null,
   "metadata": {},
   "outputs": [],
   "source": [
    "def take_images(images_root, board_pos, robot, points, velocity, shaking_timeout):\n",
    "    logger.info(f'Calibration: Image capture for {board_pos}')\n",
    "    def shoot(point_id, point_pos):\n",
    "        sleep(shaking_timeout)\n",
    "        image_name = f'{board_pos}_{point_id}'\n",
    "        threads = []\n",
    "        camera.save_calib_data(images_root, image_name, {'image'}, False)\n",
    "    robot.move_over_points(points, velocity, closure=shoot, show_progress=True)\n",
    "    logger.info(f'Calibration: Image capture for {board_pos} DONE')"
   ]
  },
  {
   "cell_type": "code",
   "execution_count": null,
   "metadata": {},
   "outputs": [],
   "source": [
    "calib_root = '/home/universal/Downloads/dev.sk_robot_rgbd_data/experiments/calibration/images.human_sphere'\n",
    "velocity = .1\n",
    "shaking_timeout = .5\n",
    "\n",
    "robot = RobotOnHumanSphere()\n",
    "robot.move_home(velocity);"
   ]
  },
  {
   "cell_type": "code",
   "execution_count": null,
   "metadata": {},
   "outputs": [],
   "source": [
    "board_pos = 'front_0'\n",
    "take_images(calib_root, board_pos, robot, robot.generate_trajectory_points(), velocity, shaking_timeout)"
   ]
  },
  {
   "cell_type": "code",
   "execution_count": null,
   "metadata": {},
   "outputs": [],
   "source": [
    "robot.rest(velocity)"
   ]
  }
 ],
 "metadata": {
  "kernelspec": {
   "display_name": "Python 3",
   "language": "python",
   "name": "python3"
  },
  "language_info": {
   "codemirror_mode": {
    "name": "ipython",
    "version": 3
   },
   "file_extension": ".py",
   "mimetype": "text/x-python",
   "name": "python",
   "nbconvert_exporter": "python",
   "pygments_lexer": "ipython3",
   "version": "3.8.6"
  }
 },
 "nbformat": 4,
 "nbformat_minor": 5
}
