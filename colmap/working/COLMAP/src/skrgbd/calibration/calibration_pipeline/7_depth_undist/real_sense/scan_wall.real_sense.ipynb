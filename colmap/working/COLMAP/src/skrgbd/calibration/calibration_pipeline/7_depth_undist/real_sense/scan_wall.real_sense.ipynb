{
 "cells": [
  {
   "cell_type": "code",
   "execution_count": null,
   "id": "6d5badf7",
   "metadata": {},
   "outputs": [],
   "source": [
    "import datetime\n",
    "from pathlib import Path\n",
    "import sys\n",
    "\n",
    "sys.path.append('/home/universal/Downloads/dev.sk_robot_rgbd_data/src')\n",
    "from skrgbd.utils.frame_widget import FrameWidget\n",
    "from skrgbd.data.io import imgio\n",
    "from skrgbd.utils.logging import logger, tqdm\n",
    "from skrgbd.devices.realsense import RealSense"
   ]
  },
  {
   "cell_type": "code",
   "execution_count": null,
   "id": "be880920",
   "metadata": {},
   "outputs": [],
   "source": [
    "today = datetime.datetime.now().strftime('%y_%m_%d')\n",
    "logfile = f'/home/universal/Downloads/dev.sk_robot_rgbd_data/experiments/calibration/logs/{today}.log'\n",
    "logger.prepare_for_scanning(logfile)"
   ]
  },
  {
   "cell_type": "code",
   "execution_count": null,
   "id": "9f537386",
   "metadata": {},
   "outputs": [],
   "source": [
    "cam = RealSense(rgb_enabled=False)\n",
    "cam.start()"
   ]
  },
  {
   "cell_type": "code",
   "execution_count": null,
   "id": "019e4961",
   "metadata": {},
   "outputs": [],
   "source": [
    "cam.set_ir_exposure(6000)\n",
    "cam.set_ir_gain(16)\n",
    "cam.laser_on()\n",
    "cam.set_laser_power(360)"
   ]
  },
  {
   "cell_type": "code",
   "execution_count": null,
   "id": "33190140",
   "metadata": {},
   "outputs": [],
   "source": [
    "frame = cam.snap_frame(compressed=True)\n",
    "widget = FrameWidget(lambda: frame['depth'], (8, 5), cmap='jet', vmin=500, vmax=1200)\n",
    "# widget = FrameWidget(lambda: frame['ir'], (8, 5), cmap='gray', vmin=0, vmax=1)\n",
    "widget.update()\n",
    "widget.image"
   ]
  },
  {
   "cell_type": "code",
   "execution_count": null,
   "id": "0dbcef70",
   "metadata": {},
   "outputs": [],
   "source": [
    "cam_name = 'real_sense'\n",
    "img_dir = f'/mnt/data/sk3d/calibration/images/depth_wall_{cam_name}/{cam_name}_raw'\n",
    "for mode in ['ir', 'depth']:\n",
    "    Path(f'{img_dir}/{mode}').mkdir(parents=True, exist_ok=True)\n",
    "\n",
    "img_i = 0\n",
    "while True:\n",
    "    frame = cam.snap_frame(compressed=True)\n",
    "    widget.update()\n",
    "    imgio.write_png(f'{img_dir}/ir/{img_i:06}.png', frame['ir'], optimize=False, compress_level=0)\n",
    "    imgio.write_png(f'{img_dir}/depth/{img_i:06}.png', frame['depth'], optimize=False, compress_level=0)\n",
    "    img_i += 1"
   ]
  },
  {
   "cell_type": "code",
   "execution_count": null,
   "id": "0f0625be",
   "metadata": {},
   "outputs": [],
   "source": []
  }
 ],
 "metadata": {
  "kernelspec": {
   "display_name": "Python 3",
   "language": "python",
   "name": "python3"
  },
  "language_info": {
   "codemirror_mode": {
    "name": "ipython",
    "version": 3
   },
   "file_extension": ".py",
   "mimetype": "text/x-python",
   "name": "python",
   "nbconvert_exporter": "python",
   "pygments_lexer": "ipython3",
   "version": "3.8.6"
  }
 },
 "nbformat": 4,
 "nbformat_minor": 5
}
