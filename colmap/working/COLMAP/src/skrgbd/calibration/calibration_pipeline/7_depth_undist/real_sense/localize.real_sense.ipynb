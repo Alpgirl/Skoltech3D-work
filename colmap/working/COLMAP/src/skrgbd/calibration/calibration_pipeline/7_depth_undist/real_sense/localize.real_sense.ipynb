{
 "cells": [
  {
   "cell_type": "code",
   "execution_count": null,
   "id": "c9d5066b",
   "metadata": {},
   "outputs": [],
   "source": [
    "import sys\n",
    "\n",
    "sys.path.append('/home/universal/Downloads/dev.sk_robot_rgbd_data/src')\n",
    "from skrgbd.calibration.calibration.presets.realsense import RealSenseIRCalibrator20 as Calibrator\n",
    "from skrgbd.calibration.calibration.calibrator import Localizer"
   ]
  },
  {
   "cell_type": "code",
   "execution_count": null,
   "id": "4c649710",
   "metadata": {},
   "outputs": [],
   "source": [
    "cam_name = 'real_sense'\n",
    "calib_dir = '/mnt/data/sk3d/calibration'\n",
    "ir_calibration = '/home/universal/Downloads/dev.sk_robot_rgbd_data/experiments/calibration/results/camera_plane/real_sense_ir/calibration@central_generic,14px'"
   ]
  },
  {
   "cell_type": "markdown",
   "id": "ac7d423c",
   "metadata": {},
   "source": [
    "### Extract features"
   ]
  },
  {
   "cell_type": "code",
   "execution_count": null,
   "id": "f17145f7",
   "metadata": {},
   "outputs": [],
   "source": [
    "calibrator = Calibrator(\n",
    "    img_dir=f'{calib_dir}/images/depth_wall_{cam_name}/{cam_name}_ir',\n",
    "    results_dir=f'{calib_dir}/raw_calibration/depth_wall_{cam_name}/{cam_name}_ir',\n",
    ")\n",
    "calibrator.extract_features(True)"
   ]
  },
  {
   "cell_type": "markdown",
   "id": "0220d2ed",
   "metadata": {},
   "source": [
    "### Localize"
   ]
  },
  {
   "cell_type": "code",
   "execution_count": null,
   "id": "100d9825",
   "metadata": {},
   "outputs": [],
   "source": [
    "localizer = Localizer(\n",
    "    [ir_calibration],\n",
    "    [f'{calib_dir}/raw_calibration/depth_wall_{cam_name}/{cam_name}_ir/dataset.bin'],\n",
    "    results_dir=f'{calib_dir}/raw_calibration/depth_wall_{cam_name}/{cam_name}_ir/localization'\n",
    ")\n",
    "localizer.prepare_to_localize()\n",
    "localizer.localize(True)"
   ]
  },
  {
   "cell_type": "code",
   "execution_count": null,
   "id": "629f1c84",
   "metadata": {},
   "outputs": [],
   "source": []
  }
 ],
 "metadata": {
  "kernelspec": {
   "display_name": "Python 3",
   "language": "python",
   "name": "python3"
  },
  "language_info": {
   "codemirror_mode": {
    "name": "ipython",
    "version": 3
   },
   "file_extension": ".py",
   "mimetype": "text/x-python",
   "name": "python",
   "nbconvert_exporter": "python",
   "pygments_lexer": "ipython3",
   "version": "3.8.6"
  }
 },
 "nbformat": 4,
 "nbformat_minor": 5
}
