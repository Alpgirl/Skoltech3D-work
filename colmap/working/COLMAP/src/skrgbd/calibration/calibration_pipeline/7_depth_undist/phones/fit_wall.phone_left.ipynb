{
 "cells": [
  {
   "cell_type": "code",
   "execution_count": 1,
   "id": "b4766acf",
   "metadata": {},
   "outputs": [],
   "source": [
    "from pathlib import Path\n",
    "import sys\n",
    "\n",
    "import numpy as np\n",
    "import matplotlib.pyplot as plt\n",
    "import torch\n",
    "\n",
    "sys.path.append('/code/src')\n",
    "from skrgbd.calibration.camera_models.central_generic import CentralGeneric\n",
    "from skrgbd.data.processing.processing_pipeline.depth.data_loaders import Loader, WallDataset\n",
    "from skrgbd.calibration.depth_distortion_models import PixBatchUvDUndistortionModel, save_to_pt\n",
    "from skrgbd.data.dataset.scene_paths import ScenePaths\n",
    "from skrgbd.utils.logging import tqdm\n",
    "from skrgbd.data.dataset.dataset import wip_scene_id_by_name"
   ]
  },
  {
   "cell_type": "code",
   "execution_count": 2,
   "id": "4e3cfe66",
   "metadata": {},
   "outputs": [],
   "source": [
    "cam = 'phone_left'\n",
    "\n",
    "scene_paths = ScenePaths(None, aux_dir='/data/aux', data_dir='/data/dataset')\n",
    "device, dtype = 'cuda', torch.double"
   ]
  },
  {
   "cell_type": "markdown",
   "id": "b3751c6e",
   "metadata": {},
   "source": [
    "### Load data"
   ]
  },
  {
   "cell_type": "code",
   "execution_count": 3,
   "id": "4d1366d4",
   "metadata": {},
   "outputs": [],
   "source": [
    "cam_model = scene_paths.cam_model(cam, 'ir', 'generic')\n",
    "cam_model = CentralGeneric(cam_model, dtype=dtype)\n",
    "\n",
    "train_data = f'/data/calibration/raw_calibration/depth_wall_{cam}/{cam}_tensor.npy'\n",
    "train_data = WallDataset(train_data, cam_model)"
   ]
  },
  {
   "cell_type": "code",
   "execution_count": 4,
   "id": "b87c2b3c",
   "metadata": {},
   "outputs": [
    {
     "data": {
      "application/json": {
       "ascii": false,
       "bar_format": null,
       "colour": null,
       "elapsed": 0.019269466400146484,
       "initial": 0,
       "n": 0,
       "ncols": null,
       "nrows": 59,
       "postfix": null,
       "prefix": "",
       "rate": null,
       "total": 174,
       "unit": "it",
       "unit_divisor": 1000,
       "unit_scale": false
      },
      "application/vnd.jupyter.widget-view+json": {
       "model_id": "8aed49c9c6a34f6098e0c6f2c6238784",
       "version_major": 2,
       "version_minor": 0
      },
      "text/plain": [
       "  0%|          | 0/174 [00:00<?, ?it/s]"
      ]
     },
     "metadata": {},
     "output_type": "display_data"
    },
    {
     "data": {
      "image/png": "[encoded data removed]",
      "text/plain": [
       "<Figure size 1080x360 with 1 Axes>"
      ]
     },
     "metadata": {
      "needs_background": "light"
     },
     "output_type": "display_data"
    }
   ],
   "source": [
    "if torch.device(device).type == 'cuda':\n",
    "    torch.cuda.empty_cache()\n",
    "\n",
    "def get_resids(sl_d, d):\n",
    "    res = d.div(sl_d)\n",
    "    res = res[res.isfinite()].sub_(1)\n",
    "    return res\n",
    "\n",
    "raw_resids = []\n",
    "\n",
    "train_loader = Loader(train_data, batch_size=2**20, shuffle=False)\n",
    "for uv, raw_d, sl_d in tqdm(train_loader):\n",
    "    del uv\n",
    "    raw_d = raw_d.to(device, dtype)\n",
    "    sl_d = sl_d.to(device, dtype)\n",
    "    raw_resids.append(get_resids(sl_d, raw_d).cpu()); del sl_d, raw_d\n",
    "del train_loader\n",
    "raw_resids = torch.cat(raw_resids)\n",
    "\n",
    "\n",
    "plt.figure(figsize=(15, 5))\n",
    "kwargs = dict(bins=1000, range=(-.1, .1), alpha=.5, density=True)\n",
    "\n",
    "plt.hist(raw_resids.numpy(), label='raw', **kwargs); del raw_resids\n",
    "plt.legend()\n",
    "plt.gca().set_xlabel('relative depth error');\n",
    "plt.ylim(0, 50);"
   ]
  },
  {
   "cell_type": "markdown",
   "id": "97b44761",
   "metadata": {},
   "source": [
    "### Set limits for UV and depth values"
   ]
  },
  {
   "cell_type": "code",
   "execution_count": 5,
   "id": "1c76930c",
   "metadata": {},
   "outputs": [],
   "source": [
    "min_uv, max_uv = train_data.uv.min(0)[0], train_data.uv.max(0)[0]\n",
    "min_d, max_d = torch.tensor([.5]), torch.tensor([1.3])\n",
    "\n",
    "step_uv = torch.tensor([20, 20])\n",
    "step_d = torch.tensor([.1])"
   ]
  },
  {
   "cell_type": "markdown",
   "id": "dd8b8d6f",
   "metadata": {},
   "source": [
    "### Define interpolation cells with enough training data"
   ]
  },
  {
   "cell_type": "code",
   "execution_count": 6,
   "id": "752ca975",
   "metadata": {},
   "outputs": [],
   "source": [
    "undist_model = PixBatchUvDUndistortionModel.from_sizes(min_uv, max_uv, step_uv, min_d, max_d, step_d)"
   ]
  },
  {
   "cell_type": "markdown",
   "id": "a14dea67",
   "metadata": {},
   "source": [
    "Discard out-of-bounds training points."
   ]
  },
  {
   "cell_type": "code",
   "execution_count": 7,
   "id": "d99484a0",
   "metadata": {},
   "outputs": [
    {
     "name": "stdout",
     "output_type": "stream",
     "text": [
      "Discarding 12086383 / 182416939, i.e 6.6% OOB points.\n"
     ]
    }
   ],
   "source": [
    "uv = train_data.uv\n",
    "u_ids, v_ids = undist_model.uv_spline.get_cell_ids(uv).unbind(1); del uv\n",
    "\n",
    "raw_d = train_data.raw_d\n",
    "d_ids = undist_model.d_spline.get_cell_ids(raw_d.unsqueeze(-1)).squeeze(-1); del raw_d\n",
    "\n",
    "is_in_bounds = (u_ids != -1).logical_and_(v_ids != -1).logical_and_(d_ids != -1)\n",
    "u_ids = u_ids[is_in_bounds]\n",
    "v_ids = v_ids[is_in_bounds]\n",
    "d_ids = d_ids[is_in_bounds]\n",
    "\n",
    "all_pts_n = len(is_in_bounds); del is_in_bounds\n",
    "oob_pts_n = all_pts_n - len(u_ids)\n",
    "\n",
    "print(f'Discarding {oob_pts_n} / {all_pts_n}, i.e {oob_pts_n * 100 / all_pts_n:.2}% OOB points.')"
   ]
  },
  {
   "cell_type": "markdown",
   "id": "64ea0f33",
   "metadata": {},
   "source": [
    "Calculate distribution of training points across cells."
   ]
  },
  {
   "cell_type": "code",
   "execution_count": 8,
   "id": "39cb63a9",
   "metadata": {},
   "outputs": [
    {
     "data": {
      "image/png": "[encoded data removed]",
      "text/plain": [
       "<Figure size 432x288 with 1 Axes>"
      ]
     },
     "metadata": {
      "needs_background": "light"
     },
     "output_type": "display_data"
    }
   ],
   "source": [
    "all_pts_n = len(u_ids)\n",
    "\n",
    "hist = torch.zeros_like(undist_model.cell_is_calib, dtype=torch.long)\n",
    "vals = hist.new_ones(1).expand(all_pts_n)\n",
    "hist.index_put_([u_ids, v_ids, d_ids], vals, accumulate=True); del u_ids, v_ids, d_ids, vals\n",
    "\n",
    "plt.hist(hist.ravel().cpu().numpy(), 100)\n",
    "plt.yscale('log')"
   ]
  },
  {
   "cell_type": "markdown",
   "id": "efbf258a",
   "metadata": {},
   "source": [
    "Define calibrated cells with enough training points."
   ]
  },
  {
   "cell_type": "code",
   "execution_count": 9,
   "id": "c511c052",
   "metadata": {},
   "outputs": [
    {
     "name": "stdout",
     "output_type": "stream",
     "text": [
      "Discarding 10831 / 170330556, i.e 0.0064% points.\n",
      "Calibrated cells 660 / 1170.\n"
     ]
    }
   ],
   "source": [
    "min_pts_n_per_cell = 1000\n",
    "\n",
    "cell_is_calib = hist >= min_pts_n_per_cell\n",
    "\n",
    "discarded_pts_n = hist[~cell_is_calib].sum()\n",
    "print(f'Discarding {discarded_pts_n} / {all_pts_n}, i.e {(discarded_pts_n / all_pts_n) *  100:.2}% points.')\n",
    "\n",
    "cells_n = cell_is_calib.numel()\n",
    "calib_cells_n = cell_is_calib.sum().item()\n",
    "print(f'Calibrated cells {calib_cells_n} / {cells_n}.')"
   ]
  },
  {
   "cell_type": "raw",
   "id": "2a75aa7d",
   "metadata": {},
   "source": [
    "plt.imshow(cell_is_calib[..., 0].T)"
   ]
  },
  {
   "cell_type": "markdown",
   "id": "2b58ad86",
   "metadata": {},
   "source": [
    "### Train model"
   ]
  },
  {
   "cell_type": "code",
   "execution_count": 10,
   "id": "d16c0d96",
   "metadata": {},
   "outputs": [
    {
     "data": {
      "application/json": {
       "ascii": false,
       "bar_format": null,
       "colour": null,
       "elapsed": 0.015529870986938477,
       "initial": 0,
       "n": 0,
       "ncols": null,
       "nrows": 59,
       "postfix": null,
       "prefix": "",
       "rate": null,
       "total": 696,
       "unit": "it",
       "unit_divisor": 1000,
       "unit_scale": false
      },
      "application/vnd.jupyter.widget-view+json": {
       "model_id": "71ab15ba6fe04f3f88d21e87cce383d1",
       "version_major": 2,
       "version_minor": 0
      },
      "text/plain": [
       "  0%|          | 0/696 [00:00<?, ?it/s]"
      ]
     },
     "metadata": {},
     "output_type": "display_data"
    },
    {
     "name": "stderr",
     "output_type": "stream",
     "text": [
      "Exception ignored in: <function tqdm.__del__ at 0x1553ff6f3820>\n",
      "Traceback (most recent call last):\n",
      "  File \"/code/src/skrgbd/utils/logging/_tqdm.py\", line 37, in __del__\n",
      "    self._logger.handlers[0] = self._default_handler\n",
      "AttributeError: 'tqdm' object has no attribute '_default_handler'\n"
     ]
    },
    {
     "data": {
      "image/png": "[encoded data removed]",
      "text/plain": [
       "<Figure size 432x288 with 1 Axes>"
      ]
     },
     "metadata": {
      "needs_background": "light"
     },
     "output_type": "display_data"
    }
   ],
   "source": [
    "if torch.device(device).type == 'cuda':\n",
    "    torch.cuda.empty_cache()\n",
    "\n",
    "train_loader = Loader(train_data, batch_size=2**18, shuffle=True)\n",
    "\n",
    "undist_model = PixBatchUvDUndistortionModel.from_sizes(min_uv, max_uv, step_uv, min_d, max_d, step_d)\n",
    "undist_model.cell_is_calib.data.copy_(cell_is_calib)\n",
    "undist_model = undist_model.to(device, dtype).requires_grad_(True)\n",
    "\n",
    "\n",
    "def fit_model(epochs_n=1, lr=1e-3):\n",
    "    optim = torch.optim.Adam([*undist_model.parameters()], lr=lr)\n",
    "    train_costs = []\n",
    "    for epoch_i in range(epochs_n):\n",
    "        for uv, raw_d, sl_d in tqdm(train_loader):\n",
    "            uv = uv.to(device, dtype)\n",
    "            raw_d = raw_d.to(device, dtype)\n",
    "            sl_d = sl_d.to(device, dtype)\n",
    "            def closure():\n",
    "                optim.zero_grad()\n",
    "                d = undist_model(uv, raw_d.unsqueeze(1))\n",
    "                cost = cost_fn(sl_d, d)\n",
    "                cost.backward()\n",
    "                train_costs.append(float(cost))\n",
    "                return cost\n",
    "            optim.step(closure); del uv, raw_d, sl_d\n",
    "    return train_costs\n",
    "\n",
    "\n",
    "def cost_fn(sl_d, d):\n",
    "    res = d.div_(sl_d)\n",
    "    res = res[res.isfinite()].sub_(1)\n",
    "    cost = welsch(res, .05 / 3)\n",
    "    return cost\n",
    "\n",
    "\n",
    "def welsch(res, c):\n",
    "    res = res.div(c).pow_(2).div_(-2)\n",
    "    res = res.expm1_().neg()\n",
    "    res = res.mean()\n",
    "    return res\n",
    "\n",
    "\n",
    "train_costs = fit_model(epochs_n=1, lr=1e-3)\n",
    "plt.plot(train_costs)\n",
    "plt.yscale('log')"
   ]
  },
  {
   "cell_type": "markdown",
   "id": "f18a6e2c",
   "metadata": {},
   "source": [
    "### Check distribution of errors"
   ]
  },
  {
   "cell_type": "code",
   "execution_count": 11,
   "id": "5bd5a3d8",
   "metadata": {},
   "outputs": [
    {
     "data": {
      "application/json": {
       "ascii": false,
       "bar_format": null,
       "colour": null,
       "elapsed": 0.01844644546508789,
       "initial": 0,
       "n": 0,
       "ncols": null,
       "nrows": 59,
       "postfix": null,
       "prefix": "",
       "rate": null,
       "total": 174,
       "unit": "it",
       "unit_divisor": 1000,
       "unit_scale": false
      },
      "application/vnd.jupyter.widget-view+json": {
       "model_id": "a51d50aecd9c439d8097877189f682e9",
       "version_major": 2,
       "version_minor": 0
      },
      "text/plain": [
       "  0%|          | 0/174 [00:00<?, ?it/s]"
      ]
     },
     "metadata": {},
     "output_type": "display_data"
    }
   ],
   "source": [
    "if torch.device(device).type == 'cuda':\n",
    "    torch.cuda.empty_cache()\n",
    "undist_model = undist_model.requires_grad_(False)\n",
    "\n",
    "def get_resids(sl_d, d):\n",
    "    res = d.div(sl_d)\n",
    "    res = res[res.isfinite()].sub_(1)\n",
    "    return res\n",
    "\n",
    "raw_resids = []\n",
    "undist_resids = []\n",
    "\n",
    "train_loader = Loader(train_data, batch_size=2**20, shuffle=False)\n",
    "for uv, raw_d, sl_d in tqdm(train_loader):\n",
    "    uv = uv.to(device, dtype)\n",
    "    raw_d = raw_d.to(device, dtype)\n",
    "    sl_d = sl_d.to(device, dtype)\n",
    "    raw_resids.append(get_resids(sl_d, raw_d).cpu())\n",
    "    d = undist_model(uv, raw_d.unsqueeze(1)); del uv, raw_d\n",
    "    undist_resids.append(get_resids(sl_d, d).cpu()); del d, sl_d\n",
    "raw_resids = torch.cat(raw_resids)\n",
    "undist_resids = torch.cat(undist_resids)"
   ]
  },
  {
   "cell_type": "code",
   "execution_count": 12,
   "id": "8b5ae8e2",
   "metadata": {},
   "outputs": [
    {
     "data": {
      "image/png": "[encoded data removed]",
      "text/plain": [
       "<Figure size 1080x360 with 1 Axes>"
      ]
     },
     "metadata": {
      "needs_background": "light"
     },
     "output_type": "display_data"
    }
   ],
   "source": [
    "plt.figure(figsize=(15, 5))\n",
    "kwargs = dict(bins=1000, range=(-.1, .1), alpha=.5, density=True)\n",
    "\n",
    "plt.hist(raw_resids.numpy(), label='raw', **kwargs)\n",
    "plt.hist(undist_resids.numpy(), label='undist', **kwargs)\n",
    "plt.legend()\n",
    "plt.gca().set_xlabel('relative depth error');\n",
    "plt.ylim(0, 100);"
   ]
  },
  {
   "cell_type": "markdown",
   "id": "ae255e9c",
   "metadata": {},
   "source": [
    "### Save model"
   ]
  },
  {
   "cell_type": "code",
   "execution_count": 13,
   "id": "52695d37",
   "metadata": {},
   "outputs": [],
   "source": [
    "undist_model_pt = scene_paths.undist_model(cam, 'depth', 'wall')\n",
    "Path(undist_model_pt).parent.mkdir(exist_ok=True, parents=True)\n",
    "save_to_pt(undist_model_pt, undist_model)"
   ]
  },
  {
   "cell_type": "code",
   "execution_count": null,
   "id": "14a17f37",
   "metadata": {},
   "outputs": [],
   "source": []
  }
 ],
 "metadata": {
  "kernelspec": {
   "display_name": "Python 3 (ipykernel)",
   "language": "python",
   "name": "python3"
  },
  "language_info": {
   "codemirror_mode": {
    "name": "ipython",
    "version": 3
   },
   "file_extension": ".py",
   "mimetype": "text/x-python",
   "name": "python",
   "nbconvert_exporter": "python",
   "pygments_lexer": "ipython3",
   "version": "3.8.13"
  }
 },
 "nbformat": 4,
 "nbformat_minor": 5
}
