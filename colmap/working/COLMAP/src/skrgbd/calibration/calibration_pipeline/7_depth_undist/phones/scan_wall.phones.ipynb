{
 "cells": [
  {
   "cell_type": "code",
   "execution_count": null,
   "id": "6d5badf7",
   "metadata": {},
   "outputs": [],
   "source": [
    "import datetime\n",
    "from pathlib import Path\n",
    "import sys\n",
    "\n",
    "from ppadb.client import Client as AdbClient\n",
    "import numpy as np\n",
    "\n",
    "sys.path.append('/home/universal/Downloads/dev.sk_robot_rgbd_data/src')\n",
    "from skrgbd.utils.frame_widget import FrameWidget\n",
    "from skrgbd.data.io import imgio\n",
    "from skrgbd.utils.logging import logger, tqdm\n",
    "from skrgbd.devices.phone import convert_bin_to_img, LeftPhone, RightPhone, scan_root\n",
    "\n",
    "RightPhone.serial = RightPhone.usb_serial\n",
    "LeftPhone.serial = LeftPhone.usb_serial"
   ]
  },
  {
   "cell_type": "code",
   "execution_count": null,
   "id": "94dfca8b",
   "metadata": {},
   "outputs": [],
   "source": [
    "today = datetime.datetime.now().strftime('%y_%m_%d')\n",
    "logfile = f'/home/universal/Downloads/dev.sk_robot_rgbd_data/experiments/calibration/logs/{today}.log'\n",
    "logger.prepare_for_scanning(logfile)"
   ]
  },
  {
   "cell_type": "code",
   "execution_count": null,
   "id": "ab745b56",
   "metadata": {},
   "outputs": [],
   "source": [
    "client = AdbClient(host='127.0.0.1', port=5037)\n",
    "# cam = RightPhone(client)\n",
    "cam = LeftPhone(client)\n",
    "cam.start()"
   ]
  },
  {
   "cell_type": "code",
   "execution_count": null,
   "id": "1b27b7fb",
   "metadata": {},
   "outputs": [],
   "source": [
    "def prepare(self):\n",
    "    self.clean_scans()\n",
    "    self.prepare_scan_dir('depth_wall')\n",
    "\n",
    "    \n",
    "def save_imgs(self, i):\n",
    "    path = f'{scan_root}/depth_wall/{self.name}/{i:06}'\n",
    "    self.save_ir(path)\n",
    "    self.save_depth(path)\n",
    "\n",
    "\n",
    "def read_img(self, i, mode='ir'):\n",
    "    path = f'{scan_root}/depth_wall/{self.name}/{i:06}_{mode}.bin'\n",
    "    img = self.read_file(path)\n",
    "    img = np.frombuffer(img, dtype=np.uint16)\n",
    "    img = img.reshape(180, 240)\n",
    "    img = np.rot90(img, 2)\n",
    "    return img"
   ]
  },
  {
   "cell_type": "code",
   "execution_count": null,
   "id": "aacf18ef",
   "metadata": {},
   "outputs": [],
   "source": [
    "prepare(cam)\n",
    "\n",
    "img_i = 0\n",
    "save_imgs(cam, img_i)\n",
    "# widget = FrameWidget(lambda: read_img(cam, img_i, 'depth'), (8, 5), cmap='jet', vmin=500, vmax=1200)\n",
    "widget = FrameWidget(lambda: read_img(cam, img_i, 'ir'), (8, 5), cmap='gray')\n",
    "widget.update()\n",
    "widget.image"
   ]
  },
  {
   "cell_type": "code",
   "execution_count": null,
   "id": "bd870fad",
   "metadata": {},
   "outputs": [],
   "source": [
    "img_i = 0\n",
    "while True:\n",
    "    save_imgs(cam, img_i)\n",
    "    widget.update()\n",
    "    img_i += 1"
   ]
  },
  {
   "cell_type": "code",
   "execution_count": null,
   "id": "96153f06",
   "metadata": {},
   "outputs": [],
   "source": [
    "cam.pull_scans('/mnt/data/sk3d/calibration/images', rm=False)\n",
    "convert_bin_to_img('/mnt/data/sk3d/calibration/images')"
   ]
  },
  {
   "cell_type": "code",
   "execution_count": null,
   "id": "30d1c4fb",
   "metadata": {},
   "outputs": [],
   "source": [
    "cam.clean_scans()"
   ]
  },
  {
   "cell_type": "code",
   "execution_count": null,
   "id": "e36f5e6d",
   "metadata": {},
   "outputs": [],
   "source": [
    "cam.stop()"
   ]
  },
  {
   "cell_type": "code",
   "execution_count": null,
   "id": "e759069d",
   "metadata": {},
   "outputs": [],
   "source": []
  }
 ],
 "metadata": {
  "kernelspec": {
   "display_name": "Python 3",
   "language": "python",
   "name": "python3"
  },
  "language_info": {
   "codemirror_mode": {
    "name": "ipython",
    "version": 3
   },
   "file_extension": ".py",
   "mimetype": "text/x-python",
   "name": "python",
   "nbconvert_exporter": "python",
   "pygments_lexer": "ipython3",
   "version": "3.8.6"
  }
 },
 "nbformat": 4,
 "nbformat_minor": 5
}
