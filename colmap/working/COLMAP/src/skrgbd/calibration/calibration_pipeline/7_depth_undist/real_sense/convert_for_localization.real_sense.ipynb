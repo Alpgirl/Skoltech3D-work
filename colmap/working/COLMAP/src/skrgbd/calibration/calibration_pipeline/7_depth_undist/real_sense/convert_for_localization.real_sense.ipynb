{
 "cells": [
  {
   "cell_type": "code",
   "execution_count": null,
   "id": "d7c460cd",
   "metadata": {},
   "outputs": [],
   "source": [
    "import os\n",
    "from pathlib import Path\n",
    "\n",
    "from tqdm.auto import tqdm"
   ]
  },
  {
   "cell_type": "code",
   "execution_count": null,
   "id": "070699a1",
   "metadata": {},
   "outputs": [],
   "source": [
    "cam_name = 'real_sense'\n",
    "calib_dir = '/mnt/data/sk3d/calibration'\n",
    "\n",
    "for i in tqdm(range(0, 10_000)):\n",
    "    src = f'{calib_dir}/images/depth_wall_{cam_name}/{cam_name}_raw/ir/{i:06}.png'\n",
    "    dst = f'{calib_dir}/images/depth_wall_{cam_name}/{cam_name}_ir/{i:06}.png'\n",
    "    Path(dst).parent.mkdir(parents=True, exist_ok=True)\n",
    "    os.link(src, dst)"
   ]
  },
  {
   "cell_type": "code",
   "execution_count": null,
   "id": "87618a1a",
   "metadata": {},
   "outputs": [],
   "source": []
  }
 ],
 "metadata": {
  "kernelspec": {
   "display_name": "Python 3",
   "language": "python",
   "name": "python3"
  },
  "language_info": {
   "codemirror_mode": {
    "name": "ipython",
    "version": 3
   },
   "file_extension": ".py",
   "mimetype": "text/x-python",
   "name": "python",
   "nbconvert_exporter": "python",
   "pygments_lexer": "ipython3",
   "version": "3.8.6"
  }
 },
 "nbformat": 4,
 "nbformat_minor": 5
}
