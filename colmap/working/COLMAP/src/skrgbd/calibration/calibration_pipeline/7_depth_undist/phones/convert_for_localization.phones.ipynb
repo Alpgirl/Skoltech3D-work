{
 "cells": [
  {
   "cell_type": "code",
   "execution_count": null,
   "id": "d7c460cd",
   "metadata": {},
   "outputs": [],
   "source": [
    "import os\n",
    "from pathlib import Path\n",
    "import sys\n",
    "\n",
    "from PIL import Image\n",
    "from tqdm.auto import tqdm\n",
    "\n",
    "sys.path.append('/home/universal/Downloads/dev.sk_robot_rgbd_data/src')\n",
    "from skrgbd.data.io import imgio\n",
    "from skrgbd.devices.phone import visualize_ir"
   ]
  },
  {
   "cell_type": "code",
   "execution_count": null,
   "id": "070699a1",
   "metadata": {},
   "outputs": [],
   "source": [
    "cam_name = 'phone_right'\n",
    "calib_dir = '/mnt/data/sk3d/calibration'\n",
    "\n",
    "for i in tqdm(range(0, 10_000)):\n",
    "    src = f'{calib_dir}/images/depth_wall_{cam_name}/{cam_name}_raw/ir/{i:06}.png'\n",
    "    src = imgio.read.phone_right.ir(src)\n",
    "    equalized = visualize_ir(src, equalize=True)\n",
    "    dst = f'{calib_dir}/images/depth_wall_{cam_name}/{cam_name}_ir/{i:06}.png'\n",
    "    Path(dst).parent.mkdir(parents=True, exist_ok=True)\n",
    "    Image.fromarray(equalized).save(dst)"
   ]
  },
  {
   "cell_type": "code",
   "execution_count": null,
   "id": "37d13d56",
   "metadata": {},
   "outputs": [],
   "source": []
  }
 ],
 "metadata": {
  "kernelspec": {
   "display_name": "Python 3",
   "language": "python",
   "name": "python3"
  },
  "language_info": {
   "codemirror_mode": {
    "name": "ipython",
    "version": 3
   },
   "file_extension": ".py",
   "mimetype": "text/x-python",
   "name": "python",
   "nbconvert_exporter": "python",
   "pygments_lexer": "ipython3",
   "version": "3.8.6"
  }
 },
 "nbformat": 4,
 "nbformat_minor": 5
}
