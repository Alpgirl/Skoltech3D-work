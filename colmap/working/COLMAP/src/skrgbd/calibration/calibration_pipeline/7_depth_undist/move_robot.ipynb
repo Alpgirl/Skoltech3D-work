{
 "cells": [
  {
   "cell_type": "code",
   "execution_count": null,
   "id": "ecb70df3",
   "metadata": {},
   "outputs": [],
   "source": [
    "import sys\n",
    "\n",
    "import torch\n",
    "torch.set_default_dtype(torch.float64)\n",
    "\n",
    "sys.path.append('/home/universal/Downloads/dev.sk_robot_rgbd_data/src')\n",
    "from skrgbd.devices.robot.robot_on_calib_wall import RobotOnWall"
   ]
  },
  {
   "cell_type": "code",
   "execution_count": null,
   "id": "8899707b",
   "metadata": {},
   "outputs": [],
   "source": [
    "robot = RobotOnWall()"
   ]
  },
  {
   "cell_type": "code",
   "execution_count": null,
   "id": "2ef11f41",
   "metadata": {},
   "outputs": [],
   "source": [
    "robot.rest(.1)"
   ]
  },
  {
   "cell_type": "code",
   "execution_count": null,
   "id": "488ca2d2",
   "metadata": {},
   "outputs": [],
   "source": [
    "robot.move_to_bridge(.1)"
   ]
  },
  {
   "cell_type": "code",
   "execution_count": null,
   "id": "2b739a1b",
   "metadata": {},
   "outputs": [],
   "source": [
    "robot.move_to_wall_home(.1)"
   ]
  },
  {
   "cell_type": "code",
   "execution_count": null,
   "id": "cf52f2e1",
   "metadata": {},
   "outputs": [],
   "source": [
    "velocity = .01\n",
    "\n",
    "while True:\n",
    "    for pos in [\n",
    "        robot.wall_home,\n",
    "        robot.cu, \n",
    "        robot.cd,\n",
    "        robot.rc,\n",
    "        robot.lc\n",
    "    ]:\n",
    "        robot.move_on_wall_to(pos, velocity)\n",
    "        robot.move_from_pt_to_board(pos, velocity=velocity)\n",
    "        robot.move_on_wall_to(pos, velocity)\n",
    "\n",
    "robot.move_to_wall_home(velocity)"
   ]
  }
 ],
 "metadata": {
  "kernelspec": {
   "display_name": "Python 3",
   "language": "python",
   "name": "python3"
  },
  "language_info": {
   "codemirror_mode": {
    "name": "ipython",
    "version": 3
   },
   "file_extension": ".py",
   "mimetype": "text/x-python",
   "name": "python",
   "nbconvert_exporter": "python",
   "pygments_lexer": "ipython3",
   "version": "3.8.6"
  }
 },
 "nbformat": 4,
 "nbformat_minor": 5
}
