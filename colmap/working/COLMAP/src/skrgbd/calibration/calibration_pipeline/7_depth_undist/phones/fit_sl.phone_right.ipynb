{
 "cells": [
  {
   "cell_type": "code",
   "execution_count": 1,
   "id": "b4766acf",
   "metadata": {},
   "outputs": [],
   "source": [
    "from pathlib import Path\n",
    "import sys\n",
    "\n",
    "import numpy as np\n",
    "import matplotlib.pyplot as plt\n",
    "import torch\n",
    "\n",
    "sys.path.append('/code/src')\n",
    "from skrgbd.calibration.camera_models.central_generic import CentralGeneric\n",
    "from skrgbd.calibration.depth_distortion_models import load_from_pt, save_to_pt\n",
    "from skrgbd.data.processing.processing_pipeline.depth.data_loaders import Loader, SLDataset\n",
    "from skrgbd.data.dataset.scene_paths import ScenePaths\n",
    "from skrgbd.utils.logging import tqdm\n",
    "from skrgbd.calibration.depth_distortion_models.uv_d_cubic_bspline import UvDUndistortionModel\n",
    "from skrgbd.data.dataset.dataset import wip_scene_id_by_name"
   ]
  },
  {
   "cell_type": "code",
   "execution_count": 2,
   "id": "4e3cfe66",
   "metadata": {},
   "outputs": [],
   "source": [
    "cam = 'phone_right'\n",
    "\n",
    "excluded_scenes = [\n",
    "    # Transparent\n",
    "    'plastic_micro_cover', 'orange_mini_vacuum', 'purple_iron',\n",
    "    # Shiny \n",
    "    'steel_grater', 'white_toaster', \n",
    "]\n",
    "scene_names = list(filter(lambda scene_name: scene_name not in excluded_scenes, wip_scene_id_by_name.keys()))\n",
    "\n",
    "device, dtype = 'cuda', torch.double"
   ]
  },
  {
   "cell_type": "markdown",
   "id": "d000143d",
   "metadata": {},
   "source": [
    "### Load data"
   ]
  },
  {
   "cell_type": "code",
   "execution_count": 3,
   "id": "f0aa1281",
   "metadata": {},
   "outputs": [
    {
     "data": {
      "application/json": {
       "ascii": false,
       "bar_format": null,
       "colour": null,
       "elapsed": 0.019224882125854492,
       "initial": 0,
       "n": 0,
       "ncols": null,
       "nrows": 69,
       "postfix": null,
       "prefix": "",
       "rate": null,
       "total": 102,
       "unit": "it",
       "unit_divisor": 1000,
       "unit_scale": false
      },
      "application/vnd.jupyter.widget-view+json": {
       "model_id": "af3a8f8f69d64058868740a53e6d04b6",
       "version_major": 2,
       "version_minor": 0
      },
      "text/plain": [
       "  0%|          | 0/102 [00:00<?, ?it/s]"
      ]
     },
     "metadata": {},
     "output_type": "display_data"
    }
   ],
   "source": [
    "scene_paths = [ScenePaths(scene_name, aux_dir='/data/aux', data_dir='/data/dataset') for scene_name in scene_names]\n",
    "\n",
    "cam_model = scene_paths[0].cam_model(cam, 'ir', 'generic')\n",
    "cam_model = CentralGeneric(cam_model, dtype=dtype)\n",
    "train_data = SLDataset(scene_paths, cam, cam_model)"
   ]
  },
  {
   "cell_type": "code",
   "execution_count": 4,
   "id": "fc9e9bdf",
   "metadata": {},
   "outputs": [],
   "source": [
    "all_data = train_data.view_i, train_data.cos, train_data.raw_d, train_data.sl_d, train_data.uv"
   ]
  },
  {
   "cell_type": "code",
   "execution_count": 5,
   "id": "90e02a14",
   "metadata": {},
   "outputs": [],
   "source": [
    "train_data.view_i, train_data.cos, train_data.raw_d, train_data.sl_d, train_data.uv = all_data"
   ]
  },
  {
   "cell_type": "code",
   "execution_count": 6,
   "id": "a72e8e4e",
   "metadata": {},
   "outputs": [],
   "source": [
    "max_angle_deg = 45\n",
    "mask = train_data.cos <= -np.cos(np.deg2rad(max_angle_deg))\n",
    "\n",
    "mask = mask.logical_and_(train_data.view_i <= 11)  # only the bottom row\n",
    "\n",
    "train_data.raw_d, train_data.sl_d, train_data.uv = train_data.raw_d[mask], train_data.sl_d[mask], train_data.uv[mask]"
   ]
  },
  {
   "cell_type": "markdown",
   "id": "6071c4a0",
   "metadata": {},
   "source": [
    "### Load wall undist model"
   ]
  },
  {
   "cell_type": "code",
   "execution_count": 7,
   "id": "d5e4e07d",
   "metadata": {},
   "outputs": [],
   "source": [
    "undist_model = scene_paths[0].undist_model(cam, 'depth', 'wall')\n",
    "undist_model = load_from_pt(undist_model).to(device, dtype)"
   ]
  },
  {
   "cell_type": "markdown",
   "id": "12b93bab",
   "metadata": {},
   "source": [
    "### Compute base errors"
   ]
  },
  {
   "cell_type": "code",
   "execution_count": 8,
   "id": "e19ba0e7",
   "metadata": {},
   "outputs": [],
   "source": [
    "def get_resids(sl_d, d):\n",
    "    res = d.div(sl_d)\n",
    "    res = res[res.isfinite()].sub_(1)\n",
    "    return res"
   ]
  },
  {
   "cell_type": "code",
   "execution_count": 9,
   "id": "43c33195",
   "metadata": {},
   "outputs": [
    {
     "data": {
      "application/json": {
       "ascii": false,
       "bar_format": null,
       "colour": null,
       "elapsed": 0.015358924865722656,
       "initial": 0,
       "n": 0,
       "ncols": null,
       "nrows": 69,
       "postfix": null,
       "prefix": "",
       "rate": null,
       "total": 2,
       "unit": "it",
       "unit_divisor": 1000,
       "unit_scale": false
      },
      "application/vnd.jupyter.widget-view+json": {
       "model_id": "14b2d00b3b33463695aa63f843b7f08e",
       "version_major": 2,
       "version_minor": 0
      },
      "text/plain": [
       "  0%|          | 0/2 [00:00<?, ?it/s]"
      ]
     },
     "metadata": {},
     "output_type": "display_data"
    }
   ],
   "source": [
    "if torch.device(device).type == 'cuda':\n",
    "    torch.cuda.empty_cache()\n",
    "\n",
    "raw_resids = []\n",
    "wall_resids = []\n",
    "\n",
    "train_loader = Loader(train_data, batch_size=2**20, shuffle=False)\n",
    "for uv, raw_d, sl_d in tqdm(train_loader):\n",
    "    uv = uv.to(device, dtype)\n",
    "    raw_d = raw_d.to(device, dtype)\n",
    "    sl_d = sl_d.to(device, dtype)\n",
    "    raw_resids.append(get_resids(sl_d, raw_d).cpu())\n",
    "    d = undist_model(uv, raw_d.unsqueeze(1)); del uv, raw_d\n",
    "    wall_resids.append(get_resids(sl_d, d).cpu()); del d, sl_d\n",
    "raw_resids = torch.cat(raw_resids)\n",
    "wall_resids = torch.cat(wall_resids)"
   ]
  },
  {
   "cell_type": "code",
   "execution_count": 10,
   "id": "8b8348d1",
   "metadata": {},
   "outputs": [
    {
     "data": {
      "image/png": "[encoded data removed]",
      "text/plain": [
       "<Figure size 1080x360 with 1 Axes>"
      ]
     },
     "metadata": {
      "needs_background": "light"
     },
     "output_type": "display_data"
    }
   ],
   "source": [
    "plt.figure(figsize=(15, 5))\n",
    "kwargs = dict(bins=1000, range=(-.2, .2), alpha=.5, density=True)\n",
    "\n",
    "plt.hist(raw_resids.numpy(), label='raw', **kwargs)\n",
    "plt.hist(wall_resids.numpy(), label='wall', **kwargs)\n",
    "plt.legend()\n",
    "plt.gca().set_xlabel('relative depth error');\n",
    "plt.ylim(0, 30);"
   ]
  },
  {
   "cell_type": "markdown",
   "id": "49516e50",
   "metadata": {},
   "source": [
    "### Tune model"
   ]
  },
  {
   "cell_type": "code",
   "execution_count": 11,
   "id": "707e5cfd",
   "metadata": {},
   "outputs": [
    {
     "data": {
      "application/json": {
       "ascii": false,
       "bar_format": null,
       "colour": null,
       "elapsed": 0.015208721160888672,
       "initial": 0,
       "n": 0,
       "ncols": null,
       "nrows": 69,
       "postfix": null,
       "prefix": "",
       "rate": null,
       "total": 100,
       "unit": "it",
       "unit_divisor": 1000,
       "unit_scale": false
      },
      "application/vnd.jupyter.widget-view+json": {
       "model_id": "12834c0e73b84faab5fc7a478a3ba76b",
       "version_major": 2,
       "version_minor": 0
      },
      "text/plain": [
       "  0%|          | 0/100 [00:00<?, ?it/s]"
      ]
     },
     "metadata": {},
     "output_type": "display_data"
    },
    {
     "data": {
      "image/png": "[encoded data removed]",
      "text/plain": [
       "<Figure size 432x288 with 1 Axes>"
      ]
     },
     "metadata": {
      "needs_background": "light"
     },
     "output_type": "display_data"
    }
   ],
   "source": [
    "if torch.device(device).type == 'cuda':\n",
    "    torch.cuda.empty_cache()\n",
    "\n",
    "tune_model = torch.nn.Linear(1, 1, bias=False).to(device, dtype)\n",
    "tune_model.weight.data.fill_(1)\n",
    "if tune_model.bias is not None:\n",
    "    tune_model.bias.data.fill_(0)\n",
    "list(tune_model.parameters())\n",
    "\n",
    "train_loader = Loader(train_data, batch_size=2**18, shuffle=True)\n",
    "\n",
    "\n",
    "def fit_model(epochs_n=1, lr=1e-3):\n",
    "    optim = torch.optim.Adam([*tune_model.parameters()], lr=lr)\n",
    "    train_costs = []\n",
    "    for epoch_i in tqdm(range(epochs_n)):\n",
    "        for uv, raw_d, sl_d in train_loader:\n",
    "            uv = uv.to(device, dtype)\n",
    "            raw_d = raw_d.to(device, dtype)\n",
    "            sl_d = sl_d.to(device, dtype)\n",
    "            def closure():\n",
    "                optim.zero_grad()\n",
    "                d = undist_model(uv, raw_d.unsqueeze(1))\n",
    "                is_valid = d.isfinite()\n",
    "                d = tune_model(d[is_valid].unsqueeze(1)).squeeze(1)\n",
    "                cost = cost_fn(sl_d[is_valid], d)\n",
    "                cost.backward()\n",
    "                train_costs.append(float(cost))\n",
    "                return cost\n",
    "            optim.step(closure); del uv, raw_d, sl_d\n",
    "    return train_costs\n",
    "\n",
    "max_res = .01\n",
    "welsch_c = max_res / 3\n",
    "\n",
    "def cost_fn(sl_d, d):\n",
    "    res = d.div_(sl_d)\n",
    "    res = res[res.isfinite()].sub_(1)\n",
    "    res = res[res.abs() <= max_res]\n",
    "    cost = welsch(res)\n",
    "    return cost\n",
    "\n",
    "\n",
    "def welsch(res):\n",
    "    res = res.div(welsch_c).pow_(2).div_(-2)\n",
    "    res = res.expm1_().neg()\n",
    "    res = res.mean()\n",
    "    return res\n",
    "\n",
    "\n",
    "train_costs = fit_model(epochs_n=100, lr=3e-4)\n",
    "tune_model = tune_model.requires_grad_(False)\n",
    "\n",
    "plt.plot(train_costs)\n",
    "plt.yscale('log')"
   ]
  },
  {
   "cell_type": "markdown",
   "id": "f18a6e2c",
   "metadata": {},
   "source": [
    "### Compute tuned errors"
   ]
  },
  {
   "cell_type": "code",
   "execution_count": 12,
   "id": "a5a0b7f2",
   "metadata": {},
   "outputs": [
    {
     "data": {
      "application/json": {
       "ascii": false,
       "bar_format": null,
       "colour": null,
       "elapsed": 0.015446662902832031,
       "initial": 0,
       "n": 0,
       "ncols": null,
       "nrows": 69,
       "postfix": null,
       "prefix": "",
       "rate": null,
       "total": 2,
       "unit": "it",
       "unit_divisor": 1000,
       "unit_scale": false
      },
      "application/vnd.jupyter.widget-view+json": {
       "model_id": "7fb1fcd058184d9fa895e1a8291f9501",
       "version_major": 2,
       "version_minor": 0
      },
      "text/plain": [
       "  0%|          | 0/2 [00:00<?, ?it/s]"
      ]
     },
     "metadata": {},
     "output_type": "display_data"
    }
   ],
   "source": [
    "if torch.device(device).type == 'cuda':\n",
    "    torch.cuda.empty_cache()\n",
    "\n",
    "undist_resids = []\n",
    "\n",
    "train_loader = Loader(train_data, batch_size=2**20, shuffle=False)\n",
    "for uv, raw_d, sl_d in tqdm(train_loader):\n",
    "    uv = uv.to(device, dtype)\n",
    "    raw_d = raw_d.to(device, dtype)\n",
    "    sl_d = sl_d.to(device, dtype)\n",
    "    d = undist_model(uv, raw_d.unsqueeze(1)); del uv, raw_d\n",
    "    d = tune_model(d.unsqueeze(1)).squeeze(1)\n",
    "    undist_resids.append(get_resids(sl_d, d).cpu()); del d, sl_d\n",
    "undist_resids = torch.cat(undist_resids)"
   ]
  },
  {
   "cell_type": "markdown",
   "id": "4b4b7a7b",
   "metadata": {},
   "source": [
    "Error distribution for filtered data."
   ]
  },
  {
   "cell_type": "code",
   "execution_count": 13,
   "id": "6ee1d529",
   "metadata": {},
   "outputs": [
    {
     "name": "stdout",
     "output_type": "stream",
     "text": [
      "[Parameter containing:\n",
      "tensor([[1.0026]], device='cuda:0', dtype=torch.float64)]\n",
      "Mode: -0.00020000000000000573\n"
     ]
    },
    {
     "data": {
      "image/png": "[encoded data removed]",
      "text/plain": [
       "<Figure size 1080x360 with 1 Axes>"
      ]
     },
     "metadata": {
      "needs_background": "light"
     },
     "output_type": "display_data"
    }
   ],
   "source": [
    "plt.figure(figsize=(15, 5))\n",
    "\n",
    "plt.hist(raw_resids.numpy(), label='raw', **kwargs)\n",
    "plt.hist(wall_resids.numpy(), label='wall', **kwargs)\n",
    "undist_hist = plt.hist(undist_resids.numpy(), label='undist', **kwargs)\n",
    "plt.legend()\n",
    "plt.gca().set_xlabel('relative depth error');\n",
    "plt.ylim(0, 40);\n",
    "\n",
    "print(list(tune_model.parameters()))\n",
    "\n",
    "mode_bin_i = undist_hist[0].argmax()\n",
    "mode = (undist_hist[1][mode_bin_i] + undist_hist[1][mode_bin_i + 1]) / 2 \n",
    "print(f'Mode: {mode}')\n",
    "plt.vlines(mode, 0, 30, colors='k', linewidths=1);"
   ]
  },
  {
   "cell_type": "markdown",
   "id": "b026ef02",
   "metadata": {},
   "source": [
    "Error distribution for all data."
   ]
  },
  {
   "cell_type": "code",
   "execution_count": 14,
   "id": "0e2f5847",
   "metadata": {},
   "outputs": [
    {
     "data": {
      "application/json": {
       "ascii": false,
       "bar_format": null,
       "colour": null,
       "elapsed": 0.015450239181518555,
       "initial": 0,
       "n": 0,
       "ncols": null,
       "nrows": 69,
       "postfix": null,
       "prefix": "",
       "rate": null,
       "total": 16,
       "unit": "it",
       "unit_divisor": 1000,
       "unit_scale": false
      },
      "application/vnd.jupyter.widget-view+json": {
       "model_id": "15d2e3e697644b838523017adac9cbbc",
       "version_major": 2,
       "version_minor": 0
      },
      "text/plain": [
       "  0%|          | 0/16 [00:00<?, ?it/s]"
      ]
     },
     "metadata": {},
     "output_type": "display_data"
    }
   ],
   "source": [
    "train_data.view_i, train_data.cos, train_data.raw_d, train_data.sl_d, train_data.uv = all_data\n",
    "\n",
    "if torch.device(device).type == 'cuda':\n",
    "    torch.cuda.empty_cache()\n",
    "\n",
    "raw_resids = []\n",
    "wall_resids = []\n",
    "undist_resids = []\n",
    "\n",
    "train_loader = Loader(train_data, batch_size=2**20, shuffle=False)\n",
    "for uv, raw_d, sl_d in tqdm(train_loader):\n",
    "    uv = uv.to(device, dtype)\n",
    "    raw_d = raw_d.to(device, dtype)\n",
    "    sl_d = sl_d.to(device, dtype)\n",
    "    raw_resids.append(get_resids(sl_d, raw_d).cpu())\n",
    "    d = undist_model(uv, raw_d.unsqueeze(1)); del uv, raw_d\n",
    "    wall_resids.append(get_resids(sl_d, d).cpu())\n",
    "    d = tune_model(d.unsqueeze(1)).squeeze(1)\n",
    "    undist_resids.append(get_resids(sl_d, d).cpu()); del d, sl_d\n",
    "\n",
    "raw_resids = torch.cat(raw_resids)\n",
    "wall_resids = torch.cat(wall_resids)\n",
    "undist_resids = torch.cat(undist_resids)"
   ]
  },
  {
   "cell_type": "code",
   "execution_count": 15,
   "id": "9f7f9ff7",
   "metadata": {},
   "outputs": [
    {
     "name": "stdout",
     "output_type": "stream",
     "text": [
      "[Parameter containing:\n",
      "tensor([[1.0026]], device='cuda:0', dtype=torch.float64)]\n",
      "Mode: 0.006599999999999995\n"
     ]
    },
    {
     "data": {
      "image/png": "[encoded data removed]",
      "text/plain": [
       "<Figure size 1080x360 with 1 Axes>"
      ]
     },
     "metadata": {
      "needs_background": "light"
     },
     "output_type": "display_data"
    }
   ],
   "source": [
    "plt.figure(figsize=(15, 5))\n",
    "\n",
    "plt.hist(raw_resids.numpy(), label='raw', **kwargs)\n",
    "plt.hist(wall_resids.numpy(), label='wall', **kwargs)\n",
    "undist_hist = plt.hist(undist_resids.numpy(), label='undist', **kwargs)\n",
    "plt.legend()\n",
    "plt.gca().set_xlabel('relative depth error');\n",
    "plt.ylim(0, 40);\n",
    "\n",
    "print(list(tune_model.parameters()))\n",
    "\n",
    "mode_bin_i = undist_hist[0].argmax()\n",
    "mode = (undist_hist[1][mode_bin_i] + undist_hist[1][mode_bin_i + 1]) / 2 \n",
    "print(f'Mode: {mode}')\n",
    "plt.vlines(mode, 0, 30, colors='k', linewidths=1);"
   ]
  },
  {
   "cell_type": "markdown",
   "id": "06764579",
   "metadata": {},
   "source": [
    "### Save model"
   ]
  },
  {
   "cell_type": "code",
   "execution_count": 16,
   "id": "2394ab37",
   "metadata": {},
   "outputs": [],
   "source": [
    "assert tune_model.bias is None\n",
    "scaling_factor = float(tune_model.weight)\n",
    "undist_model.d_spline.control_pts.data *= scaling_factor\n",
    "\n",
    "tuned_model = UvDUndistortionModel.from_pb_model(undist_model.cpu(), cam_model)"
   ]
  },
  {
   "cell_type": "code",
   "execution_count": 17,
   "id": "f927aad4",
   "metadata": {},
   "outputs": [],
   "source": [
    "tuned_model_pt = scene_paths[0].undist_model(cam, 'depth')\n",
    "Path(tuned_model_pt).parent.mkdir(exist_ok=True, parents=True)\n",
    "save_to_pt(tuned_model_pt, tuned_model)"
   ]
  },
  {
   "cell_type": "code",
   "execution_count": null,
   "id": "c1350810",
   "metadata": {},
   "outputs": [],
   "source": []
  }
 ],
 "metadata": {
  "kernelspec": {
   "display_name": "Python 3 (ipykernel)",
   "language": "python",
   "name": "python3"
  },
  "language_info": {
   "codemirror_mode": {
    "name": "ipython",
    "version": 3
   },
   "file_extension": ".py",
   "mimetype": "text/x-python",
   "name": "python",
   "nbconvert_exporter": "python",
   "pygments_lexer": "ipython3",
   "version": "3.8.13"
  }
 },
 "nbformat": 4,
 "nbformat_minor": 5
}
