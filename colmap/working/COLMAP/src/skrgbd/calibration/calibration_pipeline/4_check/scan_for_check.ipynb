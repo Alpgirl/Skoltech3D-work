{
 "cells": [
  {
   "cell_type": "code",
   "execution_count": null,
   "id": "4e6bf119",
   "metadata": {},
   "outputs": [],
   "source": [
    "import datetime\n",
    "from pathlib import Path\n",
    "from time import sleep\n",
    "import sys\n",
    "\n",
    "sys.stderr = sys.__stderr__  # redirect stderr back to the shell\n",
    "\n",
    "sys.path.append('/home/universal/Downloads/dev.sk_robot_rgbd_data/src')\n",
    "from skrgbd.scanning.scan_helper.utils import get_elevation_plates\n",
    "from skrgbd.scanning.scan_helper.scan_helper import ScanHelper\n",
    "from skrgbd.devices.phone import convert_bin_to_img"
   ]
  },
  {
   "cell_type": "markdown",
   "id": "41ea849d",
   "metadata": {},
   "source": [
    "# Scanning\n",
    "\n",
    "Open the shell session where the jupyter-notebook was started. The log messages will go there during scanning."
   ]
  },
  {
   "cell_type": "code",
   "execution_count": null,
   "id": "b619a4c2",
   "metadata": {},
   "outputs": [],
   "source": [
    "scans_root = '/tmp/scanning'\n",
    "Path(scans_root).mkdir(exist_ok=True)\n",
    "logfile = f'{scans_root}/log.log'"
   ]
  },
  {
   "cell_type": "markdown",
   "id": "f23a06d2",
   "metadata": {},
   "source": [
    "## Start the initial camera warmup\n",
    "1. Switch ScanCenter to the Scanning tab so that the cameras of the scanner are imaging.\n",
    "2. Initialize the ScanHelper, and it will immediately start the camera warmup.\n",
    "3. Wait one hour before going any further."
   ]
  },
  {
   "cell_type": "code",
   "execution_count": null,
   "id": "fddfc538",
   "metadata": {},
   "outputs": [],
   "source": [
    "print(f'Started warmup at {datetime.datetime.now()}')\n",
    "scan_helper = ScanHelper(scans_root, logfile)"
   ]
  },
  {
   "cell_type": "markdown",
   "id": "b2e15474",
   "metadata": {},
   "source": [
    "## Set the white balance of the cameras\n",
    "1. Setup the white balance once after starting the scan helper.\n",
    "    Run the code below and follow the instructions."
   ]
  },
  {
   "cell_type": "code",
   "execution_count": null,
   "id": "f8a39f48",
   "metadata": {},
   "outputs": [],
   "source": [
    "scan_helper.set_white_balance()"
   ]
  },
  {
   "cell_type": "markdown",
   "id": "c3aff4f2",
   "metadata": {},
   "source": [
    "## Scan\n",
    "1. If necessary, clean the scan dirs on the phones."
   ]
  },
  {
   "cell_type": "code",
   "execution_count": null,
   "id": "a1e0787b",
   "metadata": {},
   "outputs": [],
   "source": [
    "for phone in scan_helper.rig.phones:\n",
    "    phone.clean_scans()"
   ]
  },
  {
   "cell_type": "markdown",
   "id": "12083a2c",
   "metadata": {},
   "source": [
    "2. Measure (or estimate) the height of the scanned object\n",
    "   and use the following elevation plates to raise the object onto the optimal height."
   ]
  },
  {
   "cell_type": "code",
   "execution_count": null,
   "id": "28f6680a",
   "metadata": {},
   "outputs": [],
   "source": [
    "scene_name = 'test_calib_board'\n",
    "height = 36.5  # in cm\n",
    "\n",
    "get_elevation_plates(height)"
   ]
  },
  {
   "cell_type": "markdown",
   "id": "5d7e12d5",
   "metadata": {},
   "source": [
    "3. Scan"
   ]
  },
  {
   "cell_type": "code",
   "execution_count": null,
   "id": "d80752cf",
   "metadata": {},
   "outputs": [],
   "source": [
    "scan_helper.scan(scene_name)"
   ]
  },
  {
   "cell_type": "markdown",
   "id": "07cd922c",
   "metadata": {},
   "source": [
    "# Finalization\n",
    "1. Stop scan helper."
   ]
  },
  {
   "cell_type": "code",
   "execution_count": null,
   "id": "e346167b",
   "metadata": {},
   "outputs": [],
   "source": [
    "scan_helper.stop()"
   ]
  },
  {
   "cell_type": "markdown",
   "id": "a596109d",
   "metadata": {},
   "source": [
    "2. Run the code below and leave it running.\n",
    "   It will wait until the phones are fully charged,\n",
    "   then will download the scans to the PC, compress them, and clean the data on the phones."
   ]
  },
  {
   "cell_type": "code",
   "execution_count": null,
   "id": "a35c4d48",
   "metadata": {},
   "outputs": [],
   "source": [
    "for phone in scan_helper.rig.phones:\n",
    "#     while phone.battery_level < 90:\n",
    "#         sleep(30 * 60)\n",
    "    phone.pull_scans(scans_root)\n",
    "convert_bin_to_img(scans_root)\n",
    "\n",
    "for phone in scan_helper.rig.phones:\n",
    "    phone.clean_scans()"
   ]
  }
 ],
 "metadata": {
  "kernelspec": {
   "display_name": "Python 3",
   "language": "python",
   "name": "python3"
  },
  "language_info": {
   "codemirror_mode": {
    "name": "ipython",
    "version": 3
   },
   "file_extension": ".py",
   "mimetype": "text/x-python",
   "name": "python",
   "nbconvert_exporter": "python",
   "pygments_lexer": "ipython3",
   "version": "3.8.6"
  }
 },
 "nbformat": 4,
 "nbformat_minor": 5
}
