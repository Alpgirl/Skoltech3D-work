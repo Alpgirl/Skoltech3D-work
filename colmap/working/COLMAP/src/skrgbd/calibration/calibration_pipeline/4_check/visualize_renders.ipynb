{
 "cells": [
  {
   "cell_type": "code",
   "execution_count": null,
   "id": "546e0291",
   "metadata": {},
   "outputs": [],
   "source": [
    "import sys\n",
    "\n",
    "from PIL import Image\n",
    "import numpy as np\n",
    "from einops import rearrange\n",
    "\n",
    "sys.path.append('/home/universal/Downloads/dev.sk_robot_rgbd_data/src')\n",
    "from skrgbd.data.image_utils import unpack_float32, equalize_image\n",
    "from skrgbd.devices.phone import visualize_ir"
   ]
  },
  {
   "cell_type": "code",
   "execution_count": null,
   "id": "6bae4091",
   "metadata": {},
   "outputs": [],
   "source": [
    "camera_scans_dir = '/home/universal/Downloads/dev.sk_robot_rgbd_data/experiments/test_calibration/scanning/test_calib_board'\n",
    "renders_dir = '/home/universal/Downloads/dev.sk_robot_rgbd_data/experiments/test_calibration/renders'"
   ]
  },
  {
   "cell_type": "code",
   "execution_count": null,
   "id": "54e5dc3b",
   "metadata": {},
   "outputs": [],
   "source": [
    "render_scale = 1\n",
    "\n",
    "# camera = 'tis_left'\n",
    "# camera = 'tis_right'\n",
    "# def load_image(i):\n",
    "#     image = np.asarray(Image.open(f'{camera_scans_dir}/{camera}_i/{i:04}@soft_right@best.png'))\n",
    "#     image = np.clip(np.mean(image, 2).round(), 0, 255).astype(np.uint8)\n",
    "#     return image\n",
    "\n",
    "# camera = f'real_sense_rgb'\n",
    "# def load_image(i):\n",
    "#     image = np.asarray(Image.open(f'{camera_scans_dir}/real_sense_i/{i:04}@soft_right@best.png'))\n",
    "#     image = np.clip(np.mean(image, 2).round(), 0, 255).astype(np.uint8)\n",
    "#     return image\n",
    "\n",
    "# camera = f'real_sense_ir'\n",
    "# def load_image(i):\n",
    "#     image = np.asarray(Image.open(f'{camera_scans_dir}/real_sense_i/{i:04}@soft_right@best_ir.png'))\n",
    "#     return image\n",
    "\n",
    "# camera = f'real_sense_ir_right'\n",
    "# def load_image(i):\n",
    "#     image = np.asarray(Image.open(f'{camera_scans_dir}/real_sense_i/{i:04}@soft_right@best_irr.png'))\n",
    "#     return image\n",
    "\n",
    "# camera = 'kinect_v2_rgb'\n",
    "# def load_image(i):\n",
    "#     image = np.asarray(Image.open(f'{camera_scans_dir}/kinect_v2_i/{i:04}@soft_right.png'))\n",
    "#     image = np.clip(np.mean(image, 2).round(), 0, 255).astype(np.uint8)\n",
    "#     return image\n",
    "\n",
    "# camera = 'kinect_v2_ir'\n",
    "# def load_image(i):\n",
    "#     image = unpack_float32(np.asarray(Image.open(f'{camera_scans_dir}/kinect_v2_i/{i:04}_ir.png')))\n",
    "#     image = equalize_image(image / 65535, 51)\n",
    "#     image = np.clip((image * 255).round(), 0, 255).astype(np.uint8)\n",
    "#     return image\n",
    "\n",
    "# camera = 'phone_left_rgb'\n",
    "# camera = 'phone_right_rgb'\n",
    "# def load_image(i):\n",
    "#     image = np.asarray(Image.open(f'{camera_scans_dir}/{camera[:-4]}_i/{i:04}@soft_right@best.jpg'))\n",
    "#     image = np.clip(np.mean(image, 2).round(), 0, 255).astype(np.uint8)\n",
    "#     return image\n",
    "\n",
    "# camera = 'phone_left_ir'\n",
    "# camera = 'phone_right_ir'\n",
    "# render_scale = 4\n",
    "# def load_image(i):\n",
    "#     image = np.asarray(Image.open(f'{camera_scans_dir}/{camera[:-3]}_i/{i:04}_ir.png'))\n",
    "#     image = visualize_ir(image, equalize=True)\n",
    "#     image = image \n",
    "#     return image"
   ]
  },
  {
   "cell_type": "code",
   "execution_count": null,
   "id": "3eead9e7",
   "metadata": {},
   "outputs": [],
   "source": [
    "def overlay_images(i):\n",
    "    image = load_image(i)\n",
    "    image = np.repeat(image, render_scale, axis=1)\n",
    "    image = np.repeat(image, render_scale, axis=0)\n",
    "\n",
    "    render = np.asarray(Image.open(f'{renders_dir}/{camera}/{i:04}.png'))\n",
    "    render = np.clip(np.mean(render, 2).round(), 0, 255).astype(np.uint8)\n",
    "\n",
    "    # overlay = ((np.float32(image) - np.float32(render)) + 255) / 2\n",
    "    # overlay = np.clip(overlay.round(), 0, 255).astype(np.uint8)\n",
    "    overlay = np.dstack([image, render, image * 0])\n",
    "    return overlay"
   ]
  },
  {
   "cell_type": "code",
   "execution_count": null,
   "id": "ea8251fa",
   "metadata": {},
   "outputs": [],
   "source": [
    "rendered_ids = [0, 11, 12, 23, 24, 35, 36, 47, 48, 58, 59, 69, 70, 80, 81, 90, 91, 99]"
   ]
  },
  {
   "cell_type": "raw",
   "id": "8ed438b5",
   "metadata": {},
   "source": [
    "Image.fromarray(overlay_images(12))"
   ]
  },
  {
   "cell_type": "code",
   "execution_count": null,
   "id": "b59fd0ff",
   "metadata": {},
   "outputs": [],
   "source": [
    "renders = []\n",
    "for i in rendered_ids:\n",
    "    try:\n",
    "        overlay = overlay_images(i)\n",
    "    except FileNotFoundError:\n",
    "        overlay = renders[0] * 0 + 255\n",
    "    renders.append(overlay)"
   ]
  },
  {
   "cell_type": "code",
   "execution_count": null,
   "id": "d1c651ce",
   "metadata": {},
   "outputs": [],
   "source": [
    "h, w = renders[0].shape[:2]\n",
    "window_halfsize = min(h, w) // 20\n",
    "border = 1"
   ]
  },
  {
   "cell_type": "code",
   "execution_count": null,
   "id": "55c52afc",
   "metadata": {},
   "outputs": [],
   "source": [
    "windows = [render[h // 2 - window_halfsize: h // 2 + window_halfsize,\n",
    "                  w // 2 - window_halfsize: w // 2 + window_halfsize] for render in renders]\n",
    "\n",
    "for window in windows:\n",
    "    window[:border] = 255\n",
    "    window[-border:] = 255\n",
    "    window[:, :border] = 255\n",
    "    window[:, -border:] = 255"
   ]
  },
  {
   "cell_type": "code",
   "execution_count": null,
   "id": "16602236",
   "metadata": {},
   "outputs": [],
   "source": [
    "Image.fromarray(rearrange(windows, '(W H) h w c -> (H h) (W w) c', H=2))"
   ]
  }
 ],
 "metadata": {
  "kernelspec": {
   "display_name": "Python 3",
   "language": "python",
   "name": "python3"
  },
  "language_info": {
   "codemirror_mode": {
    "name": "ipython",
    "version": 3
   },
   "file_extension": ".py",
   "mimetype": "text/x-python",
   "name": "python",
   "nbconvert_exporter": "python",
   "pygments_lexer": "ipython3",
   "version": "3.8.6"
  }
 },
 "nbformat": 4,
 "nbformat_minor": 5
}
