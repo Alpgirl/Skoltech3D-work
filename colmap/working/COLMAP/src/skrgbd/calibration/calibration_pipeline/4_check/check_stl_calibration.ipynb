{
 "cells": [
  {
   "cell_type": "code",
   "execution_count": null,
   "id": "51d12dad",
   "metadata": {},
   "outputs": [],
   "source": [
    "import sys\n",
    "\n",
    "import open3d as o3d\n",
    "import torch\n",
    "\n",
    "sys.path.append('/home/universal/Downloads/dev.sk_robot_rgbd_data/src')\n",
    "from skrgbd.data.rv_scan import RVScan\n",
    "from skrgbd.calibration.calibrations.small_scale_sphere import Calibration"
   ]
  },
  {
   "cell_type": "code",
   "execution_count": null,
   "id": "29c9e7ad",
   "metadata": {},
   "outputs": [],
   "source": [
    "calibration = Calibration()"
   ]
  },
  {
   "cell_type": "markdown",
   "id": "b70f6f4e",
   "metadata": {},
   "source": [
    "## Check in 3D"
   ]
  },
  {
   "cell_type": "code",
   "execution_count": null,
   "id": "fc55f3ec",
   "metadata": {},
   "outputs": [],
   "source": [
    "for scan_i in range(24):\n",
    "    scan = RVScan(\n",
    "        '/home/universal/Downloads/dev.sk_robot_rgbd_data/stl_shared_folder/scans/test_calib_board_folder', scan_i)\n",
    "    \n",
    "    mm_to_meters = torch.zeros(4, 4)\n",
    "    mm_to_meters[3, 3] = 1\n",
    "    mm_to_meters[0, 0] = mm_to_meters[1, 1] = mm_to_meters[2, 2] = 1 / 1000\n",
    "\n",
    "    matrix = (\n",
    "        calibration.stl_sphere_extrinsics[scan_i] @ calibration.rv_calib_to_stl_right\n",
    "        @ mm_to_meters @ scan.board_to_mesh.inverse() @ scan.mesh_to_world.inverse()\n",
    "    )\n",
    "    scan.vertices = scan.vertices @ matrix[:3, :3].T + matrix[:3, 3]\n",
    "    \n",
    "    o3d.io.write_triangle_mesh(f'/tmp/{scan_i}.ply', scan.mesh)"
   ]
  },
  {
   "cell_type": "markdown",
   "id": "ebcc8643",
   "metadata": {},
   "source": [
    "## Check in 2D"
   ]
  },
  {
   "cell_type": "code",
   "execution_count": null,
   "id": "5b7bfe71",
   "metadata": {},
   "outputs": [],
   "source": [
    "from PIL import Image\n",
    "\n",
    "sys.path.append('/home/universal/Downloads/dev.sk_robot_rgbd_data/debug/depth_map_reprojection_example/dev.mvs4df/src')\n",
    "from mvs4df.modules.pointcloud_rendering.render_points import render_points"
   ]
  },
  {
   "cell_type": "code",
   "execution_count": null,
   "id": "5bf29504",
   "metadata": {},
   "outputs": [],
   "source": [
    "camera_model = calibration.cam_model['stl_right']\n",
    "w, h = camera_model.size_wh\n",
    "\n",
    "device = 'cuda:0'\n",
    "camera_model = camera_model.to(device)"
   ]
  },
  {
   "cell_type": "code",
   "execution_count": null,
   "id": "5273331e",
   "metadata": {},
   "outputs": [],
   "source": [
    "for scan_i in range(24):\n",
    "    scan = RVScan(\n",
    "        '/home/universal/Downloads/dev.sk_robot_rgbd_data/stl_shared_folder/scans/test_calib_board_folder', scan_i)\n",
    "    scan.load_colors()\n",
    "    \n",
    "    mm_to_meters = torch.zeros(4, 4)\n",
    "    mm_to_meters[3, 3] = 1\n",
    "    mm_to_meters[0, 0] = mm_to_meters[1, 1] = mm_to_meters[2, 2] = 1 / 1000\n",
    "\n",
    "    matrix = (\n",
    "        calibration.stl_sphere_extrinsics[3].inverse() @ calibration.stl_sphere_extrinsics[scan_i]\n",
    "        @ calibration.rv_calib_to_stl_right @ mm_to_meters\n",
    "        @ scan.board_to_mesh.inverse() @ scan.mesh_to_world.inverse()\n",
    "    )\n",
    "    vertices = scan.vertices @ matrix[:3, :3].T + matrix[:3, 3]\n",
    "    vertices = vertices.T\n",
    "    \n",
    "    uv = camera_model.project_fine(vertices.to(device)).cpu()\n",
    "    torch.cuda.empty_cache()\n",
    "\n",
    "    render = render_points(\n",
    "        scan.colors.unsqueeze(0),\n",
    "        vertices[2].unsqueeze(0),\n",
    "        uv.unsqueeze(1),\n",
    "        (h, w),\n",
    "        point_radius=(2 ** -.5),\n",
    "    #     uv_averaging_range=1e-4,\n",
    "        depth_averaging_range=1e-5,\n",
    "    ).squeeze(0)\n",
    "    \n",
    "    render = render.where(render.isfinite(), render.new_zeros([]))\n",
    "    render = render.permute(1, 2, 0).clamp(0, 255).byte()\n",
    "    Image.fromarray(render.numpy()).save(f'/tmp/{scan_i}.png')"
   ]
  }
 ],
 "metadata": {
  "kernelspec": {
   "display_name": "Python 3",
   "language": "python",
   "name": "python3"
  },
  "language_info": {
   "codemirror_mode": {
    "name": "ipython",
    "version": 3
   },
   "file_extension": ".py",
   "mimetype": "text/x-python",
   "name": "python",
   "nbconvert_exporter": "python",
   "pygments_lexer": "ipython3",
   "version": "3.8.6"
  }
 },
 "nbformat": 4,
 "nbformat_minor": 5
}
