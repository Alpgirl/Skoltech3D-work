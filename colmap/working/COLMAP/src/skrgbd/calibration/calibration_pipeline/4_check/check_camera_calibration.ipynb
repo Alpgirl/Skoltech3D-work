{
 "cells": [
  {
   "cell_type": "code",
   "execution_count": null,
   "id": "51d12dad",
   "metadata": {},
   "outputs": [],
   "source": [
    "from pathlib import Path\n",
    "import sys\n",
    "\n",
    "from PIL import Image\n",
    "import open3d as o3d\n",
    "import torch\n",
    "\n",
    "sys.path.append('/home/universal/Downloads/dev.sk_robot_rgbd_data/src')\n",
    "from skrgbd.calibration.calibrations.small_scale_sphere import Calibration\n",
    "from skrgbd.calibration.trajectories.camera_sphere import CameraCalibrationSphere\n",
    "from skrgbd.data.data_structure import map_point_id_to_i\n",
    "from skrgbd.devices.robot.robot_on_sphere import RobotOnSphere\n",
    "from skrgbd.data.rv_scan import RVScan\n",
    "\n",
    "sys.path.append('/home/universal/Downloads/dev.sk_robot_rgbd_data/debug/depth_map_reprojection_example/dev.mvs4df/src')\n",
    "from mvs4df.modules.pointcloud_rendering.render_points import render_points"
   ]
  },
  {
   "cell_type": "code",
   "execution_count": null,
   "id": "91c0f198",
   "metadata": {},
   "outputs": [],
   "source": [
    "scan_dir = '/home/universal/Downloads/dev.sk_robot_rgbd_data/stl_shared_folder/scans/test_calib_board_folder'\n",
    "scan_i = 0\n",
    "camera_scans_dir = '/home/universal/Downloads/dev.sk_robot_rgbd_data/experiments/test_calibration/scanning/test_calib_board'\n",
    "renders_dir = '/home/universal/Downloads/dev.sk_robot_rgbd_data/experiments/test_calibration/renders'"
   ]
  },
  {
   "cell_type": "code",
   "execution_count": null,
   "id": "6b1568b5",
   "metadata": {},
   "outputs": [],
   "source": [
    "calibration = Calibration()\n",
    "trajectory = CameraCalibrationSphere(RobotOnSphere(simulation=True))"
   ]
  },
  {
   "cell_type": "raw",
   "id": "71d7d3e5",
   "metadata": {},
   "source": [
    "for camera in ['real_sense', 'kinect_v2', 'tis_left', 'tis_right', 'phone_left', 'phone_right']:\n",
    "    map_point_id_to_i(trajectory, f'{camera_scans_dir}/{camera}', f'{camera_scans_dir}/{camera}_i')"
   ]
  },
  {
   "cell_type": "code",
   "execution_count": null,
   "id": "fe970b13",
   "metadata": {},
   "outputs": [],
   "source": [
    "scan = RVScan(scan_dir, scan_i)\n",
    "scan.load_colors()"
   ]
  },
  {
   "cell_type": "code",
   "execution_count": null,
   "id": "067a0b14",
   "metadata": {},
   "outputs": [],
   "source": [
    "camera = 'phone_left_ir'\n",
    "# render_scale = 4\n",
    "Path(f'{renders_dir}/{camera}').mkdir(parents=True, exist_ok=True)"
   ]
  },
  {
   "cell_type": "code",
   "execution_count": null,
   "id": "5bf29504",
   "metadata": {},
   "outputs": [],
   "source": [
    "camera_model = calibration.cam_model[camera]\n",
    "w, h = camera_model.size_wh\n",
    "\n",
    "device = 'cuda:0'\n",
    "camera_model = camera_model.to(device)"
   ]
  },
  {
   "cell_type": "code",
   "execution_count": null,
   "id": "25194042",
   "metadata": {},
   "outputs": [],
   "source": [
    "mm_to_meters = torch.zeros(4, 4)\n",
    "mm_to_meters[3, 3] = 1\n",
    "mm_to_meters[0, 0] = mm_to_meters[1, 1] = mm_to_meters[2, 2] = 1 / 1000\n",
    "\n",
    "scan_to_stl_right_at_zero_point = (\n",
    "    calibration.stl_sphere_extrinsics[scan_i] @ calibration.rv_calib_to_stl_right\n",
    "    @ mm_to_meters @ scan.board_to_mesh.inverse() @ scan.mesh_to_world.inverse()\n",
    ")\n",
    "stl_right_to_camera = calibration.rig_to_cam[camera] @ calibration.rig_to_cam['stl_right'].inverse()"
   ]
  },
  {
   "cell_type": "code",
   "execution_count": null,
   "id": "38fee05b",
   "metadata": {},
   "outputs": [],
   "source": [
    "for pos_i in [0, 11, 12, 23, 24, 35, 36, 47, 48, 58, 59, 69, 70, 80, 81, 90, 91, 99]:\n",
    "    camera_at_zero_to_camera_at_pos = calibration.cam_sphere_extrinsics[camera][pos_i].inverse()\n",
    "    matrix = camera_at_zero_to_camera_at_pos @ stl_right_to_camera @ scan_to_stl_right_at_zero_point\n",
    "    vertices = scan.vertices @ matrix[:3, :3].T + matrix[:3, 3]\n",
    "    vertices = vertices.T\n",
    "    \n",
    "    uv = camera_model.project_fine(vertices.to(device)).cpu()\n",
    "    torch.cuda.empty_cache()\n",
    "\n",
    "    render = render_points(\n",
    "        scan.colors.unsqueeze(0),\n",
    "        vertices[2].unsqueeze(0),\n",
    "        uv.unsqueeze(1) * render_scale,\n",
    "        (h * render_scale, w * render_scale),\n",
    "        point_radius=(2 ** -.5),\n",
    "    #     uv_averaging_range=1e-4,\n",
    "        depth_averaging_range=1e-5,\n",
    "    ).squeeze(0)\n",
    "    \n",
    "    render = render.where(render.isfinite(), render.new_zeros([]))\n",
    "    render = render.permute(1, 2, 0).clamp(0, 255).byte()\n",
    "    render = Image.fromarray(render.numpy())\n",
    "    render.save(f'{renders_dir}/{camera}/{pos_i:04}.png')"
   ]
  }
 ],
 "metadata": {
  "kernelspec": {
   "display_name": "Python 3",
   "language": "python",
   "name": "python3"
  },
  "language_info": {
   "codemirror_mode": {
    "name": "ipython",
    "version": 3
   },
   "file_extension": ".py",
   "mimetype": "text/x-python",
   "name": "python",
   "nbconvert_exporter": "python",
   "pygments_lexer": "ipython3",
   "version": "3.8.6"
  }
 },
 "nbformat": 4,
 "nbformat_minor": 5
}
