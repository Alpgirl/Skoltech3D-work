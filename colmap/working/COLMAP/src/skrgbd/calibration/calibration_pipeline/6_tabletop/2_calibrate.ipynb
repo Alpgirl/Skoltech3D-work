{
 "cells": [
  {
   "cell_type": "code",
   "execution_count": null,
   "metadata": {},
   "outputs": [],
   "source": [
    "import sys\n",
    "\n",
    "sys.path.append('/home/universal/Downloads/dev.sk_robot_rgbd_data/src')\n",
    "from skrgbd.calibration.calibration.calibrator import Localizer\n",
    "from skrgbd.calibration.calibration.presets.tis import TISCalibrator"
   ]
  },
  {
   "cell_type": "markdown",
   "metadata": {},
   "source": [
    "### Calculate reference camera poses w.r.t the board"
   ]
  },
  {
   "cell_type": "code",
   "execution_count": null,
   "metadata": {},
   "outputs": [],
   "source": [
    "images_root = '/home/universal/Downloads/dev.sk_robot_rgbd_data/experiments/calibration/images.tabletop'\n",
    "results_root = '/home/universal/Downloads/dev.sk_robot_rgbd_data/experiments/calibration/results/tabletop'\n",
    "\n",
    "calib_class = TISCalibrator\n",
    "cam_name = 'tis_left'\n",
    "calib_dir = '/home/universal/Downloads/dev.sk_robot_rgbd_data/experiments/calibration/results/camera_plane/tis_left/calibration@central_generic,40px'"
   ]
  },
  {
   "cell_type": "code",
   "execution_count": null,
   "metadata": {},
   "outputs": [],
   "source": [
    "calibrator = calib_class(img_dir=f'{images_root}/{cam_name}', results_dir=f'{results_root}/{cam_name}')\n",
    "calibrator.extract_features(visualize=True)"
   ]
  },
  {
   "cell_type": "code",
   "execution_count": null,
   "metadata": {},
   "outputs": [],
   "source": [
    "localizer = Localizer(\n",
    "    [calib_dir],\n",
    "    [f'{results_root}/{cam_name}/dataset.bin'],\n",
    "    results_dir=f'{results_root}/{cam_name}/localization'\n",
    ")\n",
    "localizer.prepare_to_localize()\n",
    "localizer.localize(visualize=True)"
   ]
  },
  {
   "cell_type": "markdown",
   "metadata": {},
   "source": [
    "### Save poses to COLMAP"
   ]
  },
  {
   "cell_type": "code",
   "execution_count": null,
   "metadata": {},
   "outputs": [],
   "source": [
    "from pathlib import Path\n",
    "\n",
    "import numpy as np\n",
    "import scipy.spatial\n",
    "import torch\n",
    "\n",
    "from colmap.read_write_model import Image, write_images_text\n",
    "\n",
    "from skrgbd.calibration.calibrations.small_scale_sphere import Calibration\n",
    "from skrgbd.calibration.eth_tool.ex_poses import get_poses, Poses\n",
    "from skrgbd.devices.robot.robot_on_table import RobotOnTable\n",
    "from skrgbd.data.io.poses import save_poses\n",
    "from skrgbd.data.dataset.pathfinder import sensor_to_cam_mode\n",
    "from skrgbd.calibration.trajectories.trajectory import Trajectory as TrajectoryBase"
   ]
  },
  {
   "cell_type": "code",
   "execution_count": null,
   "metadata": {},
   "outputs": [],
   "source": [
    "class Trajectory(TrajectoryBase):\n",
    "    points = None\n",
    "    robot = None\n",
    "\n",
    "    def __init__(self, robot=None):\n",
    "        if robot is None:\n",
    "            robot = RobotOnTable(simulation=True)\n",
    "        self.robot = robot\n",
    "        self.points = self.robot.generate_trajectory_points()\n",
    "    \n",
    "\n",
    "trajectory = Trajectory()"
   ]
  },
  {
   "cell_type": "code",
   "execution_count": null,
   "metadata": {},
   "outputs": [],
   "source": [
    "ref_cam_name = 'tis_left'\n",
    "\n",
    "\n",
    "poses_yaml = f'{results_root}/{ref_cam_name}/localization/rig_tr_global.yaml'\n",
    "dataset_bin = f'{results_root}/{ref_cam_name}/localization/dataset.bin'\n",
    "world_to_rig, pose_found = get_poses(trajectory, poses_yaml, dataset_bin)\n",
    "assert pose_found.all()\n",
    "\n",
    "rig_to_ref_cam = Poses(f'{results_root}/{ref_cam_name}/localization/camera_tr_rig.yaml')\n",
    "rig_to_ref_cam = rig_to_ref_cam[0]\n",
    "\n",
    "world_to_ref_cam = rig_to_ref_cam @ world_to_rig; del rig_to_ref_cam, world_to_rig"
   ]
  },
  {
   "cell_type": "code",
   "execution_count": null,
   "metadata": {},
   "outputs": [],
   "source": [
    "calibration = Calibration()"
   ]
  },
  {
   "cell_type": "code",
   "execution_count": null,
   "metadata": {},
   "outputs": [],
   "source": [
    "all_sensors = {\n",
    "    'real_sense_rgb', 'real_sense_ir', 'real_sense_ir_right',\n",
    "    'kinect_v2_rgb', 'kinect_v2_ir',\n",
    "    'tis_left', 'tis_right',\n",
    "    'phone_left_rgb', 'phone_left_ir',\n",
    "    'phone_right_rgb', 'phone_right_ir'\n",
    "}\n",
    "\n",
    "world_to_cam = dict()\n",
    "for sensor in all_sensors:\n",
    "    if sensor == ref_cam_name:\n",
    "        world_to_cam[sensor] = world_to_ref_cam\n",
    "    else:\n",
    "        world_to_cam[sensor] = calibration.rig_to_cam[sensor] @ calibration.rig_to_cam[ref_cam_name].inverse() @ world_to_ref_cam"
   ]
  },
  {
   "cell_type": "code",
   "execution_count": null,
   "metadata": {},
   "outputs": [],
   "source": [
    "def save_poses(images_txt, trajectory, world_to_cam, sensor, cam_i=0):\n",
    "    if sensor.startswith('phone') and sensor.endswith('rgb'):\n",
    "        ext = 'jpg'\n",
    "    else:\n",
    "        ext = 'png'\n",
    "\n",
    "    colmap_images = dict()\n",
    "    for pos_i in range(len(trajectory)):\n",
    "        pos_id = trajectory[pos_i]\n",
    "        rotmat = world_to_cam[pos_i, :3, :3].numpy()\n",
    "        rotmat = scipy.spatial.transform.Rotation.from_matrix(rotmat)\n",
    "        xyzw = rotmat.as_quat()\n",
    "        wxyz = np.roll(xyzw, 1)\n",
    "        tvec = world_to_cam[pos_i, :3, 3].numpy()\n",
    "\n",
    "        img_filename = f'{pos_id}.{ext}'\n",
    "        image_id = pos_i + 1  # COLMAP's image_id is one-based\n",
    "\n",
    "        colmap_images[pos_i] = Image(\n",
    "            id=image_id, qvec=wxyz.astype(np.float32), tvec=tvec.astype(np.float32), camera_id=cam_i, name=img_filename,\n",
    "            xys=[], point3D_ids=[]\n",
    "        )\n",
    "\n",
    "    return write_images_text(colmap_images, images_txt)\n",
    "\n",
    "\n",
    "calib_root = '/mnt/data/sk_rgbd_data/wp2/dataset/calibration'\n",
    "for sensor in all_sensors:\n",
    "    cam, mode = sensor_to_cam_mode[sensor]\n",
    "    images_txt = f'{calib_root}/{cam}/{mode}/images.txt'\n",
    "    Path(images_txt).parent.mkdir(exist_ok=True, parents=True)\n",
    "    save_poses(images_txt, trajectory, world_to_cam[sensor], sensor)"
   ]
  }
 ],
 "metadata": {
  "kernelspec": {
   "display_name": "Python 3",
   "language": "python",
   "name": "python3"
  },
  "language_info": {
   "codemirror_mode": {
    "name": "ipython",
    "version": 3
   },
   "file_extension": ".py",
   "mimetype": "text/x-python",
   "name": "python",
   "nbconvert_exporter": "python",
   "pygments_lexer": "ipython3",
   "version": "3.8.6"
  }
 },
 "nbformat": 4,
 "nbformat_minor": 4
}
