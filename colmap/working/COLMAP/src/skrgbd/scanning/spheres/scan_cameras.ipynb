{
 "cells": [
  {
   "cell_type": "markdown",
   "id": "4511cfd3",
   "metadata": {},
   "source": [
    "# Preparations\n",
    "Prepare the setup for scanning, as described in [scan_preparations.ipynb](scan_preparations.ipynb)."
   ]
  },
  {
   "cell_type": "markdown",
   "id": "e25c69ce",
   "metadata": {},
   "source": [
    "В трех отдельных сессиях терминала запустите, если еще не запущено, по одной строке из\n",
    "```\n",
    "bash ~/Downloads/dev.sk_robot_rgbd_data/src/skrgbd/scanning/utils/log_viewer.sh all\n",
    "bash ~/Downloads/dev.sk_robot_rgbd_data/src/skrgbd/scanning/utils/log_viewer.sh info\n",
    "bash ~/Downloads/dev.sk_robot_rgbd_data/src/skrgbd/scanning/utils/log_viewer.sh err\n",
    "```\n",
    "В этих сессиях будут отображаться (1) все сообщения с информацией о сканировании, (2) сообщения об основных этапах сканирования, (3) ошибки."
   ]
  },
  {
   "cell_type": "markdown",
   "id": "3d4820d9",
   "metadata": {},
   "source": [
    "## Start the initial camera warmup"
   ]
  },
  {
   "cell_type": "code",
   "execution_count": null,
   "id": "815b77dc",
   "metadata": {},
   "outputs": [],
   "source": [
    "from pathlib import Path\n",
    "import datetime\n",
    "from time import sleep\n",
    "import sys\n",
    "\n",
    "sys.path.append('/home/universal/Downloads/dev.sk_robot_rgbd_data/src')\n",
    "from skrgbd.scanning.scan_helper.scan_helper import ScanHelper"
   ]
  },
  {
   "cell_type": "markdown",
   "id": "93723e6b",
   "metadata": {},
   "source": [
    "1. Initialize the ScanHelper and it will immediately start the camera warmup.\n",
    "   Check in the logs that all 6 cameras are taking images.\n",
    "   The phones click when they take a photo, so if you don't hear the clicking during the warmup\n",
    "   this is an indicator that something goes wrong.\n",
    "   Keep in mind that the phones pause the warmup for a couple of seconds for a cleanup after each 1k photos.\n",
    "2. In a separate shell start the script for monitoring the temperature of the phones\n",
    "```shell\n",
    "python ~/Downloads/dev.sk_robot_rgbd_data/src/skrgbd/scanning/utils/phone_temp.py\n",
    "```"
   ]
  },
  {
   "cell_type": "code",
   "execution_count": null,
   "id": "40452a7e",
   "metadata": {},
   "outputs": [],
   "source": [
    "scans_root = '/mnt/data/sk3d/raw_scans'\n",
    "today = datetime.datetime.now().strftime('%y_%m_%d')\n",
    "logfile = f'/home/universal/Downloads/dev.sk_robot_rgbd_data/experiments/logs/scanning/{today}_cameras.log'\n",
    "started_warmup_at = datetime.datetime.now()\n",
    "\n",
    "scan_helper = ScanHelper(scans_root, logfile, trajectories='spheres', thread='cameras')"
   ]
  },
  {
   "cell_type": "markdown",
   "id": "ed8e2bc8",
   "metadata": {},
   "source": [
    "## Set the white balance of the cameras\n",
    "Setup the white balance once after starting the scan helper.\n",
    "1. Turn off the room lights.\n",
    "2. Plug the projector of the structured light scanner out.\n",
    "3. Run the code below and follow the instructions.\n",
    "4. Plug the projector of the structured light scanner back in.\n",
    "\n",
    "<font color='red'>НЕ ЗАПУСКАЙТЕ эту клетку во время перемещения робота, вызванного из `scan_stl.ipynb`.</font>"
   ]
  },
  {
   "cell_type": "code",
   "execution_count": null,
   "id": "06f179df",
   "metadata": {},
   "outputs": [],
   "source": [
    "scan_helper.camera_trajectory_class().rest(.1)\n",
    "scan_helper.set_white_balance()"
   ]
  },
  {
   "cell_type": "markdown",
   "id": "4bee8ad3",
   "metadata": {},
   "source": [
    "## Scan"
   ]
  },
  {
   "cell_type": "markdown",
   "id": "570c44ec",
   "metadata": {},
   "source": [
    "1. Смотрите этот шаг в `scan_stl.ipynb`.\n",
    "2. Смотрите этот шаг в `scan_stl.ipynb`.\n",
    "3. Задайте имя текущей сцены из таблицы."
   ]
  },
  {
   "cell_type": "code",
   "execution_count": null,
   "id": "b57feffb",
   "metadata": {},
   "outputs": [],
   "source": [
    "scene_name = 'large_coral_backpack'"
   ]
  },
  {
   "cell_type": "markdown",
   "id": "5cf1c1cd",
   "metadata": {},
   "source": [
    "4. Смотрите этот шаг в `scan_stl.ipynb`.\n",
    "5. Смотрите этот шаг в `scan_stl.ipynb`.\n",
    "6. Смотрите этот шаг в `scan_stl.ipynb`.\n",
    "7. Смотрите этот шаг в `scan_stl.ipynb`.\n",
    "8. Смотрите этот шаг в `scan_stl.ipynb`.\n",
    "9. Смотрите этот шаг в `scan_stl.ipynb`.\n",
    "10. Дождитесь прогрева камер.\n",
    "* Если эта съемка --- первая после большого перерыва, то (1) ориентируйтесь на время ниже\n",
    "  и (2) дождитесь выхода температуры телефонов на приблизительное плато.\n",
    "* Если эта съемка после НЕбольшого перерыва, ориентируйтесь только на график температуры телефонов."
   ]
  },
  {
   "cell_type": "code",
   "execution_count": null,
   "id": "df4e5f9b",
   "metadata": {},
   "outputs": [],
   "source": [
    "print(f'Час с начала прогрева закончится в {(started_warmup_at + datetime.timedelta(hours=1)).strftime(\"%X\")}.')"
   ]
  },
  {
   "cell_type": "markdown",
   "id": "01ea5e4d",
   "metadata": {},
   "source": [
    "11. Проверьте правильность расположения ламп.\n",
    "12. Загрузите настройки камер с диска."
   ]
  },
  {
   "cell_type": "code",
   "execution_count": null,
   "id": "0c4afc48",
   "metadata": {},
   "outputs": [],
   "source": [
    "scan_helper.load_camera_settings(scene_name)"
   ]
  },
  {
   "cell_type": "markdown",
   "id": "a4c2128f",
   "metadata": {},
   "source": [
    "13. Снимите объект камерами. При перезапуске, сканирование продолжится с того положения на котором было прервано.\n",
    "\n",
    "Если Вы хотите запустить сканирование сначала, перед сканированием запустите\n",
    "```python\n",
    "scan_helper.reset_camera_scanning_status(scene_name)\n",
    "```\n",
    "\n",
    "<font color='red'>НЕ ЗАПУСКАЙТЕ эту клетку во время перемещения робота, вызванного из `scan_stl.ipynb`.</font>"
   ]
  },
  {
   "cell_type": "code",
   "execution_count": null,
   "id": "ffce2213",
   "metadata": {},
   "outputs": [],
   "source": [
    "scan_helper.scan_cameras(scene_name)"
   ]
  },
  {
   "cell_type": "markdown",
   "id": "26b8a6dc",
   "metadata": {},
   "source": [
    "14. Смотрите этот шаг в `scan_stl.ipynb`.\n",
    "15. Проверьте уровень батареи телефонов и свободное место на дисках.\n",
    "\n",
    "Если свободного места на каком-либо из телефонов меньше 22Г или уровень батареи ниже 20%, то Вы что-то делаете не так."
   ]
  },
  {
   "cell_type": "code",
   "execution_count": null,
   "id": "2fbb3f91",
   "metadata": {},
   "outputs": [],
   "source": [
    "print(f'Left phone\\tbattery {scan_helper.rig.phone_left.battery_level},\\tfree disk space {scan_helper.rig.phone_left.disk_space}')\n",
    "print(f'Right phone\\tbattery {scan_helper.rig.phone_right.battery_level},\\tfree disk space {scan_helper.rig.phone_right.disk_space}')"
   ]
  },
  {
   "cell_type": "markdown",
   "id": "8b53271c",
   "metadata": {},
   "source": [
    "16. Скачайте данные с телефонов, как описано в видеоинструкции."
   ]
  },
  {
   "cell_type": "markdown",
   "id": "8b08235d",
   "metadata": {},
   "source": [
    "## Stop scanning\n",
    "Для остановки камер в конце смены или перед перезапуском тетрадки запустите код ниже."
   ]
  },
  {
   "cell_type": "code",
   "execution_count": null,
   "id": "54755620",
   "metadata": {},
   "outputs": [],
   "source": [
    "scan_helper.stop()"
   ]
  },
  {
   "cell_type": "markdown",
   "id": "ee103b47",
   "metadata": {},
   "source": [
    "Если камеры продолжают снимать, то, скорее всего, клетка зависла:\n",
    "1. Перезапустите тетрадку,\n",
    "2. Запустите прогрев камер,\n",
    "3. запустите клетку выше снова.\n",
    "\n",
    "Если камеры перестали снимать, то клетка должна завершится за 5-10 секунд."
   ]
  },
  {
   "cell_type": "markdown",
   "id": "ccabbefa",
   "metadata": {},
   "source": [
    "Запустите клетку ниже и удостоверьтесь что экраны телефонов погасли."
   ]
  },
  {
   "cell_type": "code",
   "execution_count": null,
   "id": "6a02ea19",
   "metadata": {},
   "outputs": [],
   "source": [
    "! for transport_id in $(adb devices -l | head -n3 | tail -n2 | cut -d' ' -f11 | cut -d':' -f2); do adb -t $transport_id shell 'input keyevent 224 && sleep 1 && input keyevent 26'; done"
   ]
  },
  {
   "cell_type": "markdown",
   "id": "1be32f67",
   "metadata": {},
   "source": [
    "## Turn off the devices\n",
    "Выполните шаги ниже если Ваша смена последняя.\n",
    "\n",
    "**DO NOT put the plugs on metal surfaces, put them on plastic, wood, floor, or leave them in the air.**\n",
    "\n",
    "1. Close the window with the plots of the phone temperatures and battery levels.\n",
    "2. Close ScanCenter and `vm_server.bat` in the virtual machine, but leave the machine running.\n",
    "3. If for some reason the robot is at some weird position, manually put it to some safe position.\n",
    "4. Put the robot into the rest position with the code below.\n",
    "\n",
    "\n",
    "<font color='red'>НЕ ЗАПУСКАЙТЕ эту клетку во время перемещения робота, вызванного из `scan_stl.ipynb`.</font>"
   ]
  },
  {
   "cell_type": "code",
   "execution_count": null,
   "id": "ada698f4",
   "metadata": {},
   "outputs": [],
   "source": [
    "scan_helper.camera_trajectory_class().rest(.1)"
   ]
  },
  {
   "cell_type": "markdown",
   "id": "a77c0334",
   "metadata": {},
   "source": [
    "5. <span style=\"background-color: #FFFF00\">Перезапустите ядро тетрадки,</span> предварительно запустив `scan_helper.stop()` выше.\n",
    "5. Stop and power off the robot.\n",
    "6. Turn off the button on the main lights extender.\n",
    "7. Unplug the main lights extender from the extender between the PC and the metal table.\n",
    "8. Unplug the STL projector.\n",
    "\n",
    "9. If the IR light emmiters of the Kinect are on, unplug it from the PC and plug it back.\n",
    "10. If the IR projector of the RealSense is on, unplug it from the PC and plug it back.\n",
    "11. Запустите клетку ниже и удостоверьтесь что экраны телефонов погасли."
   ]
  },
  {
   "cell_type": "code",
   "execution_count": null,
   "id": "55422921",
   "metadata": {},
   "outputs": [],
   "source": [
    "! for transport_id in $(adb devices -l | head -n3 | tail -n2 | cut -d' ' -f11 | cut -d':' -f2); do adb -t $transport_id shell 'input keyevent 224 && sleep 1 && input keyevent 26'; done"
   ]
  }
 ],
 "metadata": {
  "kernelspec": {
   "display_name": "Python 3",
   "language": "python",
   "name": "python3"
  },
  "language_info": {
   "codemirror_mode": {
    "name": "ipython",
    "version": 3
   },
   "file_extension": ".py",
   "mimetype": "text/x-python",
   "name": "python",
   "nbconvert_exporter": "python",
   "pygments_lexer": "ipython3",
   "version": "3.8.6"
  }
 },
 "nbformat": 4,
 "nbformat_minor": 5
}
