{
 "cells": [
  {
   "cell_type": "markdown",
   "id": "4511cfd3",
   "metadata": {},
   "source": [
    "# Preparations\n",
    "Prepare the setup for scanning, as described in [scan_preparations.ipynb](scan_preparations.ipynb)."
   ]
  },
  {
   "cell_type": "code",
   "execution_count": null,
   "id": "6a79ba94",
   "metadata": {},
   "outputs": [],
   "source": [
    "# Run this cell for correct display of the cells below \n",
    "from IPython.display import HTML\n",
    "style = r\"\"\"\n",
    "<style>\n",
    ".flex-container {\n",
    "    display: flex;\n",
    "    flex-wrap: wrap;\n",
    "    align-items: space-around;\n",
    "    align-items: center;\n",
    "    justify-content: center;\n",
    "}\n",
    "</style>\n",
    "\"\"\"\n",
    "HTML(style)"
   ]
  },
  {
   "cell_type": "markdown",
   "id": "e25c69ce",
   "metadata": {},
   "source": [
    "В трех отдельных сессиях терминала запустите, если еще не запущено, по одной строке из\n",
    "```\n",
    "bash ~/Downloads/dev.sk_robot_rgbd_data/src/skrgbd/scanning/utils/log_viewer.sh all\n",
    "bash ~/Downloads/dev.sk_robot_rgbd_data/src/skrgbd/scanning/utils/log_viewer.sh info\n",
    "bash ~/Downloads/dev.sk_robot_rgbd_data/src/skrgbd/scanning/utils/log_viewer.sh err\n",
    "```\n",
    "В этих сессиях будут отображаться (1) все сообщения с информацией о сканировании, (2) сообщения об основных этапах сканирования, (3) ошибки."
   ]
  },
  {
   "cell_type": "markdown",
   "id": "3d4820d9",
   "metadata": {},
   "source": [
    "## Initialize\n",
    "В виртуальной машине, переключите `ScanCenter` на вкладку `Scanning` и удостоверьтесь в том что камеры сканера снимают изображение, после чего запустите код ниже"
   ]
  },
  {
   "cell_type": "code",
   "execution_count": null,
   "id": "426c9662",
   "metadata": {},
   "outputs": [],
   "source": [
    "from pathlib import Path\n",
    "import datetime\n",
    "from time import sleep\n",
    "import sys\n",
    "\n",
    "sys.path.append('/home/universal/Downloads/dev.sk_robot_rgbd_data/src')\n",
    "from skrgbd.scanning.scan_helper.utils import get_elevation_plates\n",
    "from skrgbd.scanning.scan_helper.scan_helper import ScanHelper"
   ]
  },
  {
   "cell_type": "code",
   "execution_count": null,
   "id": "d380659a",
   "metadata": {},
   "outputs": [],
   "source": [
    "scans_root = '/mnt/data/sk3d/raw_scans'\n",
    "today = datetime.datetime.now().strftime('%y_%m_%d')\n",
    "logfile = f'/home/universal/Downloads/dev.sk_robot_rgbd_data/experiments/logs/scanning/{today}_stl.log'\n",
    "\n",
    "scan_helper = ScanHelper(scans_root, logfile, trajectories='spheres', thread='stl')"
   ]
  },
  {
   "cell_type": "markdown",
   "id": "4bee8ad3",
   "metadata": {},
   "source": [
    "## Scan"
   ]
  },
  {
   "cell_type": "markdown",
   "id": "570c44ec",
   "metadata": {},
   "source": [
    "1. Задайте имя текущей сцены из таблицы."
   ]
  },
  {
   "cell_type": "code",
   "execution_count": null,
   "id": "b57feffb",
   "metadata": {},
   "outputs": [],
   "source": [
    "scene_name = 'grey_braided_box'\n",
    "scan_helper.log_working_with_scene(scene_name)"
   ]
  },
  {
   "cell_type": "markdown",
   "id": "5cf1c1cd",
   "metadata": {},
   "source": [
    "2. запишите в таблицу “Фактическое время начала сканирования”.\n",
    "3. Смотрите этот шаг в `scan_cameras.ipynb`.\n",
    "4. Посмотрите высоты подъемных плит в таблице. Если их там нет, measure the height of the scanned object and put it in the cell below.\n",
    "   Run the cell below and use the elevation plates with the respective heights\n",
    "   to raise the object onto the optimal height."
   ]
  },
  {
   "cell_type": "code",
   "execution_count": null,
   "id": "dd94c919",
   "metadata": {},
   "outputs": [],
   "source": [
    "height = 22  # in cm\n",
    "get_elevation_plates(height)"
   ]
  },
  {
   "cell_type": "markdown",
   "id": "049ce8c9",
   "metadata": {},
   "source": [
    "5. Put the wood plate on top with the smooth side up. \n",
    "6. Cover the stand and the table around it with the black cloth with the matte side up.\n",
    "   There should not be any bumps, wrinkles, or dirt at the top area, where the object will stay.\n",
    "   There should not be any large bumps at the corner of the stand closest to the cameras,\n",
    "   so that the robot does not catch the cloth when it moves.\n",
    "\n",
    "Bad and good cloth placement.\n",
    "In the bad example there are wrinkles at the top area, the table is not covered,\n",
    "and there is a large bump where the robot will move.\n",
    "<div class='flex-container'>\n",
    "    <img src=\"img/bad_cloth.jpg\" style=\"height: 250px;\"/>\n",
    "    <img src=\"img/good_cloth.jpg\" style=\"height: 250px;\"/>\n",
    "</div>"
   ]
  },
  {
   "cell_type": "markdown",
   "id": "9d59ad4e",
   "metadata": {},
   "source": [
    "7. Сделайте structured light скан сцены. Не ждите пока сканы будут сохранены на диск, выполняйте следующие шаги.\n",
    "\n",
    "<font color='red'>НЕ ЗАПУСКАЙТЕ эту клетку во время перемещения робота, вызванного из `scan_cameras.ipynb`.</font>"
   ]
  },
  {
   "cell_type": "code",
   "execution_count": null,
   "id": "7f483f82",
   "metadata": {},
   "outputs": [],
   "source": [
    "saving_stl_to_disk = scan_helper.scan_stl(scene_name)"
   ]
  },
  {
   "cell_type": "markdown",
   "id": "38d07dde",
   "metadata": {},
   "source": [
    "8. <span style=\"background-color: #FFFF00\">ТОЛЬКО ДЛЯ ОКРАШЕННЫХ ОБЪЕКТОВ</span>, как только завершится само сканирование, начнется сохранение сканов на диск,\n",
    "и робот уедет в начальное положение.\n",
    "<span style=\"background-color: #FFFF00\">Запустите следующую ячейку</span> и начинайте удалять краску с объекта:\n",
    "* наденьте респиратор,\n",
    "* настройте фен на 80 градусов,\n",
    "* аккуратно обдувайте объект феном с расстояния 10 см до тех пор, пока вся краска не испарится.\n",
    "* Объект не должен сместиться или деформироваться даже на десятые доли миллиметра."
   ]
  },
  {
   "cell_type": "code",
   "execution_count": null,
   "id": "e3cf0fc0",
   "metadata": {},
   "outputs": [],
   "source": [
    "scan_helper.log_spray_removal(scene_name)"
   ]
  },
  {
   "cell_type": "markdown",
   "id": "e1a3b515",
   "metadata": {},
   "source": [
    "9. <span style=\"background-color: #FFFF00\">ТОЛЬКО ДЛЯ ОКРАШЕННЫХ ОБЪЕКТОВ</span>, после испарения краски, запустите следующую ячейку чтобы дождаться завершения сохранения сканов, и следующую за ней, чтобы сделать проверочные structured light."
   ]
  },
  {
   "cell_type": "code",
   "execution_count": null,
   "id": "90135154",
   "metadata": {},
   "outputs": [],
   "source": [
    "# Если после шага 7 Вы перезапускали тетрадку, запускать эту ячейку не нужно.\n",
    "saving_stl_to_disk.join()"
   ]
  },
  {
   "cell_type": "markdown",
   "id": "bf2319ec",
   "metadata": {},
   "source": [
    "<font color='red'>НЕ ЗАПУСКАЙТЕ эту клетку во время перемещения робота, вызванного из `scan_cameras.ipynb`.</font>"
   ]
  },
  {
   "cell_type": "code",
   "execution_count": null,
   "id": "74e86a20",
   "metadata": {},
   "outputs": [],
   "source": [
    "saving_stl_to_disk = scan_helper.scan_stl_check(scene_name)"
   ]
  },
  {
   "cell_type": "markdown",
   "id": "b5eb2488",
   "metadata": {},
   "source": [
    "10. Смотрите этот шаг в `scan_cameras.ipynb`.\n",
    "11. Смотрите этот шаг в `scan_cameras.ipynb`.\n",
    "12. Смотрите этот шаг в `scan_cameras.ipynb`.\n",
    "13. Смотрите этот шаг в `scan_cameras.ipynb`.\n",
    "14. Запустите следующую ячейку и дождитесь сохранения сканов на диск."
   ]
  },
  {
   "cell_type": "code",
   "execution_count": null,
   "id": "7b775d5d",
   "metadata": {},
   "outputs": [],
   "source": [
    "# Если после шага 7 для неокрашенных объектов, и после шага 8 для окрашенных объектов\n",
    "# Вы перезапускали тетрадку, запускать эту ячейку не нужно.\n",
    "saving_stl_to_disk.join()"
   ]
  },
  {
   "cell_type": "markdown",
   "id": "2a837566",
   "metadata": {},
   "source": [
    "15. Смотрите этот шаг в `scan_cameras.ipynb`.\n",
    "16. Смотрите этот шаг в `scan_cameras.ipynb`."
   ]
  },
  {
   "cell_type": "markdown",
   "id": "1be32f67",
   "metadata": {},
   "source": [
    "## Turn off the devices\n",
    "Смотрите этот шаг в `scan_cameras.ipynb`."
   ]
  }
 ],
 "metadata": {
  "kernelspec": {
   "display_name": "Python 3",
   "language": "python",
   "name": "python3"
  },
  "language_info": {
   "codemirror_mode": {
    "name": "ipython",
    "version": 3
   },
   "file_extension": ".py",
   "mimetype": "text/x-python",
   "name": "python",
   "nbconvert_exporter": "python",
   "pygments_lexer": "ipython3",
   "version": "3.8.6"
  }
 },
 "nbformat": 4,
 "nbformat_minor": 5
}
