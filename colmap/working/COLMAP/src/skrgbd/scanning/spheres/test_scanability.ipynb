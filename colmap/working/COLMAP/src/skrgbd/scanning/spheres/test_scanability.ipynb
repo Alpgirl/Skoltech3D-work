{
 "cells": [
  {
   "cell_type": "code",
   "execution_count": null,
   "id": "0561d972",
   "metadata": {},
   "outputs": [],
   "source": [
    "import sys\n",
    "\n",
    "sys.path.append('/home/universal/Downloads/dev.sk_robot_rgbd_data/src')\n",
    "from skrgbd.devices.robot.robot_on_sphere import RobotOnSTLSphere"
   ]
  },
  {
   "cell_type": "code",
   "execution_count": null,
   "id": "8a1e80f5",
   "metadata": {},
   "outputs": [],
   "source": [
    "robot = RobotOnSTLSphere()"
   ]
  },
  {
   "cell_type": "code",
   "execution_count": null,
   "id": "6544348d",
   "metadata": {},
   "outputs": [],
   "source": [
    "robot.move_to((1, 0), .1);"
   ]
  },
  {
   "cell_type": "code",
   "execution_count": null,
   "id": "6c00d41f",
   "metadata": {},
   "outputs": [],
   "source": [
    "robot.move_to((1, 1), .1);"
   ]
  },
  {
   "cell_type": "code",
   "execution_count": null,
   "id": "98216d5a",
   "metadata": {},
   "outputs": [],
   "source": [
    "robot.rest(.1)"
   ]
  }
 ],
 "metadata": {
  "kernelspec": {
   "display_name": "Python 3",
   "language": "python",
   "name": "python3"
  },
  "language_info": {
   "codemirror_mode": {
    "name": "ipython",
    "version": 3
   },
   "file_extension": ".py",
   "mimetype": "text/x-python",
   "name": "python",
   "nbconvert_exporter": "python",
   "pygments_lexer": "ipython3",
   "version": "3.8.6"
  }
 },
 "nbformat": 4,
 "nbformat_minor": 5
}
