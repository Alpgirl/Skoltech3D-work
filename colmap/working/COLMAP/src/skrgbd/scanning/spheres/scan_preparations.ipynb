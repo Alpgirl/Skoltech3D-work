{
 "cells": [
  {
   "cell_type": "code",
   "execution_count": null,
   "id": "2aff836b",
   "metadata": {},
   "outputs": [],
   "source": [
    "# Run this cell for correct display of the cells below \n",
    "from IPython.display import HTML\n",
    "style = r\"\"\"\n",
    "<style>\n",
    ".flex-container {\n",
    "    display: flex;\n",
    "    flex-wrap: wrap;\n",
    "    align-items: space-around;\n",
    "    align-items: center;\n",
    "    justify-content: center;\n",
    "}\n",
    "</style>\n",
    "\"\"\"\n",
    "HTML(style)"
   ]
  },
  {
   "cell_type": "markdown",
   "id": "6e87ee06",
   "metadata": {},
   "source": [
    "# Setup the system\n",
    "\n",
    "Once after staring the PC, increase USBFS buffer size and check it.\n",
    "```bash\n",
    "echo 1024 | sudo tee /sys/module/usbcore/parameters/usbfs_memory_mb\n",
    "sudo cat /sys/module/usbcore/parameters/usbfs_memory_mb\n",
    "```"
   ]
  },
  {
   "cell_type": "markdown",
   "id": "fa2a25f1",
   "metadata": {},
   "source": [
    "## Check the environment\n",
    "1. Check that the lamps are positioned as described\n",
    "    1. The left softbox is right next to the lamp and its legs are right next to the frame.\n",
    "<div class='flex-container'>\n",
    "    <img src=\"img/soft_left_to_lamp.jpg\" style=\"width: 250px;\"/>\n",
    "    <img src=\"img/soft_left_to_frame.jpg\" style=\"width: 250px;\"/>\n",
    "</div>\n",
    "    2. The right softbox is right next to the background cloth, but without tension on the cloth,\n",
    "       and it does not occlude the nearest lamps.\n",
    "<div class='flex-container'>\n",
    "<img src=\"img/soft_right_to_background.jpg\" style=\"width: 250px;\"/>\n",
    "<img src=\"img/soft_right_to_hard_top.jpg\" style=\"width: 250px;\"/>\n",
    "<img src=\"img/soft_right_to_hard_bottom.jpg\" style=\"width: 250px;\"/>\n",
    "</div>"
   ]
  },
  {
   "cell_type": "markdown",
   "id": "cc6204c3",
   "metadata": {},
   "source": [
    "## Turn on the devices\n",
    "1. Power on and start the robot.\n",
    "2. Plug in the STL projector.\n",
    "<div class='flex-container'>\n",
    "<img src=\"img/left_pc_view.jpg\" style=\"width: 300px;\"/>\n",
    "<img src=\"img/stl_proj_plug.jpg\" style=\"width: 300px;\"/>\n",
    "</div>\n",
    "\n",
    "3. Plug the main lights extender into the extender between the PC and the metal table.\n",
    "<div class='flex-container'>\n",
    "<img src=\"img/right_pc_view.jpg\" style=\"width: 300px;\"/>\n",
    "<img src=\"img/extender_1.jpg\" style=\"width: 300px;\"/>\n",
    "</div>\n",
    "\n",
    "4. Turn on the button on the main lights extender.\n",
    "<div class='flex-container'>\n",
    "<img src=\"img/lights_extender_0.jpg\" style=\"width: 300px;\"/>\n",
    "</div>"
   ]
  },
  {
   "cell_type": "markdown",
   "id": "cbf3f303",
   "metadata": {},
   "source": [
    "## Prepare the structured light scanner\n",
    "Prepare the structured light projector as described below and as shown on the video.\n",
    "\n",
    "1. Hit \"Windows\" key on the keyboard, type 'nvid', and open NVIDIA X Server Settings.\n",
    "2. Go to the tab X Server Display Configuration.\n",
    "3. Select the projector (OTM Optoma), switch Configuration to Disabled and click Apply.\n",
    "4. Switch Configuration to X screen 0 and click Apply.\n",
    "5. Close the NVIDIA X Server Settings.\n",
    "<div class='flex-container'>\n",
    "    <video controls src=\"img/nvidia_stl_projector.mp4\" style=\"height: 400px\"/>\n",
    "</div>\n",
    "\n",
    "Prepare the structured light software as described below.\n",
    "\n",
    "6. Start the VMware Worksation if it is not started yet, put the window on the right display, and start the virtual machine.\n",
    "<div class='flex-container'>\n",
    "    <img src=\"img/vmware.jpg\" style=\"height: 100px;\"/>\n",
    "    <img src=\"img/vmware_start.jpg\" style=\"height: 50px;\"/>\n",
    "</div>\n",
    "\n",
    "7. When the operating system is started, switch the machine to the fullscreen mode.\n",
    "8. Press 'Cycle multiple monitors' at the top panel until the projector is the second display.\n",
    "<div class='flex-container'>\n",
    "    <img src=\"img/vmware_fullscreen.jpg\" style=\"width: 40%;\"/>\n",
    "    <img src=\"img/vmware_cycle.jpg\" style=\"width: 40%;\"/>\n",
    "</div>\n",
    "\n",
    "9. Start the ScanCenter and check the status of the devices: Cameras, Projector, and License key all should be white. The projector has to be showing the cross.\n",
    "<div class='flex-container'>\n",
    "    <img src=\"img/scancenter_devices.jpg\" style=\"height: 200px\"/>\n",
    "</div>\n",
    "\n",
    "    * If the cameras or the licence key are not detected, check that they are connected to the PC,\n",
    "      and check that they are connected to the virtual machine as shown in the video\n",
    "<div class='flex-container'>\n",
    "    <video controls src=\"img/scancenter_connect_usb.mp4\" style=\"height: 400px\"/>\n",
    "</div>\n",
    "\n",
    "    * If the projector is not detected, or all devices are detected but the projector does not show the cross,\n",
    "      close ScanCenter and repeat the steps 1-5, then 7-9.\n",
    "\n",
    "10. Switch to the Scanning tab and check that the cameras are streaming.\n",
    "    In the ScanCenter window tap 'S' or 'A' to turn the projector off or turn the cross back on:\n",
    "    switch the projector back and forth to see if the cameras are working.\n",
    "11. Snap ScanCenter window to the left edge of the screen and resize it so that it takes 2/3 of the screen, as shown in the video below.\n",
    "12. Start the remote control server by running `vm_server.bat` on the desktop,\n",
    "    and snap it to the right edge of the screen.\n",
    "<div class='flex-container'>\n",
    "    <video controls src=\"img/vm_windows_layout.mp4\" style=\"height: 400px\"/>\n",
    "</div>"
   ]
  }
 ],
 "metadata": {
  "kernelspec": {
   "display_name": "Python 3",
   "language": "python",
   "name": "python3"
  },
  "language_info": {
   "codemirror_mode": {
    "name": "ipython",
    "version": 3
   },
   "file_extension": ".py",
   "mimetype": "text/x-python",
   "name": "python",
   "nbconvert_exporter": "python",
   "pygments_lexer": "ipython3",
   "version": "3.8.6"
  }
 },
 "nbformat": 4,
 "nbformat_minor": 5
}
