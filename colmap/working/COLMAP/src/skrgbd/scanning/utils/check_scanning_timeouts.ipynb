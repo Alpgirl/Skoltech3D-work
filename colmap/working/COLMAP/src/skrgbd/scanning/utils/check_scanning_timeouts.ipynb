{
 "cells": [
  {
   "cell_type": "markdown",
   "id": "a5486fba",
   "metadata": {},
   "source": [
    "Here we compare the images taken with the standard scanning timeouts and with long timeous.\n",
    "If the standard scanning timeouts are correct, the images should be the same."
   ]
  },
  {
   "cell_type": "code",
   "execution_count": null,
   "id": "fb81ea51",
   "metadata": {},
   "outputs": [],
   "source": [
    "from pathlib import Path\n",
    "import sys\n",
    "\n",
    "from PIL import Image\n",
    "import numpy as np\n",
    "\n",
    "import matplotlib.pyplot as plt\n",
    "\n",
    "sys.path.append('/home/universal/Downloads/dev.sk_robot_rgbd_data/src')\n",
    "from skrgbd.data.image_utils import unpack_float32"
   ]
  },
  {
   "cell_type": "code",
   "execution_count": null,
   "id": "4e1e5115",
   "metadata": {},
   "outputs": [],
   "source": [
    "dir_long = '/tmp/scanning/test_long'\n",
    "dir_standard = '/tmp/scanning/test_short.kinect_ir_300ms'"
   ]
  },
  {
   "cell_type": "markdown",
   "id": "f345d95a",
   "metadata": {},
   "source": [
    "## RealSense"
   ]
  },
  {
   "cell_type": "code",
   "execution_count": null,
   "id": "0fc386da",
   "metadata": {},
   "outputs": [],
   "source": [
    "camera = 'real_sense'"
   ]
  },
  {
   "cell_type": "markdown",
   "id": "ebc45e81",
   "metadata": {},
   "source": [
    "### RGB"
   ]
  },
  {
   "cell_type": "raw",
   "id": "7d073e47",
   "metadata": {},
   "source": [
    "images = []\n",
    "images_long = []\n",
    "difs = []\n",
    "\n",
    "for file in filter(\n",
    "    lambda file: not file.name.endswith(('_ir.png', '_irr.png', '_depth.png')),\n",
    "    Path(f'{dir_standard}/{camera}').iterdir()\n",
    "):\n",
    "    file_long = Path(f'{dir_long}/{camera}/{file.name}')\n",
    "    image = np.asarray(Image.open(str(file)))\n",
    "    images.append(image)\n",
    "    image_long = np.asarray(Image.open(str(file_long)))\n",
    "    images_long.append(image_long)\n",
    "    dif = image.astype(np.float32) - image_long.astype(np.float32)\n",
    "    dif = np.mean(dif, 2)\n",
    "    difs.append(dif)\n",
    "    \n",
    "fig, axes = plt.subplots(len(images), 3, figsize=(6 * 3, 4 * len(images)))\n",
    "vmax = 10\n",
    "\n",
    "for i in range(len(images)):\n",
    "    axes[i, 0].imshow(difs[i], cmap='gray', vmin=-vmax, vmax=vmax)\n",
    "    axes[i, 1].imshow(images[i])\n",
    "    axes[i, 2].imshow(images_long[i])\n",
    "fig.tight_layout()"
   ]
  },
  {
   "cell_type": "markdown",
   "id": "0bc1b5a0",
   "metadata": {},
   "source": [
    "### IR\n",
    "Keep in mind that due to blinking IR emitters of the phones the IR images of RealSense WILL differ.\n",
    "However, the difference caused by the phone IR emitters looks like a bright (or dark) spot in the center of the image, in contrast to overall lightening or darkening of the image caused by a too short timeout."
   ]
  },
  {
   "cell_type": "raw",
   "id": "a2cd5542",
   "metadata": {},
   "source": [
    "images = []\n",
    "images_long = []\n",
    "difs = []\n",
    "\n",
    "for file in filter(\n",
    "    lambda file: file.name.endswith(('_ir.png', '_irr.png')),\n",
    "    Path(f'{dir_standard}/{camera}').iterdir()\n",
    "):\n",
    "    file_long = Path(f'{dir_long}/{camera}/{file.name}')\n",
    "    image = np.asarray(Image.open(str(file)))\n",
    "    images.append(image)\n",
    "    image_long = np.asarray(Image.open(str(file_long)))\n",
    "    images_long.append(image_long)\n",
    "    dif = image.astype(np.float32) - image_long.astype(np.float32)\n",
    "    difs.append(dif)\n",
    "    \n",
    "fig, axes = plt.subplots(len(images), 3, figsize=(6 * 3, 4 * len(images)))\n",
    "vmax = 10\n",
    "\n",
    "for i in range(len(images)):\n",
    "    axes[i, 0].imshow(difs[i], cmap='gray', vmin=-vmax, vmax=vmax)\n",
    "    axes[i, 1].imshow(images[i], cmap='gray')\n",
    "    axes[i, 2].imshow(images_long[i], cmap='gray')\n",
    "fig.tight_layout()"
   ]
  },
  {
   "cell_type": "markdown",
   "id": "f75d95f9",
   "metadata": {},
   "source": [
    "## Kinect"
   ]
  },
  {
   "cell_type": "code",
   "execution_count": null,
   "id": "0fc58235",
   "metadata": {},
   "outputs": [],
   "source": [
    "camera = 'kinect_v2'"
   ]
  },
  {
   "cell_type": "markdown",
   "id": "aa7a6413",
   "metadata": {},
   "source": [
    "### RGB"
   ]
  },
  {
   "cell_type": "raw",
   "id": "a32e1bad",
   "metadata": {
    "scrolled": true
   },
   "source": [
    "images = []\n",
    "images_long = []\n",
    "difs = []\n",
    "\n",
    "for file in filter(\n",
    "    lambda file: not file.name.endswith(('_ir.png', '_depth.png')),\n",
    "    Path(f'{dir_standard}/{camera}').iterdir()\n",
    "):\n",
    "    file_long = Path(f'{dir_long}/{camera}/{file.name}')\n",
    "    image = np.asarray(Image.open(str(file)))\n",
    "    images.append(image)\n",
    "    image_long = np.asarray(Image.open(str(file_long)))\n",
    "    images_long.append(image_long)\n",
    "    dif = image.astype(np.float32) - image_long.astype(np.float32)\n",
    "    dif = np.mean(dif, 2)\n",
    "    difs.append(dif)\n",
    "    \n",
    "fig, axes = plt.subplots(len(images), 3, figsize=(6 * 3, 4 * len(images)))\n",
    "vmax = 10\n",
    "\n",
    "for i in range(len(images)):\n",
    "    axes[i, 0].imshow(difs[i], cmap='gray', vmin=-vmax, vmax=vmax)\n",
    "    axes[i, 1].imshow(images[i])\n",
    "    axes[i, 2].imshow(images_long[i])\n",
    "fig.tight_layout()"
   ]
  },
  {
   "cell_type": "markdown",
   "id": "b0d64308",
   "metadata": {},
   "source": [
    "### IR"
   ]
  },
  {
   "cell_type": "raw",
   "id": "cd588133",
   "metadata": {},
   "source": [
    "images = []\n",
    "images_long = []\n",
    "difs = []\n",
    "\n",
    "for file in filter(\n",
    "    lambda file: file.name.endswith('_ir.png'),\n",
    "    Path(f'{dir_standard}/{camera}').iterdir()\n",
    "):\n",
    "    file_long = Path(f'{dir_long}/{camera}/{file.name}')\n",
    "    image = unpack_float32(np.asarray(Image.open(str(file)))) / 65535\n",
    "    images.append(image)\n",
    "    image_long = unpack_float32(np.asarray(Image.open(str(file_long)))) / 65535\n",
    "    images_long.append(image_long)\n",
    "    dif = image - image_long\n",
    "    difs.append(dif)\n",
    "    \n",
    "fig, axes = plt.subplots(len(images), 3, figsize=(6 * 3, 4 * len(images)))\n",
    "vmax = .04\n",
    "\n",
    "for i in range(len(images)):\n",
    "    axes[i, 0].imshow(difs[i], cmap='gray', vmin=-vmax, vmax=vmax)\n",
    "    axes[i, 1].imshow(images[i], cmap='gray', vmin=0, vmax=1)\n",
    "    axes[i, 2].imshow(images_long[i], cmap='gray', vmin=0, vmax=1)\n",
    "fig.tight_layout()"
   ]
  },
  {
   "cell_type": "markdown",
   "id": "86257537",
   "metadata": {},
   "source": [
    "## TIS Left"
   ]
  },
  {
   "cell_type": "code",
   "execution_count": null,
   "id": "f07f3cdd",
   "metadata": {},
   "outputs": [],
   "source": [
    "camera = 'tis_left'"
   ]
  },
  {
   "cell_type": "raw",
   "id": "cff1eb67",
   "metadata": {},
   "source": [
    "images = []\n",
    "images_long = []\n",
    "\n",
    "for file in Path(f'{dir_standard}/{camera}').iterdir():\n",
    "    file_long = Path(f'{dir_long}/{camera}/{file.name}')\n",
    "    image = np.asarray(Image.open(str(file)))\n",
    "    images.append(image)\n",
    "    image_long = np.asarray(Image.open(str(file_long)))\n",
    "    images_long.append(image_long)\n",
    "\n",
    "images = np.stack(images)\n",
    "images_long = np.stack(images_long)\n",
    "difs = images.astype(np.float32) - images_long.astype(np.float32)\n",
    "difs = np.mean(difs, -1)\n",
    "    \n",
    "fig, axes = plt.subplots(len(images), 3, figsize=(6 * 3, 4 * len(images)))\n",
    "vmax = 10\n",
    "\n",
    "for i in range(len(images)):\n",
    "    axes[i, 0].imshow(difs[i], cmap='gray', vmin=-vmax, vmax=vmax)\n",
    "    axes[i, 1].imshow(images[i])\n",
    "    axes[i, 2].imshow(images_long[i])\n",
    "fig.tight_layout()"
   ]
  },
  {
   "cell_type": "markdown",
   "id": "4f991603",
   "metadata": {},
   "source": [
    "## TIS Right"
   ]
  },
  {
   "cell_type": "code",
   "execution_count": null,
   "id": "909e4333",
   "metadata": {},
   "outputs": [],
   "source": [
    "camera = 'tis_right'"
   ]
  },
  {
   "cell_type": "raw",
   "id": "744a38e8",
   "metadata": {},
   "source": [
    "images = []\n",
    "images_long = []\n",
    "\n",
    "for file in Path(f'{dir_standard}/{camera}').iterdir():\n",
    "    file_long = Path(f'{dir_long}/{camera}/{file.name}')\n",
    "    image = np.asarray(Image.open(str(file)))\n",
    "    images.append(image)\n",
    "    image_long = np.asarray(Image.open(str(file_long)))\n",
    "    images_long.append(image_long)\n",
    "\n",
    "images = np.stack(images)\n",
    "images_long = np.stack(images_long)\n",
    "difs = images.astype(np.float32) - images_long.astype(np.float32)\n",
    "difs = np.mean(difs, -1)\n",
    "  \n",
    "fig, axes = plt.subplots(len(images), 3, figsize=(6 * 3, 4 * len(images)))\n",
    "vmax = 10\n",
    "\n",
    "for i in range(len(images)):\n",
    "    axes[i, 0].imshow(difs[i], cmap='gray', vmin=-vmax, vmax=vmax)\n",
    "    axes[i, 1].imshow(images[i])\n",
    "    axes[i, 2].imshow(images_long[i])\n",
    "fig.tight_layout()"
   ]
  },
  {
   "cell_type": "markdown",
   "id": "b36be396",
   "metadata": {},
   "source": [
    "## Phone Left"
   ]
  },
  {
   "cell_type": "code",
   "execution_count": null,
   "id": "9d3b605b",
   "metadata": {},
   "outputs": [],
   "source": [
    "camera = 'phone_left'\n",
    "s = 8"
   ]
  },
  {
   "cell_type": "markdown",
   "id": "e94247a7",
   "metadata": {},
   "source": [
    "### RGB"
   ]
  },
  {
   "cell_type": "raw",
   "id": "af8a7db7",
   "metadata": {},
   "source": [
    "images = []\n",
    "images_long = []\n",
    "\n",
    "for file in filter(\n",
    "    lambda file: not file.name.endswith(('_ir.png', '_depth.png')),\n",
    "    Path(f'{dir_standard}/{camera}').iterdir()\n",
    "):\n",
    "    file_long = Path(f'{dir_long}/{camera}/{file.name}')\n",
    "    image = np.asarray(Image.open(str(file)))[::s, ::s]\n",
    "    images.append(image)\n",
    "    image_long = np.asarray(Image.open(str(file_long)))[::s, ::s]\n",
    "    images_long.append(image_long)\n",
    "\n",
    "images = np.stack(images)\n",
    "images_long = np.stack(images_long)\n",
    "difs = images.astype(np.float32) - images_long.astype(np.float32)\n",
    "difs = np.mean(difs, -1)\n",
    "\n",
    "fig, axes = plt.subplots(len(images), 3, figsize=(6 * 3, 4 * len(images)))\n",
    "vmax = 10\n",
    "\n",
    "for i in range(len(images)):\n",
    "    axes[i, 0].imshow(difs[i], cmap='gray', vmin=-vmax, vmax=vmax)\n",
    "    axes[i, 1].imshow(images[i])\n",
    "    axes[i, 2].imshow(images_long[i])\n",
    "fig.tight_layout()"
   ]
  },
  {
   "cell_type": "markdown",
   "id": "ef044764",
   "metadata": {},
   "source": [
    "### IR"
   ]
  },
  {
   "cell_type": "raw",
   "id": "963bedd8",
   "metadata": {},
   "source": [
    "images = []\n",
    "images_long = []\n",
    "\n",
    "for file in filter(\n",
    "    lambda file: file.name.endswith('_ir.png'),\n",
    "    Path(f'{dir_standard}/{camera}').iterdir()\n",
    "):\n",
    "    file_long = Path(f'{dir_long}/{camera}/{file.name}')\n",
    "    image = np.asarray(Image.open(str(file)))\n",
    "    images.append(image)\n",
    "    image_long = np.asarray(Image.open(str(file_long)))\n",
    "    images_long.append(image_long)\n",
    "\n",
    "images = np.stack(images)\n",
    "images_long = np.stack(images_long)\n",
    "difs = images.astype(np.float32) - images_long.astype(np.float32)\n",
    "\n",
    "fig, axes = plt.subplots(len(images), 3, figsize=(6 * 3, 4 * len(images)))\n",
    "vmax = 100\n",
    "\n",
    "for i in range(len(images)):\n",
    "    axes[i, 0].imshow(difs[i], cmap='gray', vmin=-vmax, vmax=vmax)\n",
    "    axes[i, 1].imshow(images[i], cmap='gray', vmin=0, vmax=images_long[i].max())\n",
    "    axes[i, 2].imshow(images_long[i], cmap='gray', vmin=0, vmax=images_long[i].max())\n",
    "fig.tight_layout()"
   ]
  },
  {
   "cell_type": "markdown",
   "id": "c8c79f05",
   "metadata": {},
   "source": [
    "## Phone Right"
   ]
  },
  {
   "cell_type": "code",
   "execution_count": null,
   "id": "a037c7dc",
   "metadata": {},
   "outputs": [],
   "source": [
    "camera = 'phone_right'\n",
    "s = 8"
   ]
  },
  {
   "cell_type": "markdown",
   "id": "ab3b4d81",
   "metadata": {},
   "source": [
    "### RGB"
   ]
  },
  {
   "cell_type": "raw",
   "id": "67fb10da",
   "metadata": {},
   "source": [
    "images = []\n",
    "images_long = []\n",
    "\n",
    "for file in filter(\n",
    "    lambda file: not file.name.endswith(('_ir.png', '_depth.png')),\n",
    "    Path(f'{dir_standard}/{camera}').iterdir()\n",
    "):\n",
    "    file_long = Path(f'{dir_long}/{camera}/{file.name}')\n",
    "    image = np.asarray(Image.open(str(file)))[::s, ::s]\n",
    "    images.append(image)\n",
    "    image_long = np.asarray(Image.open(str(file_long)))[::s, ::s]\n",
    "    images_long.append(image_long)\n",
    "\n",
    "images = np.stack(images)\n",
    "images_long = np.stack(images_long)\n",
    "difs = images.astype(np.float32) - images_long.astype(np.float32)\n",
    "difs = np.mean(difs, -1)\n",
    "\n",
    "fig, axes = plt.subplots(len(images), 3, figsize=(6 * 3, 4 * len(images)))\n",
    "vmax = 10\n",
    "\n",
    "for i in range(len(images)):\n",
    "    axes[i, 0].imshow(difs[i], cmap='gray', vmin=-vmax, vmax=vmax)\n",
    "    axes[i, 1].imshow(images[i])\n",
    "    axes[i, 2].imshow(images_long[i])\n",
    "fig.tight_layout()"
   ]
  },
  {
   "cell_type": "markdown",
   "id": "77189d5c",
   "metadata": {},
   "source": [
    "### IR"
   ]
  },
  {
   "cell_type": "raw",
   "id": "54fab040",
   "metadata": {},
   "source": [
    "images = []\n",
    "images_long = []\n",
    "\n",
    "for file in filter(\n",
    "    lambda file: file.name.endswith('_ir.png'),\n",
    "    Path(f'{dir_standard}/{camera}').iterdir()\n",
    "):\n",
    "    file_long = Path(f'{dir_long}/{camera}/{file.name}')\n",
    "    image = np.asarray(Image.open(str(file)))\n",
    "    images.append(image)\n",
    "    image_long = np.asarray(Image.open(str(file_long)))\n",
    "    images_long.append(image_long)\n",
    "\n",
    "images = np.stack(images)\n",
    "images_long = np.stack(images_long)\n",
    "difs = images.astype(np.float32) - images_long.astype(np.float32)\n",
    "\n",
    "fig, axes = plt.subplots(len(images), 3, figsize=(6 * 3, 4 * len(images)))\n",
    "vmax = 100\n",
    "\n",
    "for i in range(len(images)):\n",
    "    axes[i, 0].imshow(difs[i], cmap='gray', vmin=-vmax, vmax=vmax)\n",
    "    axes[i, 1].imshow(images[i], cmap='gray', vmin=0, vmax=images_long[i].max())\n",
    "    axes[i, 2].imshow(images_long[i], cmap='gray', vmin=0, vmax=images_long[i].max())\n",
    "fig.tight_layout()"
   ]
  }
 ],
 "metadata": {
  "kernelspec": {
   "display_name": "Python 3",
   "language": "python",
   "name": "python3"
  },
  "language_info": {
   "codemirror_mode": {
    "name": "ipython",
    "version": 3
   },
   "file_extension": ".py",
   "mimetype": "text/x-python",
   "name": "python",
   "nbconvert_exporter": "python",
   "pygments_lexer": "ipython3",
   "version": "3.8.6"
  }
 },
 "nbformat": 4,
 "nbformat_minor": 5
}
