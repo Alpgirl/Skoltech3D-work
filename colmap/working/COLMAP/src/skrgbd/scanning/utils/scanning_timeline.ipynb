{
 "cells": [
  {
   "cell_type": "code",
   "execution_count": null,
   "id": "c0feb72b",
   "metadata": {},
   "outputs": [],
   "source": [
    "from datetime import datetime\n",
    "import re\n",
    "\n",
    "import numpy as np\n",
    "import matplotlib.pyplot as plt\n",
    "from matplotlib.ticker import MultipleLocator, AutoMinorLocator"
   ]
  },
  {
   "cell_type": "code",
   "execution_count": null,
   "id": "46d2a71c",
   "metadata": {},
   "outputs": [],
   "source": [
    "# log_file = '/home/universal/Downloads/tmp.log'\n",
    "# log_file = '/home/universal/Downloads/dev.sk_robot_rgbd_data/experiments/demo_scans/tmp_2.log'\n",
    "log_file = '/home/ovoinov/remotes/root.thanos/home/universal/Downloads/dev.sk_robot_rgbd_data/experiments/logs/scanning/22_02_28_cameras.log'"
   ]
  },
  {
   "cell_type": "code",
   "execution_count": null,
   "id": "22d531a1",
   "metadata": {},
   "outputs": [],
   "source": [
    "def is_logger_msg(line):\n",
    "    return (\n",
    "        line.startswith('2022-')\n",
    "        and line.partition(':   ')[1] != ''\n",
    "    )\n",
    "\n",
    "\n",
    "def parse_line(l):\n",
    "    try:\n",
    "        if not is_logger_msg(l):\n",
    "            return dict(time=None, context='', msg='')\n",
    "        meta, _, msg = l.partition(':   ')\n",
    "        msg = msg[:-1]\n",
    "        date, time, loglevel, context = meta.split()\n",
    "        time = datetime.strptime(f'{date} {time}000', '%Y-%m-%d %H:%M:%S,%f')\n",
    "        return dict(time=time, context=context, msg=msg)\n",
    "    except:\n",
    "        print(l)\n",
    "        raise"
   ]
  },
  {
   "cell_type": "code",
   "execution_count": null,
   "id": "58a483f0",
   "metadata": {},
   "outputs": [],
   "source": [
    "scene = 'golden_bust'\n",
    "\n",
    "lines = open(log_file).readlines()\n",
    "start_i = -1\n",
    "while parse_line(lines[start_i])['msg'] != f'Scan with cameras {scene}':\n",
    "    start_i -= 1\n",
    "    \n",
    "end_i = -1\n",
    "while parse_line(lines[end_i])['msg'] != f'Scan with cameras {scene} DONE':\n",
    "    end_i -= 1\n",
    "    \n",
    "lines = lines[start_i: end_i + 1]\n",
    "\n",
    "lines = list(filter(is_logger_msg, lines))"
   ]
  },
  {
   "cell_type": "code",
   "execution_count": null,
   "id": "7dc34b07",
   "metadata": {},
   "outputs": [],
   "source": [
    "for l in lines:\n",
    "    data = parse_line(l)\n",
    "    if data['msg'] == 'Move robot':\n",
    "        start = data['time']\n",
    "        break"
   ]
  },
  {
   "cell_type": "code",
   "execution_count": null,
   "id": "b99fd628",
   "metadata": {},
   "outputs": [],
   "source": [
    "cameras = ['kinect_v2', 'phone_left', 'phone_right', 'real_sense', 'tis_left', 'tis_right']\n",
    "\n",
    "events = [\n",
    "    '^Move robot$',\n",
    "    '^Move robot DONE$',\n",
    "    '^Wait after Move robot$',\n",
    "    '^Wait after Move robot DONE$',\n",
    "    '^Close Kinect IR$',\n",
    "    '^Save phone_left \\(1\\) depth$',\n",
    "    '^Save phone_right \\(2\\) depth$',\n",
    "    '^Setup light.*$(?<!DONE)',\n",
    "    '^Setup light.* DONE$',\n",
    "    '^Open Kinect IR$',\n",
    "    '^Save Kinect depth$',\n",
    "]\n",
    "\n",
    "for camera in cameras:\n",
    "    events.append(f'^Setup {camera}.*$(?<!DONE)')\n",
    "    events.append(f'^Setup {camera}.* DONE$')\n",
    "    events.append(f'{camera}: Taking image')\n",
    "    events.append(f'{camera}: Taking image DONE')\n",
    "    events.append(f'^Wait after Setup light .* #{camera}$(?<!DONE)')\n",
    "    events.append(f'^Wait after Setup light .* #{camera} DONE$')"
   ]
  },
  {
   "cell_type": "code",
   "execution_count": null,
   "id": "2aaaf88f",
   "metadata": {},
   "outputs": [],
   "source": [
    "times = {event: [] for event in events}\n",
    "lights = set()\n",
    "\n",
    "for l in lines:\n",
    "    data = parse_line(l)\n",
    "    context = data['context']\n",
    "    msg = data['msg']\n",
    "    time = (data['time'] - start).total_seconds()\n",
    "    if time < 0:\n",
    "        continue\n",
    "    if context == 'ScanHelper':\n",
    "        for event in events:\n",
    "            if re.match(event, msg):\n",
    "                times[event].append(time)\n",
    "        if msg.startswith('Setup light'):\n",
    "            lights.add(msg)\n",
    "\n",
    "    if context in cameras:\n",
    "        if re.match('^Taking image$(?<!DONE)', msg):\n",
    "            times[f'{context}: Taking image'].append(time)\n",
    "        if re.match('^Taking image DONE$', msg):\n",
    "            times[f'{context}: Taking image DONE'].append(time)\n",
    "\n",
    "times = {k: np.array(v) for (k, v) in times.items()}\n",
    "lights_n = len(lights)"
   ]
  },
  {
   "cell_type": "raw",
   "id": "52b408cd",
   "metadata": {},
   "source": [
    "for camera in cameras:\n",
    "    n1 = times[f'{camera}: Taking image'].size\n",
    "    n2 = times[f'{camera}: Taking image DONE'].size\n",
    "    print(f'{camera}: {n1} / {n2}')"
   ]
  },
  {
   "cell_type": "code",
   "execution_count": null,
   "id": "27f0d58c",
   "metadata": {},
   "outputs": [],
   "source": [
    "y = 0\n",
    "figure = plt.figure(figsize=(30, 15))\n",
    "\n",
    "plt.barh(\n",
    "    y, label='move',\n",
    "    left=times['^Move robot$'], width=times['^Move robot DONE$'] - times['^Move robot$'],\n",
    "    color='tab:blue'\n",
    ")\n",
    "plt.barh(\n",
    "    y, label='shake',\n",
    "    left=times['^Wait after Move robot$'], width=times['^Wait after Move robot DONE$'] - times['^Wait after Move robot$'],\n",
    "    alpha=.3, color='tab:blue'\n",
    ")\n",
    "\n",
    "y = -1\n",
    "# plt.barh(\n",
    "#     y, label='close ir',\n",
    "#     left=times['^Close Kinect IR$'], width=times['^Save phone.* \\(1\\) depth$'] - times['^Close Kinect IR$'],\n",
    "#     color='tab:brown', alpha=1\n",
    "# )\n",
    "plt.barh(\n",
    "    y, label='open ir',\n",
    "    left=times['^Open Kinect IR$'], width=times['^Save Kinect depth$'] - times['^Open Kinect IR$'],\n",
    "    color='tab:brown', alpha=.3\n",
    ")\n",
    "plt.barh(\n",
    "    y, label='phone 1 depth',\n",
    "    left=times['^Save phone_left \\(1\\) depth$'], width=times['^Save phone_right \\(2\\) depth$'] - times['^Save phone_left \\(1\\) depth$'],\n",
    "    color='tab:red', hatch='/'\n",
    ")\n",
    "plt.barh(\n",
    "    y, label='phone 2 depth',\n",
    "    left=times['^Save phone_right \\(2\\) depth$'], width=times['^Open Kinect IR$'] - times['^Save phone_right \\(2\\) depth$'],\n",
    "    color='tab:red', hatch='\\\\'\n",
    ")\n",
    "\n",
    "y = -2\n",
    "plt.barh(\n",
    "    y, label='light',\n",
    "    left=times['^Setup light.*$(?<!DONE)'], width=times['^Setup light.* DONE$'] - times['^Setup light.*$(?<!DONE)'],\n",
    "    color='yellow',\n",
    ")\n",
    "\n",
    "kwargs = {\n",
    "    'kinect_v2': {'color': 'tab:blue'},\n",
    "    'phone_left': {'color': 'tab:orange'},\n",
    "    'phone_right': {'color': 'tab:green'},\n",
    "    'real_sense': {'color': 'tab:red'},\n",
    "    'tis_left': {'color': 'tab:purple'},\n",
    "    'tis_right': {'color': 'tab:pink'},\n",
    "}\n",
    "for camera in cameras:\n",
    "    y -= 1\n",
    "    if camera not in {'tis_left', 'tis_right', 'kinect_v2'}:\n",
    "        plt.barh(\n",
    "            y,\n",
    "            left=times[f'^Setup {camera}.*$(?<!DONE)'], width=times[f'^Setup {camera}.* DONE$'] - times[f'^Setup {camera}.*$(?<!DONE)'],\n",
    "            hatch='x', **kwargs[camera]\n",
    "        )\n",
    "    plt.barh(\n",
    "        y,\n",
    "        left=times[f'^Wait after Setup light .* #{camera} DONE$'], width=times[f'^Wait after Setup light .* #{camera}$(?<!DONE)'] - times[f'^Wait after Setup light .* #{camera} DONE$'],\n",
    "        alpha=.3, **kwargs[camera]\n",
    "    )\n",
    "    plt.barh(\n",
    "        y, label=camera,\n",
    "        left=times[f'{camera}: Taking image'], width=times[f'{camera}: Taking image DONE'] - times[f'{camera}: Taking image'],\n",
    "        **kwargs[camera]\n",
    "    )\n",
    "\n",
    "\n",
    "plt.grid()\n",
    "plt.legend()\n",
    "ax = plt.gca()\n",
    "ax.xaxis.set_major_locator(MultipleLocator(1))\n",
    "ax.xaxis.set_minor_locator(MultipleLocator(.1))\n",
    "ax.tick_params(which='minor', length=4)\n",
    "plt.xlim(0, 1);\n",
    "plt.close()"
   ]
  },
  {
   "cell_type": "raw",
   "id": "378b7c29",
   "metadata": {},
   "source": [
    "print(times['^Move robot$'][1:] - times['^Move robot$'][:-1])"
   ]
  },
  {
   "cell_type": "code",
   "execution_count": null,
   "id": "6ae07160",
   "metadata": {},
   "outputs": [],
   "source": [
    "plt.sca(ax)\n",
    "i = 5\n",
    "x0 = times['^Move robot$'][i] - 1\n",
    "x1 = times['^Move robot$'][i + 1] + 1\n",
    "plt.xlim(x0, x1);"
   ]
  },
  {
   "cell_type": "raw",
   "id": "d25989ee",
   "metadata": {},
   "source": [
    "print(times['^Move robot$'][1:] - times['^Move robot$'][:-1])"
   ]
  },
  {
   "cell_type": "code",
   "execution_count": null,
   "id": "6da26bfa",
   "metadata": {},
   "outputs": [],
   "source": [
    "plt.sca(ax)\n",
    "i = 5\n",
    "x0 = times['^Move robot$'][i] - 1\n",
    "x1 = times['^Move robot$'][i + 1] + 1\n",
    "plt.xlim(x0, x1);"
   ]
  }
 ],
 "metadata": {
  "kernelspec": {
   "display_name": "Python 3",
   "language": "python",
   "name": "python3"
  },
  "language_info": {
   "codemirror_mode": {
    "name": "ipython",
    "version": 3
   },
   "file_extension": ".py",
   "mimetype": "text/x-python",
   "name": "python",
   "nbconvert_exporter": "python",
   "pygments_lexer": "ipython3",
   "version": "3.8.6"
  }
 },
 "nbformat": 4,
 "nbformat_minor": 5
}
