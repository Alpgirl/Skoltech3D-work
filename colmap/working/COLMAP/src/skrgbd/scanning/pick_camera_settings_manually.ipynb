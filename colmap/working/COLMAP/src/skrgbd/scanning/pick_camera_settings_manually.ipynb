{
 "cells": [
  {
   "cell_type": "markdown",
   "id": "a09cc86d",
   "metadata": {},
   "source": [
    "## Preparations\n",
    "\n",
    "После перезагрузки компьютера, запустите следующие команды в терминале (пароль 1qaz!QAZ).\n",
    "```bash\n",
    "echo 1024 | sudo tee /sys/module/usbcore/parameters/usbfs_memory_mb\n",
    "sudo cat /sys/module/usbcore/parameters/usbfs_memory_mb\n",
    "```\n",
    "\n",
    "В трех отдельных сессиях терминала запустите, если еще не запущено, по одной строке из\n",
    "```bash\n",
    "bash ~/Downloads/dev.sk_robot_rgbd_data/src/skrgbd/scanning/utils/log_viewer.sh all\n",
    "bash ~/Downloads/dev.sk_robot_rgbd_data/src/skrgbd/scanning/utils/log_viewer.sh info\n",
    "bash ~/Downloads/dev.sk_robot_rgbd_data/src/skrgbd/scanning/utils/log_viewer.sh err\n",
    "```\n",
    "В этих сессиях будут отображаться (1) все сообщения с информацией о сканировании, (2) сообщения об основных этапах сканирования, (3) ошибки."
   ]
  },
  {
   "cell_type": "markdown",
   "id": "96020add",
   "metadata": {},
   "source": [
    "## Start the cameras\n",
    "\n",
    "1. Запустите код в следующей клетке: он инициализирует камеры.\n",
    "Проверьте по логам что все 6 камер инициализировались корректно."
   ]
  },
  {
   "cell_type": "code",
   "execution_count": null,
   "id": "f71c7037",
   "metadata": {},
   "outputs": [],
   "source": [
    "from pathlib import Path\n",
    "import datetime\n",
    "import sys\n",
    "\n",
    "from ipywidgets import Box\n",
    "\n",
    "sys.path.append('/home/universal/Downloads/dev.sk_robot_rgbd_data/src')\n",
    "from skrgbd.utils.frame_widget import FrameWidget\n",
    "from skrgbd.utils.logging import logger\n",
    "from skrgbd.scanning.scan_helper.scan_helper import ScanHelper\n",
    "\n",
    "\n",
    "scans_root = '/mnt/data/sk3d/raw_scans'\n",
    "today = datetime.datetime.now().strftime('%y_%m_%d')\n",
    "logfile = f'/home/universal/Downloads/dev.sk_robot_rgbd_data/experiments/logs/scanning/{today}_cameras.log'\n",
    "started_warmup_at = datetime.datetime.now()\n",
    "\n",
    "scan_helper = ScanHelper(scans_root, logfile, trajectories='human_sphere', thread='cameras')\n",
    "scan_helper.stop_warmup()\n",
    "\n",
    "scan_helper.periphery.left_phone_ir.off()\n",
    "scan_helper.periphery.right_phone_ir.off()"
   ]
  },
  {
   "cell_type": "markdown",
   "id": "d6b84ec1",
   "metadata": {},
   "source": [
    "## Set the white balance of the cameras\n",
    "\n",
    "Настройте баланс белого один раз после запуска тетрадки.\n",
    "1. Выключите свет в комнате.\n",
    "2. Запустите код в следующей клетке и следуйте инструкциям."
   ]
  },
  {
   "cell_type": "code",
   "execution_count": null,
   "id": "b64dfca7",
   "metadata": {},
   "outputs": [],
   "source": [
    "robot = scan_helper.camera_trajectory_class()\n",
    "robot.move_for_awb(.1)\n",
    "scan_helper.set_white_balance()\n",
    "scan_helper.stop_warmup()\n",
    "robot.move_for_cam_settings(.1)\n",
    "del robot"
   ]
  },
  {
   "cell_type": "markdown",
   "id": "37539973",
   "metadata": {},
   "source": [
    "Проверьте правильность расположения ламп, и с помощью процедур ниже подберите настройки камер."
   ]
  },
  {
   "cell_type": "code",
   "execution_count": null,
   "id": "bd8c3172",
   "metadata": {},
   "outputs": [],
   "source": [
    "scene_name = 'people_debug'\n",
    "\n",
    "scan_helper.load_camera_settings(scene_name)  # настройки должны быть подобраны автоматически ранее\n",
    "previews_dir = scan_helper.make_scene_dir(scene_name) / 'settings_previews'"
   ]
  },
  {
   "cell_type": "markdown",
   "id": "de90ede9",
   "metadata": {},
   "source": [
    "## TIS"
   ]
  },
  {
   "cell_type": "code",
   "execution_count": null,
   "id": "e37329d7",
   "metadata": {},
   "outputs": [],
   "source": [
    "camera = scan_helper.rig.tis_right"
   ]
  },
  {
   "cell_type": "markdown",
   "id": "62e55f95",
   "metadata": {},
   "source": [
    "Выберите освещение вариант освещения для которого нужно подобрать настройки."
   ]
  },
  {
   "cell_type": "code",
   "execution_count": null,
   "id": "8e188c8d",
   "metadata": {},
   "outputs": [],
   "source": [
    "# light, preset = ('flash', 'best')\n",
    "# light, preset = ('flash', 'fast')\n",
    "# light, preset = ('ambient', 'best')\n",
    "# light, preset = ('ambient_low', 'fast')\n",
    "# light, preset = ('hard_right_bottom_close', 'best')\n",
    "# light, preset = ('hard_right_top_close', 'best')\n",
    "# light, preset = ('hard_right_top_far', 'best')\n",
    "# light, preset = ('hard_left_bottom_close', 'best')\n",
    "# light, preset = ('hard_left_bottom_far', 'best')\n",
    "# light, preset = ('hard_left_top_far', 'best')\n",
    "# light, preset = ('soft_left', 'best')\n",
    "# light, preset = ('soft_right', 'best')\n",
    "# light, preset = ('soft_top', 'best')\n",
    "\n",
    "logger.debug(f'ManualSettingsPicking: Pick settings for {light} at {preset}')\n",
    "scan_helper.periphery.on_only(light)"
   ]
  },
  {
   "cell_type": "markdown",
   "id": "15edb2c2",
   "metadata": {},
   "source": [
    "Загрузите настройки подобранные автоматически в качестве отправной точки."
   ]
  },
  {
   "cell_type": "code",
   "execution_count": null,
   "id": "b93f2485",
   "metadata": {},
   "outputs": [],
   "source": [
    "camera.setup(light, preset)"
   ]
  },
  {
   "cell_type": "markdown",
   "id": "cd33ae3d",
   "metadata": {},
   "source": [
    "Отобразите снимок с камеры."
   ]
  },
  {
   "cell_type": "code",
   "execution_count": null,
   "id": "2ec23015",
   "metadata": {},
   "outputs": [],
   "source": [
    "widget = FrameWidget(\n",
    "    (lambda: camera.snap_frame()['image']),\n",
    "    figsize=(16, 16), ticks=False\n",
    ")\n",
    "widget.update()\n",
    "widget.image"
   ]
  },
  {
   "cell_type": "markdown",
   "id": "11d5a0cd",
   "metadata": {},
   "source": [
    "Подберите настройки камеры. Снимок выше будет обновляться автоматически. Мониторьте адекватность настроек через логи."
   ]
  },
  {
   "cell_type": "code",
   "execution_count": null,
   "id": "6c51563d",
   "metadata": {},
   "outputs": [],
   "source": [
    "camera.set_exposure(camera.exposure * 1.5)\n",
    "# camera.set_gain(camera.gain * .95)\n",
    "widget.update()"
   ]
  },
  {
   "cell_type": "markdown",
   "id": "919d730d",
   "metadata": {},
   "source": [
    "После того как Вы подобрали настройки, сохраните их на диск."
   ]
  },
  {
   "cell_type": "code",
   "execution_count": null,
   "id": "a46ae5d0",
   "metadata": {},
   "outputs": [],
   "source": [
    "camera.exposure_presets[(light, preset)] = camera.exposure\n",
    "camera.gain_presets[(light, preset)] = camera.gain\n",
    "\n",
    "camera.copy_light_preset(('hard_right_top_close', 'best'), ('hard_left_top_close', 'best'))\n",
    "scan_helper.rig.tis_left.exposure_presets = scan_helper.rig.tis_right.exposure_presets\n",
    "scan_helper.rig.tis_left.gain_presets = scan_helper.rig.tis_right.gain_presets\n",
    "\n",
    "camera.save_image(f'{previews_dir}/tis.{light}@{preset}', blocking=False)\n",
    "\n",
    "scan_helper._save_camera_settings(scene_name)"
   ]
  },
  {
   "cell_type": "markdown",
   "id": "5bc5a4a9",
   "metadata": {},
   "source": [
    "Повторите для следующего варианта освещения для этой же камеры или переходите к следующей камере."
   ]
  },
  {
   "cell_type": "markdown",
   "id": "4cf542f1",
   "metadata": {},
   "source": [
    "## Phone"
   ]
  },
  {
   "cell_type": "code",
   "execution_count": null,
   "id": "79f6c14f",
   "metadata": {},
   "outputs": [],
   "source": [
    "camera = scan_helper.rig.phone_right\n",
    "camera.set_low_resolution()"
   ]
  },
  {
   "cell_type": "markdown",
   "id": "ac5c4067",
   "metadata": {},
   "source": [
    "Выберите освещение вариант освещения для которого нужно подобрать настройки."
   ]
  },
  {
   "cell_type": "code",
   "execution_count": null,
   "id": "e1a261ac",
   "metadata": {},
   "outputs": [],
   "source": [
    "# light, preset = ('flash', 'best')\n",
    "# light, preset = ('flash', 'fast')\n",
    "# light, preset = ('ambient', 'best')\n",
    "# light, preset = ('ambient_low', 'fast')\n",
    "# light, preset = ('hard_right_bottom_close', 'best')\n",
    "# light, preset = ('hard_right_top_close', 'best')\n",
    "# light, preset = ('hard_right_top_far', 'best')\n",
    "# light, preset = ('hard_left_bottom_close', 'best')\n",
    "# light, preset = ('hard_left_bottom_far', 'best')\n",
    "# light, preset = ('hard_left_top_far', 'best')\n",
    "# light, preset = ('soft_left', 'best')\n",
    "# light, preset = ('soft_right', 'best')\n",
    "# light, preset = ('soft_top', 'best')\n",
    "\n",
    "logger.debug(f'ManualSettingsPicking: Pick settings for {light} at {preset}')\n",
    "scan_helper.periphery.on_only(light)"
   ]
  },
  {
   "cell_type": "markdown",
   "id": "76874e25",
   "metadata": {},
   "source": [
    "Загрузите настройки подобранные автоматически в качестве отправной точки."
   ]
  },
  {
   "cell_type": "code",
   "execution_count": null,
   "id": "8a34dfd3",
   "metadata": {},
   "outputs": [],
   "source": [
    "camera.setup(light, preset)"
   ]
  },
  {
   "cell_type": "markdown",
   "id": "ee5c5933",
   "metadata": {},
   "source": [
    "Отобразите снимок с камеры."
   ]
  },
  {
   "cell_type": "code",
   "execution_count": null,
   "id": "949812d6",
   "metadata": {},
   "outputs": [],
   "source": [
    "widget = FrameWidget(\n",
    "    (lambda: camera.get_photo()),\n",
    "    figsize=(8, 8), ticks=False\n",
    ")\n",
    "widget.update()\n",
    "widget.image"
   ]
  },
  {
   "cell_type": "markdown",
   "id": "bcae4583",
   "metadata": {},
   "source": [
    "Подберите настройки камеры. Снимок выше будет обновляться автоматически. Мониторьте адекватность настроек через логи."
   ]
  },
  {
   "cell_type": "code",
   "execution_count": null,
   "id": "099d3ee9",
   "metadata": {},
   "outputs": [],
   "source": [
    "# camera.set_exposure(camera.exposure * 1.5)\n",
    "# camera.set_iso(camera.iso * 1.05)\n",
    "widget.update()"
   ]
  },
  {
   "cell_type": "markdown",
   "id": "dc9c74a2",
   "metadata": {},
   "source": [
    "После того как Вы подобрали настройки, сохраните их на диск."
   ]
  },
  {
   "cell_type": "code",
   "execution_count": null,
   "id": "a270a4ff",
   "metadata": {},
   "outputs": [],
   "source": [
    "camera.exposure_presets[(light, preset)] = camera.exposure\n",
    "camera.iso_presets[(light, preset)] = camera.iso\n",
    "\n",
    "camera.copy_light_preset(('hard_right_top_close', 'best'), ('hard_left_top_close', 'best'))\n",
    "scan_helper.rig.phone_left.exposure_presets = scan_helper.rig.phone_right.exposure_presets\n",
    "scan_helper.rig.phone_left.iso_presets = scan_helper.rig.phone_right.iso_presets\n",
    "\n",
    "camera.save_light_picking_frame(f'{previews_dir}/phone.{light}@{preset}.jpg')\n",
    "\n",
    "scan_helper._save_camera_settings(scene_name)"
   ]
  },
  {
   "cell_type": "markdown",
   "id": "85736c2b",
   "metadata": {},
   "source": [
    "Повторите для следующего варианта освещения для этой же камеры или переходите к следующей камере."
   ]
  },
  {
   "cell_type": "code",
   "execution_count": null,
   "id": "6ac6d4fa",
   "metadata": {},
   "outputs": [],
   "source": [
    "camera.set_high_resolution()"
   ]
  },
  {
   "cell_type": "markdown",
   "id": "f7ca0262",
   "metadata": {},
   "source": [
    "## RealSense RGB"
   ]
  },
  {
   "cell_type": "code",
   "execution_count": null,
   "id": "713a92d3",
   "metadata": {},
   "outputs": [],
   "source": [
    "camera = scan_helper.rig.realsense"
   ]
  },
  {
   "cell_type": "markdown",
   "id": "019b4878",
   "metadata": {},
   "source": [
    "Выберите освещение вариант освещения для которого нужно подобрать настройки."
   ]
  },
  {
   "cell_type": "code",
   "execution_count": null,
   "id": "63ecabd3",
   "metadata": {},
   "outputs": [],
   "source": [
    "# light, preset = ('flash', 'best')\n",
    "# light, preset = ('flash', 'fast')\n",
    "# light, preset = ('ambient', 'best')\n",
    "# light, preset = ('ambient_low', 'fast')\n",
    "# light, preset = ('hard_right_bottom_close', 'best')\n",
    "# light, preset = ('hard_right_top_close', 'best')\n",
    "# light, preset = ('hard_right_top_far', 'best')\n",
    "# light, preset = ('hard_left_bottom_close', 'best')\n",
    "# light, preset = ('hard_left_bottom_far', 'best')\n",
    "# light, preset = ('hard_left_top_far', 'best')\n",
    "# light, preset = ('soft_left', 'best')\n",
    "# light, preset = ('soft_right', 'best')\n",
    "# light, preset = ('soft_top', 'best')\n",
    "\n",
    "logger.debug(f'ManualSettingsPicking: Pick settings for {light} at {preset}')\n",
    "scan_helper.periphery.on_only(light)"
   ]
  },
  {
   "cell_type": "markdown",
   "id": "d93ec9d4",
   "metadata": {},
   "source": [
    "Загрузите настройки подобранные автоматически в качестве отправной точки."
   ]
  },
  {
   "cell_type": "code",
   "execution_count": null,
   "id": "2c4b80e6",
   "metadata": {},
   "outputs": [],
   "source": [
    "camera.setup(light, preset)"
   ]
  },
  {
   "cell_type": "markdown",
   "id": "2da45d86",
   "metadata": {},
   "source": [
    "Отобразите снимок с камеры."
   ]
  },
  {
   "cell_type": "code",
   "execution_count": null,
   "id": "92edd4f0",
   "metadata": {},
   "outputs": [],
   "source": [
    "widget = FrameWidget(\n",
    "    (lambda: camera.snap_frame()['image']),\n",
    "    figsize=(8, 8), ticks=False\n",
    ")\n",
    "widget.update()\n",
    "widget.image"
   ]
  },
  {
   "cell_type": "markdown",
   "id": "ae7a90eb",
   "metadata": {},
   "source": [
    "Подберите настройки камеры. Снимок выше будет обновляться автоматически. Мониторьте адекватность настроек через логи."
   ]
  },
  {
   "cell_type": "raw",
   "id": "ffb3ad47",
   "metadata": {},
   "source": [
    "camera.setup('hard_left_bottom_far', 'best')"
   ]
  },
  {
   "cell_type": "code",
   "execution_count": null,
   "id": "960f04b5",
   "metadata": {},
   "outputs": [],
   "source": [
    "# camera.set_rgb_exposure(camera.rgb_exposure * .9)\n",
    "# camera.set_rgb_gain(camera.rgb_gain * 3)\n",
    "widget.update()"
   ]
  },
  {
   "cell_type": "markdown",
   "id": "0939dbdf",
   "metadata": {},
   "source": [
    "После того как Вы подобрали настройки, сохраните их на диск."
   ]
  },
  {
   "cell_type": "code",
   "execution_count": null,
   "id": "b7200d1b",
   "metadata": {},
   "outputs": [],
   "source": [
    "camera.exposure_presets[(light, preset)] = camera.rgb_exposure\n",
    "camera.gain_presets[(light, preset)] = camera.rgb_gain\n",
    "\n",
    "camera.copy_light_preset(('hard_right_top_close', 'best'), ('hard_left_top_close', 'best'))\n",
    "camera.save_image(f'{previews_dir}/realsense.{light}@{preset}', modalities={'image'}, blocking=False, compressed=True)\n",
    "\n",
    "scan_helper._save_camera_settings(scene_name)"
   ]
  },
  {
   "cell_type": "markdown",
   "id": "40ebfe42",
   "metadata": {},
   "source": [
    "Повторите для следующего варианта освещения для этой же камеры или переходите к следующей камере."
   ]
  },
  {
   "cell_type": "markdown",
   "id": "464efce3",
   "metadata": {},
   "source": [
    "## RealSense IR"
   ]
  },
  {
   "cell_type": "code",
   "execution_count": null,
   "id": "7c694596",
   "metadata": {},
   "outputs": [],
   "source": [
    "camera = scan_helper.rig.realsense"
   ]
  },
  {
   "cell_type": "markdown",
   "id": "0c32d4f4",
   "metadata": {},
   "source": [
    "Выберите освещение вариант освещения для которого нужно подобрать настройки."
   ]
  },
  {
   "cell_type": "code",
   "execution_count": null,
   "id": "befc58d5",
   "metadata": {},
   "outputs": [],
   "source": [
    "# light, preset = ('flash', 'best')\n",
    "# light, preset = ('flash', 'fast')\n",
    "# light, preset = ('ambient', 'best')\n",
    "# light, preset = ('ambient_low', 'fast')\n",
    "# light, preset = ('hard_right_bottom_close', 'best')\n",
    "# light, preset = ('hard_right_top_close', 'best')\n",
    "light, preset = ('hard_right_top_far', 'best')\n",
    "# light, preset = ('hard_left_bottom_close', 'best')\n",
    "# light, preset = ('hard_left_bottom_far', 'best')\n",
    "# light, preset = ('hard_left_top_far', 'best')\n",
    "# light, preset = ('soft_left', 'best')\n",
    "# light, preset = ('soft_right', 'best')\n",
    "# light, preset = ('soft_top', 'best')\n",
    "\n",
    "logger.debug(f'ManualSettingsPicking: Pick settings for {light} at {preset}')\n",
    "scan_helper.periphery.on_only(light)"
   ]
  },
  {
   "cell_type": "markdown",
   "id": "a5498325",
   "metadata": {},
   "source": [
    "Загрузите настройки подобранные автоматически в качестве отправной точки."
   ]
  },
  {
   "cell_type": "code",
   "execution_count": null,
   "id": "a00c6223",
   "metadata": {},
   "outputs": [],
   "source": [
    "camera.setup(light, preset)"
   ]
  },
  {
   "cell_type": "markdown",
   "id": "2c20f01d",
   "metadata": {},
   "source": [
    "Отобразите снимок с камеры."
   ]
  },
  {
   "cell_type": "code",
   "execution_count": null,
   "id": "2c915d64",
   "metadata": {},
   "outputs": [],
   "source": [
    "ir_widget = FrameWidget(\n",
    "    (lambda: camera.snap_frame()['ir']),\n",
    "    figsize=(16, 16), ticks=False, cmap='gray', vmin=0, vmax=1\n",
    ")\n",
    "ir_widget.update()\n",
    "depth_widget = FrameWidget(\n",
    "    (lambda: camera.snap_frame()['depth']),\n",
    "    figsize=(16, 16), ticks=False, cmap='plasma_r', vmin=500, vmax=1200\n",
    ")\n",
    "depth_widget.update()\n",
    "\n",
    "images = [ir_widget.image, depth_widget.image]\n",
    "for image in images:\n",
    "    image.width = '450px'\n",
    "    image.layout.object_fit = 'contain'\n",
    "widget = Box(images)\n",
    "widget"
   ]
  },
  {
   "cell_type": "markdown",
   "id": "f827a09a",
   "metadata": {},
   "source": [
    "Подберите настройки камеры. Снимок выше будет обновляться автоматически. Мониторьте адекватность настроек через логи."
   ]
  },
  {
   "cell_type": "raw",
   "id": "3d604a71",
   "metadata": {},
   "source": [
    "camera.setup('hard_right_bottom_close', 'best')"
   ]
  },
  {
   "cell_type": "code",
   "execution_count": null,
   "id": "8fd9c9d3",
   "metadata": {},
   "outputs": [],
   "source": [
    "# camera.set_ir_exposure(camera.ir_exposure * 1.1)\n",
    "# camera.set_ir_gain(camera.ir_gain)\n",
    "# camera.set_laser_power(camera.laser_power + 30)\n",
    "# camera.set_laser_power(0)\n",
    "ir_widget.update()\n",
    "depth_widget.update()"
   ]
  },
  {
   "cell_type": "markdown",
   "id": "f73c6f4c",
   "metadata": {},
   "source": [
    "После того как Вы подобрали настройки, сохраните их на диск."
   ]
  },
  {
   "cell_type": "code",
   "execution_count": null,
   "id": "245a39f7",
   "metadata": {},
   "outputs": [],
   "source": [
    "camera.ir_exposure_presets[(light, preset)] = camera.ir_exposure\n",
    "camera.ir_gain_presets[(light, preset)] = camera.ir_gain\n",
    "\n",
    "camera.copy_light_preset(('hard_right_top_close', 'best'), ('hard_left_top_close', 'best'))\n",
    "camera.save_image(f'{previews_dir}/realsense.{light}@{preset}', modalities={'ir', 'ir_right'}, blocking=False, compressed=True)\n",
    "\n",
    "scan_helper._save_camera_settings(scene_name)"
   ]
  },
  {
   "cell_type": "markdown",
   "id": "c517982a",
   "metadata": {},
   "source": [
    "Повторите для следующего варианта освещения для этой же камеры или переходите к следующей камере."
   ]
  },
  {
   "cell_type": "markdown",
   "id": "f98f142e",
   "metadata": {},
   "source": [
    "## Stop the cameras"
   ]
  },
  {
   "cell_type": "code",
   "execution_count": 14,
   "id": "05f2c048",
   "metadata": {},
   "outputs": [],
   "source": [
    "scan_helper.stop()\n",
    "robot = scan_helper.camera_trajectory_class()\n",
    "robot.rest(.1)"
   ]
  },
  {
   "cell_type": "code",
   "execution_count": null,
   "id": "a3998c54",
   "metadata": {},
   "outputs": [],
   "source": []
  }
 ],
 "metadata": {
  "kernelspec": {
   "display_name": "Python 3",
   "language": "python",
   "name": "python3"
  },
  "language_info": {
   "codemirror_mode": {
    "name": "ipython",
    "version": 3
   },
   "file_extension": ".py",
   "mimetype": "text/x-python",
   "name": "python",
   "nbconvert_exporter": "python",
   "pygments_lexer": "ipython3",
   "version": "3.8.6"
  }
 },
 "nbformat": 4,
 "nbformat_minor": 5
}
