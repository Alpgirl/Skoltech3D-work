{
 "cells": [
  {
   "cell_type": "markdown",
   "id": "4511cfd3",
   "metadata": {},
   "source": [
    "## Preparations\n",
    "\n",
    "После перезагрузки компьютера, запустите следующие команды в терминале (пароль 1qaz!QAZ).\n",
    "```bash\n",
    "echo 1024 | sudo tee /sys/module/usbcore/parameters/usbfs_memory_mb\n",
    "sudo cat /sys/module/usbcore/parameters/usbfs_memory_mb\n",
    "```\n",
    "\n",
    "В трех отдельных сессиях терминала запустите, если еще не запущено, по одной строке из\n",
    "```bash\n",
    "bash ~/Downloads/dev.sk_robot_rgbd_data/src/skrgbd/scanning/utils/log_viewer.sh all\n",
    "bash ~/Downloads/dev.sk_robot_rgbd_data/src/skrgbd/scanning/utils/log_viewer.sh info\n",
    "bash ~/Downloads/dev.sk_robot_rgbd_data/src/skrgbd/scanning/utils/log_viewer.sh err\n",
    "```\n",
    "В этих сессиях будут отображаться (1) все сообщения с информацией о сканировании, (2) сообщения об основных этапах сканирования, (3) ошибки."
   ]
  },
  {
   "cell_type": "markdown",
   "id": "93723e6b",
   "metadata": {},
   "source": [
    "## Start the initial camera warmup\n",
    "\n",
    "1. Запустите код в следующей клетке: он начинает прогрев камер.\n",
    "Проверьте по логам что все 6 камер снимают изображения.\n",
    "\n",
    "2. В терминале запустите скрипт мониторинга параметров телефонов:\n",
    "```bash\n",
    "python ~/Downloads/dev.sk_robot_rgbd_data/src/skrgbd/scanning/utils/phone_temp.py\n",
    "```"
   ]
  },
  {
   "cell_type": "code",
   "execution_count": null,
   "id": "40452a7e",
   "metadata": {},
   "outputs": [],
   "source": [
    "from pathlib import Path\n",
    "import datetime\n",
    "import sys\n",
    "\n",
    "sys.path.append('/home/universal/Downloads/dev.sk_robot_rgbd_data/src')\n",
    "from skrgbd.scanning.scan_helper.scan_helper import ScanHelper\n",
    "\n",
    "\n",
    "scans_root = '/mnt/data/sk3d/raw_scans'\n",
    "today = datetime.datetime.now().strftime('%y_%m_%d')\n",
    "logfile = f'/home/universal/Downloads/dev.sk_robot_rgbd_data/experiments/logs/scanning/{today}_cameras.log'\n",
    "started_warmup_at = datetime.datetime.now()\n",
    "\n",
    "scan_helper = ScanHelper(scans_root, logfile, trajectories='tabletop', thread='cameras')"
   ]
  },
  {
   "cell_type": "markdown",
   "id": "ed8e2bc8",
   "metadata": {},
   "source": [
    "## Set the white balance of the cameras\n",
    "\n",
    "Настройте баланс белого один раз после запуска тетрадки.\n",
    "1. Выключите свет в комнате.\n",
    "2. Запустите код в следующей клетке и следуйте инструкциям."
   ]
  },
  {
   "cell_type": "code",
   "execution_count": null,
   "id": "327db6ff",
   "metadata": {},
   "outputs": [],
   "source": [
    "robot = scan_helper.camera_trajectory_class()\n",
    "robot.move_for_awb(.1)\n",
    "scan_helper.set_white_balance()\n",
    "robot.rest(.1)\n",
    "del robot"
   ]
  },
  {
   "cell_type": "markdown",
   "id": "99254a32",
   "metadata": {},
   "source": [
    "## Scan with Spider\n",
    "\n",
    "Уберите робота в сторону запустив код ниже, и отсканируйте сцену Спайдером следуя инструкции."
   ]
  },
  {
   "cell_type": "code",
   "execution_count": null,
   "id": "bb423632",
   "metadata": {},
   "outputs": [],
   "source": [
    "robot = scan_helper.camera_trajectory_class()\n",
    "robot.move_for_awb(.1)"
   ]
  },
  {
   "cell_type": "markdown",
   "id": "4bee8ad3",
   "metadata": {},
   "source": [
    "## Scan\n",
    "\n",
    "1. Задайте имя текущей сцены из таблицы."
   ]
  },
  {
   "cell_type": "code",
   "execution_count": null,
   "id": "b57feffb",
   "metadata": {},
   "outputs": [],
   "source": [
    "scene_name = 'test_tabletop'"
   ]
  },
  {
   "cell_type": "markdown",
   "id": "5cf1c1cd",
   "metadata": {},
   "source": [
    "2. Дождитесь прогрева камер.\n",
    "* Если эта съемка --- первая после большого перерыва, то (1) ориентируйтесь на время ниже\n",
    "  и (2) дождитесь выхода температуры телефонов на приблизительное плато.\n",
    "* Если эта съемка после НЕбольшого перерыва, ориентируйтесь только на график температуры телефонов."
   ]
  },
  {
   "cell_type": "code",
   "execution_count": null,
   "id": "f741fbbd",
   "metadata": {},
   "outputs": [],
   "source": [
    "print(f'Час с начала прогрева закончится в {(started_warmup_at + datetime.timedelta(hours=1)).strftime(\"%X\")}.')"
   ]
  },
  {
   "cell_type": "markdown",
   "id": "01ea5e4d",
   "metadata": {},
   "source": [
    "3. Проверьте правильность расположения ламп.\n",
    "4. Загрузите настройки камер с диска."
   ]
  },
  {
   "cell_type": "code",
   "execution_count": null,
   "id": "0c4afc48",
   "metadata": {},
   "outputs": [],
   "source": [
    "scan_helper.load_camera_settings(scene_name)"
   ]
  },
  {
   "cell_type": "markdown",
   "id": "a4c2128f",
   "metadata": {},
   "source": [
    "5. Запустите съемку камерами. При перезапуске, сканирование продолжится с того положения на котором было прервано.\n",
    "\n",
    "Если Вы хотите запустить сканирование сначала и переснять уже полученные изображения, то перед сканированием запустите\n",
    "```python\n",
    "scan_helper.reset_camera_scanning_status(scene_name)\n",
    "```"
   ]
  },
  {
   "cell_type": "code",
   "execution_count": null,
   "id": "abc0a986",
   "metadata": {},
   "outputs": [],
   "source": [
    "scan_helper.scan_cameras(scene_name)"
   ]
  },
  {
   "cell_type": "markdown",
   "id": "26b8a6dc",
   "metadata": {},
   "source": [
    "6. Проверьте уровень батареи телефонов и свободное место на дисках.\n",
    "Если свободного места на каком-либо из телефонов меньше 22Г или уровень батареи ниже 20%, то Вы что-то делаете не так.\n",
    "7. Скачайте данные с телефонов, как описано в видеоинструкции."
   ]
  },
  {
   "cell_type": "markdown",
   "id": "8b08235d",
   "metadata": {},
   "source": [
    "## Stop scanning\n",
    "\n",
    "1. Для остановки камер в конце смены или перед перезапуском тетрадки запустите код ниже.\n",
    "Если клетка не завершается в течение 10 секунд, и камеры продолжают снимать, то, скорее всего, клетка зависла --- смотрите шаги 2-4.\n",
    "Если клетка не зависла, переходите к шагу 5."
   ]
  },
  {
   "cell_type": "code",
   "execution_count": null,
   "id": "8aad522f",
   "metadata": {},
   "outputs": [],
   "source": [
    "scan_helper.stop()"
   ]
  },
  {
   "cell_type": "markdown",
   "id": "ee103b47",
   "metadata": {},
   "source": [
    "Если на шаге 1 установка зависла\n",
    "\n",
    "2. Перезапустите ядро тетрадки.\n",
    "3. Запустите код ниже.\n",
    "4. Если клетка не завершается в течение 10 секунд, повторите с шага 2."
   ]
  },
  {
   "cell_type": "code",
   "execution_count": null,
   "id": "03cdba75",
   "metadata": {},
   "outputs": [],
   "source": [
    "import datetime\n",
    "import sys\n",
    "\n",
    "sys.path.append('/home/universal/Downloads/dev.sk_robot_rgbd_data/src')\n",
    "from skrgbd.scanning.scan_helper.scan_helper import ScanHelper\n",
    "\n",
    "scans_root = '/mnt/data/sk3d/raw_scans'\n",
    "today = datetime.datetime.now().strftime('%y_%m_%d')\n",
    "logfile = f'/home/universal/Downloads/dev.sk_robot_rgbd_data/experiments/logs/scanning/{today}_cameras.log'\n",
    "scan_helper = ScanHelper(scans_root, logfile, trajectories='tabletop', thread='cameras')\n",
    "scan_helper.stop()"
   ]
  },
  {
   "cell_type": "markdown",
   "id": "1be32f67",
   "metadata": {},
   "source": [
    "5. Перезапустите ядро тетрадки.\n",
    "6. Закройте окно с графиками параметров телефонов.\n",
    "7. Если робот не находится в стартовом положении, переведите его в стартовое положение как показано в видеоинструкции.\n",
    "8. Выключите робота через пульт.\n",
    "9. Выключите сетевой фильтр который питает лампы, и выдерните его из розетки.\n",
    "10. Проверьте что экраны телефонов погасли. Если нет --- выключите телефоны кнопкой."
   ]
  }
 ],
 "metadata": {
  "kernelspec": {
   "display_name": "Python 3",
   "language": "python",
   "name": "python3"
  },
  "language_info": {
   "codemirror_mode": {
    "name": "ipython",
    "version": 3
   },
   "file_extension": ".py",
   "mimetype": "text/x-python",
   "name": "python",
   "nbconvert_exporter": "python",
   "pygments_lexer": "ipython3",
   "version": "3.8.6"
  }
 },
 "nbformat": 4,
 "nbformat_minor": 5
}
