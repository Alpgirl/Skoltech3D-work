{
 "cells": [
  {
   "cell_type": "markdown",
   "id": "4511cfd3",
   "metadata": {},
   "source": [
    "## Preparations\n",
    "\n",
    "После перезагрузки компьютера, запустите следующие команды в терминале (пароль 1qaz!QAZ).\n",
    "```bash\n",
    "echo 1024 | sudo tee /sys/module/usbcore/parameters/usbfs_memory_mb\n",
    "sudo cat /sys/module/usbcore/parameters/usbfs_memory_mb\n",
    "```\n",
    "\n",
    "В трех отдельных сессиях терминала запустите, если еще не запущено, по одной строке из\n",
    "```bash\n",
    "bash ~/Downloads/dev.sk_robot_rgbd_data/src/skrgbd/scanning/utils/log_viewer.sh all\n",
    "bash ~/Downloads/dev.sk_robot_rgbd_data/src/skrgbd/scanning/utils/log_viewer.sh info\n",
    "bash ~/Downloads/dev.sk_robot_rgbd_data/src/skrgbd/scanning/utils/log_viewer.sh err\n",
    "```\n",
    "В этих сессиях будут отображаться (1) все сообщения с информацией о сканировании, (2) сообщения об основных этапах сканирования, (3) ошибки."
   ]
  },
  {
   "cell_type": "markdown",
   "id": "3d4820d9",
   "metadata": {},
   "source": [
    "## Start the cameras\n",
    "\n",
    "1. Запустите код в следующей клетке: он инициализирует камеры.\n",
    "Проверьте по логам что все 6 камер инициализировались корректно."
   ]
  },
  {
   "cell_type": "code",
   "execution_count": null,
   "id": "d0a29234",
   "metadata": {},
   "outputs": [],
   "source": [
    "from pathlib import Path\n",
    "import datetime\n",
    "import sys\n",
    "\n",
    "sys.path.append('/home/universal/Downloads/dev.sk_robot_rgbd_data/src')\n",
    "from skrgbd.scanning.scan_helper.scan_helper import ScanHelper\n",
    "\n",
    "\n",
    "scans_root = '/mnt/data/sk3d/raw_scans'\n",
    "today = datetime.datetime.now().strftime('%y_%m_%d')\n",
    "logfile = f'/home/universal/Downloads/dev.sk_robot_rgbd_data/experiments/logs/scanning/{today}_cameras.log'\n",
    "\n",
    "scan_helper = ScanHelper(scans_root, logfile, trajectories='tabletop', thread='cameras')\n",
    "scan_helper.stop_warmup()"
   ]
  },
  {
   "cell_type": "markdown",
   "id": "ed8e2bc8",
   "metadata": {},
   "source": [
    "## Set the white balance of the cameras\n",
    "Настройте баланс белого один раз после запуска тетрадки.\n",
    "1. Выключите свет в комнате.\n",
    "2. Запустите код в следующей клетке и следуйте инструкциям."
   ]
  },
  {
   "cell_type": "code",
   "execution_count": null,
   "id": "06f179df",
   "metadata": {},
   "outputs": [],
   "source": [
    "robot = scan_helper.camera_trajectory_class()\n",
    "robot.move_for_awb(.1)\n",
    "scan_helper.set_white_balance()\n",
    "scan_helper.stop_warmup()\n",
    "robot.rest(.1)\n",
    "del robot"
   ]
  },
  {
   "cell_type": "markdown",
   "id": "4bee8ad3",
   "metadata": {},
   "source": [
    "## Pick settings"
   ]
  },
  {
   "cell_type": "markdown",
   "id": "0a664257",
   "metadata": {},
   "source": [
    "Проверьте правильность расположения ламп, и с помощью процедуры ниже подберите настройки камер."
   ]
  },
  {
   "cell_type": "code",
   "execution_count": null,
   "id": "3ff1c367",
   "metadata": {},
   "outputs": [],
   "source": [
    "scene_name = 'test_tabletop'\n",
    "\n",
    "light_setups = [\n",
    "    ('flash', 'best'),\n",
    "    ('flash', 'fast'),\n",
    "    ('soft_left', 'best'),\n",
    "    ('soft_right', 'best'),\n",
    "    ('soft_top', 'best'),\n",
    "    ('hard_left_bottom_far', 'best'),\n",
    "    ('hard_right_top_far', 'best'),\n",
    "    ('hard_right_top_close', 'best'),\n",
    "    ('hard_left_top_far', 'best'),\n",
    "    ('hard_right_bottom_close', 'best'),\n",
    "    ('ambient', 'best'),\n",
    "    ('ambient_low', 'fast'),\n",
    "]\n",
    "\n",
    "scan_helper.pick_camera_settings(scene_name, light_setups)\n",
    "scan_helper.stop_warmup()"
   ]
  },
  {
   "cell_type": "markdown",
   "id": "8b08235d",
   "metadata": {},
   "source": [
    "## Stop the cameras\n",
    "\n",
    "1. Для остановки камер в конце смены или перед перезапуском тетрадки запустите код ниже.\n",
    "Если клетка не завершается в течение 10 секунд, и камеры продолжают снимать, то, скорее всего, клетка зависла --- смотрите шаги 2-4.\n",
    "Если клетка не зависла, переходите к шагу 5."
   ]
  },
  {
   "cell_type": "code",
   "execution_count": null,
   "id": "fa469a26",
   "metadata": {},
   "outputs": [],
   "source": [
    "scan_helper.stop()"
   ]
  },
  {
   "cell_type": "markdown",
   "id": "ee103b47",
   "metadata": {},
   "source": [
    "Если на шаге 1 установка зависла\n",
    "\n",
    "2. Перезапустите ядро тетрадки.\n",
    "3. Запустите код ниже.\n",
    "4. Если клетка не завершается в течение 10 секунд, повторите с шага 2."
   ]
  },
  {
   "cell_type": "code",
   "execution_count": null,
   "id": "e0b2be34",
   "metadata": {},
   "outputs": [],
   "source": [
    "import datetime\n",
    "import sys\n",
    "\n",
    "sys.path.append('/home/universal/Downloads/dev.sk_robot_rgbd_data/src')\n",
    "from skrgbd.scanning.scan_helper.scan_helper import ScanHelper\n",
    "\n",
    "scans_root = '/mnt/data/sk3d/raw_scans'\n",
    "today = datetime.datetime.now().strftime('%y_%m_%d')\n",
    "logfile = f'/home/universal/Downloads/dev.sk_robot_rgbd_data/experiments/logs/scanning/{today}_cameras.log'\n",
    "scan_helper = ScanHelper(scans_root, logfile, trajectories='tabletop', thread='cameras')\n",
    "scan_helper.stop()"
   ]
  },
  {
   "cell_type": "markdown",
   "id": "b30a66cc",
   "metadata": {},
   "source": [
    "5. Перезапустите ядро тетрадки.\n",
    "6. Если робот не находится в стартовом положении, переведите его в стартовое положение как показано в видеоинструкции.\n",
    "7. Выключите робота через пульт.\n",
    "8. Выключите сетевой фильтр который питает лампы, и выдерните его из розетки.\n",
    "9. Проверьте что экраны телефонов погасли. Если нет --- выключите телефоны кнопкой."
   ]
  }
 ],
 "metadata": {
  "kernelspec": {
   "display_name": "Python 3",
   "language": "python",
   "name": "python3"
  },
  "language_info": {
   "codemirror_mode": {
    "name": "ipython",
    "version": 3
   },
   "file_extension": ".py",
   "mimetype": "text/x-python",
   "name": "python",
   "nbconvert_exporter": "python",
   "pygments_lexer": "ipython3",
   "version": "3.8.6"
  }
 },
 "nbformat": 4,
 "nbformat_minor": 5
}
