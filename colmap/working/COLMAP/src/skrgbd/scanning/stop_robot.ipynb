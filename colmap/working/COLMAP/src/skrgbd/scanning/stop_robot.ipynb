{
 "cells": [
  {
   "cell_type": "code",
   "execution_count": 1,
   "id": "41632d62",
   "metadata": {},
   "outputs": [
    {
     "name": "stderr",
     "output_type": "stream",
     "text": [
      "2022-08-10 17:03:41,387 DEBUG             robot:   Start\n",
      "2022-08-10 17:03:42,146 DEBUG             robot:   Start DONE\n"
     ]
    }
   ],
   "source": [
    "import sys\n",
    "\n",
    "sys.path.append('/home/universal/Downloads/dev.sk_robot_rgbd_data/src')\n",
    "from skrgbd.devices.robot.robot_on_human_sphere import RobotOnHumanSphere\n",
    "\n",
    "robot = RobotOnHumanSphere()"
   ]
  },
  {
   "cell_type": "code",
   "execution_count": null,
   "id": "1c93a8a2",
   "metadata": {},
   "outputs": [],
   "source": [
    "# \"домашняя\" точка траектории, в которую можно безопасно вернуться из любой точки траектории\n",
    "robot.move_home(.1);"
   ]
  },
  {
   "cell_type": "code",
   "execution_count": 2,
   "id": "bf69d75c",
   "metadata": {},
   "outputs": [],
   "source": [
    "# положение для удобного тыканья в экраны телефонов\n",
    "robot.move_to((1, .4), .1);"
   ]
  },
  {
   "cell_type": "code",
   "execution_count": null,
   "id": "f6d37bdb",
   "metadata": {},
   "outputs": [],
   "source": [
    "# положение, в котором робот не мешает сканировать спайдером\n",
    "robot.move_away(.1);"
   ]
  },
  {
   "cell_type": "code",
   "execution_count": null,
   "id": "1308cb1e",
   "metadata": {},
   "outputs": [],
   "source": [
    "# положение, в котором робот смотрит в правый софтбокс\n",
    "robot.move_for_awb(.1);"
   ]
  },
  {
   "cell_type": "code",
   "execution_count": null,
   "id": "981571a4",
   "metadata": {},
   "outputs": [],
   "source": [
    "# начальное положение робота\n",
    "robot.rest(.1)"
   ]
  },
  {
   "cell_type": "code",
   "execution_count": null,
   "id": "0ec805b9",
   "metadata": {},
   "outputs": [],
   "source": []
  }
 ],
 "metadata": {
  "kernelspec": {
   "display_name": "Python 3",
   "language": "python",
   "name": "python3"
  },
  "language_info": {
   "codemirror_mode": {
    "name": "ipython",
    "version": 3
   },
   "file_extension": ".py",
   "mimetype": "text/x-python",
   "name": "python",
   "nbconvert_exporter": "python",
   "pygments_lexer": "ipython3",
   "version": "3.8.6"
  }
 },
 "nbformat": 4,
 "nbformat_minor": 5
}
