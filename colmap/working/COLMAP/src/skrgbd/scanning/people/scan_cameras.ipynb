{
 "cells": [
  {
   "cell_type": "markdown",
   "metadata": {},
   "source": [
    "## Preparations\n",
    "\n",
    "После перезагрузки компьютера, запустите следующие команды в терминале (пароль 1qaz!QAZ).\n",
    "```bash\n",
    "echo 1024 | sudo tee /sys/module/usbcore/parameters/usbfs_memory_mb\n",
    "sudo cat /sys/module/usbcore/parameters/usbfs_memory_mb\n",
    "```\n",
    "\n",
    "В трех отдельных сессиях терминала запустите, если еще не запущено, по одной строке из\n",
    "```bash\n",
    "bash ~/Downloads/dev.sk_robot_rgbd_data/src/skrgbd/scanning/utils/log_viewer.sh all\n",
    "bash ~/Downloads/dev.sk_robot_rgbd_data/src/skrgbd/scanning/utils/log_viewer.sh info\n",
    "bash ~/Downloads/dev.sk_robot_rgbd_data/src/skrgbd/scanning/utils/log_viewer.sh err\n",
    "```\n",
    "В этих сессиях будут отображаться (1) все сообщения с информацией о сканировании, (2) сообщения об основных этапах сканирования, (3) ошибки."
   ]
  },
  {
   "cell_type": "markdown",
   "metadata": {},
   "source": [
    "## Initialize cameras\n",
    "\n",
    "1. Запустите код в следующей клетке, проверьте по логам что все 6 камер снимают изображения."
   ]
  },
  {
   "cell_type": "code",
   "execution_count": null,
   "metadata": {},
   "outputs": [],
   "source": [
    "from pathlib import Path\n",
    "import datetime\n",
    "import sys\n",
    "\n",
    "sys.path.append('/home/universal/Downloads/dev.sk_robot_rgbd_data/src')\n",
    "from skrgbd.scanning.scan_helper.scan_helper import ScanHelper\n",
    "\n",
    "\n",
    "scans_root = '/mnt/data/sk3d/raw_scans'\n",
    "today = datetime.datetime.now().strftime('%y_%m_%d')\n",
    "logfile = f'/home/universal/Downloads/dev.sk_robot_rgbd_data/experiments/logs/scanning/{today}_cameras.log'\n",
    "started_warmup_at = datetime.datetime.now()\n",
    "\n",
    "scan_helper = ScanHelper(scans_root, logfile, trajectories='human_sphere', thread='cameras')"
   ]
  },
  {
   "cell_type": "markdown",
   "metadata": {},
   "source": [
    "## Set the white balance of the cameras\n",
    "\n",
    "Настройте баланс белого один раз после запуска тетрадки.\n",
    "1. Выключите свет в комнате.\n",
    "2. Запустите код в следующей клетке и следуйте инструкциям."
   ]
  },
  {
   "cell_type": "code",
   "execution_count": null,
   "metadata": {},
   "outputs": [],
   "source": [
    "robot = scan_helper.camera_trajectory_class()\n",
    "robot.move_for_awb(.2)\n",
    "scan_helper.set_white_balance()\n",
    "robot.rest(.2)\n",
    "del robot"
   ]
  },
  {
   "cell_type": "markdown",
   "metadata": {},
   "source": [
    "## Scan\n",
    "\n",
    "1. Задайте имя текущей сцены из таблицы.\n",
    "2. Проверьте правильность расположения ламп.\n",
    "3. Загрузите настройки камер с диска."
   ]
  },
  {
   "cell_type": "code",
   "execution_count": null,
   "metadata": {},
   "outputs": [],
   "source": [
    "scene_name = 'people_debug'\n",
    "scan_helper.load_camera_settings(scene_name)"
   ]
  },
  {
   "cell_type": "markdown",
   "metadata": {},
   "source": [
    "4. Запустите съемку камерами. При перезапуске, сканирование продолжится с того положения на котором было прервано.\n",
    "\n",
    "Если Вы хотите запустить сканирование сначала и переснять уже полученные изображения, то перед сканированием запустите\n",
    "```python\n",
    "scan_helper.reset_camera_scanning_status(scene_name)\n",
    "```"
   ]
  },
  {
   "cell_type": "code",
   "execution_count": null,
   "metadata": {},
   "outputs": [],
   "source": [
    "scan_helper.scan_cameras(scene_name)"
   ]
  },
  {
   "cell_type": "markdown",
   "metadata": {},
   "source": [
    "5. Скачайте данные с телефонов, как описано в видеоинструкции."
   ]
  },
  {
   "cell_type": "markdown",
   "metadata": {},
   "source": [
    "## Stop scanning\n",
    "\n",
    "1. Для остановки камер в конце смены или перед перезапуском тетрадки запустите код ниже.\n",
    "Если клетка не завершается в течение 10 секунд, и камеры продолжают снимать, то, скорее всего, клетка зависла --- смотрите шаги 2-4.\n",
    "Если клетка не зависла, переходите к шагу 5."
   ]
  },
  {
   "cell_type": "code",
   "execution_count": null,
   "metadata": {},
   "outputs": [],
   "source": [
    "scan_helper.stop()"
   ]
  },
  {
   "cell_type": "markdown",
   "metadata": {},
   "source": [
    "Если на шаге 1 установка зависла\n",
    "\n",
    "2. Перезапустите ядро тетрадки.\n",
    "3. Запустите код ниже.\n",
    "4. Если клетка не завершается в течение 10 секунд, повторите с шага 2."
   ]
  },
  {
   "cell_type": "code",
   "execution_count": null,
   "metadata": {},
   "outputs": [],
   "source": [
    "import datetime\n",
    "import sys\n",
    "\n",
    "sys.path.append('/home/universal/Downloads/dev.sk_robot_rgbd_data/src')\n",
    "from skrgbd.scanning.scan_helper.scan_helper import ScanHelper\n",
    "\n",
    "scans_root = '/mnt/data/sk3d/raw_scans'\n",
    "today = datetime.datetime.now().strftime('%y_%m_%d')\n",
    "logfile = f'/home/universal/Downloads/dev.sk_robot_rgbd_data/experiments/logs/scanning/{today}_cameras.log'\n",
    "scan_helper = ScanHelper(scans_root, logfile, trajectories='tabletop', thread='cameras')\n",
    "scan_helper.stop()"
   ]
  },
  {
   "cell_type": "markdown",
   "metadata": {},
   "source": [
    "5. Перезапустите ядро тетрадки.\n",
    "6. Закройте окно с графиками параметров телефонов.\n",
    "7. Если робот не находится в стартовом положении, переведите его в стартовое положение как показано в видеоинструкции.\n",
    "8. Выключите робота через пульт.\n",
    "9. Выключите сетевой фильтр который питает лампы, и выдерните его из розетки.\n",
    "10. Проверьте что экраны телефонов погасли. Если нет --- выключите телефоны кнопкой."
   ]
  }
 ],
 "metadata": {
  "kernelspec": {
   "display_name": "Python 3",
   "language": "python",
   "name": "python3"
  },
  "language_info": {
   "codemirror_mode": {
    "name": "ipython",
    "version": 3
   },
   "file_extension": ".py",
   "mimetype": "text/x-python",
   "name": "python",
   "nbconvert_exporter": "python",
   "pygments_lexer": "ipython3",
   "version": "3.8.6"
  }
 },
 "nbformat": 4,
 "nbformat_minor": 5
}
