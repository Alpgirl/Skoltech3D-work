{
 "cells": [
  {
   "cell_type": "markdown",
   "id": "e1324924",
   "metadata": {},
   "source": [
    "## Download the scans from the phones\n",
    "Run the code below to download the scans from the phones to the PC, compress them, and clean the data on the phones.\n",
    "Если все отработало правильно, то во второй раз клетка ниже должна завершиться почти сразу.\n",
    "\n",
    "После завершения скачивания, перезапустите ядро в этой тетрадке,\n",
    "дождитесь остановки сканирования, и <span style=\"background-color: #FFFF00\">переставьте телефоны обратно на зарядку</span>."
   ]
  },
  {
   "cell_type": "code",
   "execution_count": null,
   "id": "0c01fe68",
   "metadata": {},
   "outputs": [],
   "source": [
    "import datetime\n",
    "import sys\n",
    "\n",
    "from ppadb.client import Client as AdbClient\n",
    "\n",
    "sys.path.append('/home/universal/Downloads/dev.sk_robot_rgbd_data/src')\n",
    "from skrgbd.devices.phone import LeftPhone, RightPhone, convert_bin_to_img\n",
    "from skrgbd.utils.logging import logger\n",
    "\n",
    "\n",
    "today = datetime.datetime.now().strftime('%y_%m_%d')\n",
    "logfile = f'/home/universal/Downloads/dev.sk_robot_rgbd_data/experiments/logs/scanning/{today}_phone_data.log'\n",
    "logger.prepare_for_scanning(logfile)\n",
    "\n",
    "client = AdbClient(host='127.0.0.1', port=5037)\n",
    "phones = [LeftPhone(client, True), RightPhone(client, True)]\n",
    "\n",
    "\n",
    "scans_root = '/mnt/data/sk3d/raw_scans'\n",
    "\n",
    "\n",
    "for phone in phones:\n",
    "    phone.pull_scans(scans_root)\n",
    "convert_bin_to_img(scans_root)\n",
    "\n",
    "for phone in phones:\n",
    "    phone.clean_scans()"
   ]
  },
  {
   "cell_type": "code",
   "execution_count": null,
   "id": "72159e7a",
   "metadata": {},
   "outputs": [],
   "source": []
  }
 ],
 "metadata": {
  "kernelspec": {
   "display_name": "Python 3",
   "language": "python",
   "name": "python3"
  },
  "language_info": {
   "codemirror_mode": {
    "name": "ipython",
    "version": 3
   },
   "file_extension": ".py",
   "mimetype": "text/x-python",
   "name": "python",
   "nbconvert_exporter": "python",
   "pygments_lexer": "ipython3",
   "version": "3.8.6"
  }
 },
 "nbformat": 4,
 "nbformat_minor": 5
}
