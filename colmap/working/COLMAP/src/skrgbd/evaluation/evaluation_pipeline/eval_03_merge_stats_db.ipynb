{
 "cells": [
  {
   "cell_type": "code",
   "execution_count": null,
   "id": "4f1c26bb",
   "metadata": {},
   "outputs": [],
   "source": [
    "from pathlib import Path\n",
    "import sys\n",
    "\n",
    "sys.path.append('/home/ovoinov/work/sk3d/dev.sk_robot_rgbd_data/src')\n",
    "from skrgbd.evaluation.pathfinder import eval_pathfinder\n",
    "from skrgbd.evaluation.stats_db import StatsDB\n",
    "from skrgbd.data.dataset.dataset import wip_scene_id_by_name"
   ]
  },
  {
   "cell_type": "code",
   "execution_count": null,
   "id": "ea79024d",
   "metadata": {},
   "outputs": [],
   "source": [
    "eval_pathfinder.set_dirs('/home/ovoinov/remotes/root.zhores/gpfs/data/gpfs0/3ddl/projects/sk3d')"
   ]
  },
  {
   "cell_type": "code",
   "execution_count": null,
   "id": "812a59d7",
   "metadata": {},
   "outputs": [],
   "source": [
    "all_stats_db = eval_pathfinder.evaluation.all_stats\n",
    "all_stats_db = StatsDB(all_stats_db, mode='a')"
   ]
  },
  {
   "cell_type": "code",
   "execution_count": null,
   "id": "50de590b",
   "metadata": {},
   "outputs": [],
   "source": [
    "partial_dbs = []\n",
    "for (method, eval_version, cam, light_setup) in [\n",
    "#     ('acmp', 'v1.0.0_v1', 'tis_right', 'ambient@best'),\n",
    "#     ('acmp', 'v1.0.0_v2', 'tis_right', 'ambient@best'),\n",
    "\n",
    "#     ('azinovic22neural', 'v0.0.0_v1', 'kinect_v2@tis_right', 'ambient@best'),\n",
    "#     ('azinovic22neural', 'v0.0.0_v3', 'kinect_v2@tis_right', 'ambient@best'),\n",
    "    \n",
    "#     ('colmap', 'v1.0.0_v1', 'tis_right', 'ambient@best'),\n",
    "#     ('colmap', 'v1.0.0_v2', 'tis_right', 'ambient@best'),\n",
    "#     ('colmap', 'v2.0.0_v1', 'tis_right', 'ambient@best'),\n",
    "\n",
    "#     ('neus', 'v1.0.0_v1', 'tis_right', 'ambient@best'),\n",
    "#     ('neus', 'v1.1.0_v1', 'tis_right', 'ambient@best'),\n",
    "\n",
    "#     ('geo_neus', 'v0.0.0_colmap_v1', 'tis_right', 'ambient@best'),\n",
    "\n",
    "#     ('routed_fusion', 'v0.0.0_v1', 'kinect_v2', None),\n",
    "#     ('routed_fusion', 'v0.0.0_v3', 'kinect_v2', None),\n",
    "    \n",
    "#     ('spsr_colmap', 'v1.0.0_v1', 'tis_right', 'ambient@best'),\n",
    "#     ('spsr_acmp', 'v1.0.0_v1', 'tis_right', 'ambient@best'),\n",
    "#     ('spsr_vismvsnet', 'v1.0.0_trained_on_blendedmvg_v1', 'tis_right', 'ambient@best'),\n",
    "#     ('spsr_unimvsnet', 'v1.0.0_authors_checkpoint_v1', 'tis_right', 'ambient@best'),\n",
    "    \n",
    "#     ('surfel_meshing', 'v1.0.0_v1', 'kinect_v2', None),\n",
    "#     ('surfel_meshing', 'v1.0.0_v3', 'kinect_v2', None),\n",
    "\n",
    "#     ('tsdf_fusion', 'v0.0.0_v1', 'kinect_v2', None),\n",
    "#     ('tsdf_fusion', 'v0.0.0_v2', 'kinect_v2', None),\n",
    "#     ('tsdf_fusion', 'v0.0.0_v3', 'kinect_v2', None),\n",
    "\n",
    "#     ('unimvsnet', 'v1.0.0_authors_checkpoint_v1', 'tis_right', 'ambient@best'),\n",
    "\n",
    "#     ('vismvsnet', 'v1.0.0_trained_on_blendedmvg_v1', 'tis_right', 'ambient@best'),\n",
    "#     ('vismvsnet', 'v1.0.0_trained_on_blendedmvg_v2', 'tis_right', 'ambient@best'),\n",
    "\n",
    "]:\n",
    "    for scene_name in wip_scene_id_by_name.keys():\n",
    "        stats_db = eval_pathfinder.evaluation[method](eval_version, scene_name, cam, light_setup).stats.data\n",
    "        if Path(stats_db).exists():\n",
    "            partial_dbs.append(stats_db)\n",
    "        else:\n",
    "            print(f'Missing {stats_db}')\n",
    "\n",
    "len(partial_dbs)"
   ]
  },
  {
   "cell_type": "code",
   "execution_count": null,
   "id": "b6124c80",
   "metadata": {},
   "outputs": [],
   "source": [
    "all_stats_db.merge_from(partial_dbs)"
   ]
  },
  {
   "cell_type": "code",
   "execution_count": null,
   "id": "7063f66f",
   "metadata": {},
   "outputs": [],
   "source": [
    "del all_stats_db"
   ]
  },
  {
   "cell_type": "code",
   "execution_count": null,
   "id": "6e66bf71",
   "metadata": {},
   "outputs": [],
   "source": []
  }
 ],
 "metadata": {
  "kernelspec": {
   "display_name": "Python 3",
   "language": "python",
   "name": "python3"
  },
  "language_info": {
   "codemirror_mode": {
    "name": "ipython",
    "version": 3
   },
   "file_extension": ".py",
   "mimetype": "text/x-python",
   "name": "python",
   "nbconvert_exporter": "python",
   "pygments_lexer": "ipython3",
   "version": "3.8.6"
  },
  "pycharm": {
   "stem_cell": {
    "cell_type": "raw",
    "metadata": {
     "collapsed": false
    },
    "source": []
   }
  }
 },
 "nbformat": 4,
 "nbformat_minor": 5
}
