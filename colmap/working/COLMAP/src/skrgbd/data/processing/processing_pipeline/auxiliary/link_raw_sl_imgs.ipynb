{
 "cells": [
  {
   "cell_type": "code",
   "execution_count": 1,
   "id": "3b33387d",
   "metadata": {},
   "outputs": [],
   "source": [
    "from pathlib import Path\n",
    "import sys\n",
    "\n",
    "sys.path.append('/home/ovoinov/work/sk3d/dev.sk_robot_rgbd_data/src')\n",
    "from skrgbd.data.dataset.scene_paths import ScenePaths\n",
    "from skrgbd.data.dataset.params import stl_light_setups, stl_view_ids, stl_val_view_ids\n",
    "from skrgbd.utils.logging import tqdm\n",
    "from skrgbd.data.dataset.dataset import wip_scene_id_by_name"
   ]
  },
  {
   "cell_type": "code",
   "execution_count": null,
   "id": "2cb228ad",
   "metadata": {},
   "outputs": [],
   "source": [
    "scene_name = 'dragon'\n",
    "img_var = 'raw'\n",
    "scene_paths = ScenePaths(scene_name, data_dir='/mnt/datasets/sk3d/dataset',\n",
    "                         raw_dir='/mnt/datasets/sk3d/raw')\n",
    "\n",
    "lines = []\n",
    "for (scan_var, mode, view_ids) in [('ref', 'partial', stl_view_ids),\n",
    "                                   ('val', 'validation', stl_val_view_ids)]:\n",
    "    for cam_name in ['stl_right', 'stl_left']:\n",
    "        for light in stl_light_setups:\n",
    "            dst_dir = Path(scene_paths.img(cam_name, mode, 0, light, img_var)).parent\n",
    "            lines.append(f'mkdir -p {dst_dir}\\n')\n",
    "            for view_i in view_ids:\n",
    "                src_path = scene_paths.sl_img(cam_name, view_i, light, scan_var)\n",
    "                dst_path = scene_paths.img(cam_name, mode, view_i, light, img_var)\n",
    "                lines.append(f'ln {src_path} {dst_path}\\n')\n",
    "    lines.append(f'if [ ! -d {scene_paths.sl_raw(\"val\")} ]; then exit; fi\\n')\n",
    "    \n",
    "with open('/home/ovoinov/Downloads/link_imgs.sh', 'w') as file:\n",
    "    file.write(''.join(lines).replace('/mnt/datasets/sk3d', '/mnt/backups/sk3d').replace(scene_name, \"${1}\"))"
   ]
  },
  {
   "cell_type": "code",
   "execution_count": null,
   "id": "bfa7fad1",
   "metadata": {},
   "outputs": [],
   "source": []
  }
 ],
 "metadata": {
  "kernelspec": {
   "display_name": "Python 3",
   "language": "python",
   "name": "python3"
  },
  "language_info": {
   "codemirror_mode": {
    "name": "ipython",
    "version": 3
   },
   "file_extension": ".py",
   "mimetype": "text/x-python",
   "name": "python",
   "nbconvert_exporter": "python",
   "pygments_lexer": "ipython3",
   "version": "3.8.6"
  }
 },
 "nbformat": 4,
 "nbformat_minor": 5
}
