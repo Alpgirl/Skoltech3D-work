{
 "cells": [
  {
   "cell_type": "code",
   "execution_count": null,
   "id": "a701476d",
   "metadata": {},
   "outputs": [],
   "source": [
    "import sys\n",
    "\n",
    "import numpy as np\n",
    "import matplotlib.pyplot as plt\n",
    "import torch\n",
    "\n",
    "sys.path.append('/home/ovoinov/work/sk3d/dev.sk_robot_rgbd_data/src')\n",
    "from skrgbd.calibration.camera_models.central_generic import CentralGeneric\n",
    "from skrgbd.calibration.camera_models import load_from_colmap_txt\n",
    "from skrgbd.data.processing.undistortion.redistorter import Redistorter, redist_grid_from_cam_models\n",
    "from skrgbd.data.dataset.scene_paths import ScenePaths"
   ]
  },
  {
   "cell_type": "code",
   "execution_count": null,
   "id": "8fa680c8",
   "metadata": {},
   "outputs": [],
   "source": [
    "scene_name = 'dragon'\n",
    "scene_paths = ScenePaths(scene_name, data_dir='/mnt/datasets/sk3d/dataset')\n",
    "\n",
    "device = 'cuda:1'\n",
    "dtype = torch.double"
   ]
  },
  {
   "cell_type": "code",
   "execution_count": null,
   "id": "4e6d6632",
   "metadata": {},
   "outputs": [],
   "source": [
    "# cam_name, mode = 'tis_right', 'rgb'\n",
    "# sensor = 'tis_left'\n",
    "# sensor = 'real_sense_rgb'\n",
    "# sensor = 'real_sense_ir'\n",
    "# sensor = 'real_sense_ir_right'\n",
    "# sensor = 'kinect_v2_rgb'\n",
    "# sensor = 'kinect_v2_ir'\n",
    "# sensor = 'phone_left_rgb'\n",
    "# sensor = 'phone_left_ir'\n",
    "# sensor = 'phone_right_rgb'\n",
    "# sensor = 'phone_right_ir'\n",
    "cam_name, mode = 'stl_right', 'rgb'\n",
    "\n",
    "# FIXME load projection model properly --- add from_state_dict for CentralGeneric\n",
    "# src_model = scene_paths.cam_model(cam_name, mode, var)\n",
    "# src_model = CentralGeneric(\n",
    "#     '/mnt/datasets/sk3d/dataset/calibration/tis_right/rgb/intrinsics.yaml',\n",
    "#     '/mnt/datasets/sk3d/calibration/raw_calibration/small_scale_sphere/tis_right_inverse_grid.pt',\n",
    "# )\n",
    "src_model = CentralGeneric(\n",
    "    '/mnt/datasets/sk3d/calibration/raw_calibration/small_scale_sphere/stl_right_intrinsics.yaml',\n",
    "    '/mnt/datasets/sk3d/calibration/raw_calibration/small_scale_sphere/stl_right_inverse_grid.pt',\n",
    ")\n",
    "    \n",
    "dst_model = scene_paths.cam_model(cam_name, mode, 'pinhole')\n",
    "dst_model = load_from_colmap_txt(dst_model)\n",
    "\n",
    "src_model = src_model.to(device, dtype)\n",
    "dst_model = dst_model.to(device, dtype)\n",
    "uv, dev = redist_grid_from_cam_models(src_model, dst_model)"
   ]
  },
  {
   "cell_type": "code",
   "execution_count": null,
   "id": "dd9e4668",
   "metadata": {},
   "outputs": [],
   "source": [
    "def show_error(err, figsize=(30, 10), scale='log', vmax_p=100):\n",
    "    r\"\"\"Visualizes undistortion error. See docs for `redist_grid_from_cam_models` for details.\"\"\"\n",
    "    plt.figure(figsize=figsize)\n",
    "    if scale == 'log':\n",
    "        vis = err.log10()\n",
    "        vis = vis.where(err > 0, vis[vis.isfinite()].min())\n",
    "    else:\n",
    "        vis = err\n",
    "    vmax = np.percentile(vis, vmax_p)\n",
    "    plt.imshow(vis, vmax=vmax)\n",
    "    plt.colorbar(shrink=.5)\n",
    "    plt.title('Log of undistortion error in meters')\n",
    "\n",
    "show_error(dev)"
   ]
  },
  {
   "cell_type": "code",
   "execution_count": null,
   "id": "44a60631",
   "metadata": {},
   "outputs": [],
   "source": [
    "src_model = src_model.to('cpu')\n",
    "redistorter = Redistorter.from_cam_models(src_model, uv.permute(1, 2, 0))"
   ]
  },
  {
   "cell_type": "code",
   "execution_count": null,
   "id": "eabe0e62",
   "metadata": {},
   "outputs": [],
   "source": [
    "# undist_pt = scene_paths.undist_model(cam_name, mode)\n",
    "undist_pt = '/tmp/undist.pt'\n",
    "redistorter.save(undist_pt)"
   ]
  },
  {
   "cell_type": "code",
   "execution_count": null,
   "id": "731d0a3f",
   "metadata": {},
   "outputs": [],
   "source": []
  }
 ],
 "metadata": {
  "kernelspec": {
   "display_name": "Python 3",
   "language": "python",
   "name": "python3"
  },
  "language_info": {
   "codemirror_mode": {
    "name": "ipython",
    "version": 3
   },
   "file_extension": ".py",
   "mimetype": "text/x-python",
   "name": "python",
   "nbconvert_exporter": "python",
   "pygments_lexer": "ipython3",
   "version": "3.8.6"
  },
  "pycharm": {
   "stem_cell": {
    "cell_type": "raw",
    "metadata": {
     "collapsed": false
    },
    "source": []
   }
  }
 },
 "nbformat": 4,
 "nbformat_minor": 5
}
