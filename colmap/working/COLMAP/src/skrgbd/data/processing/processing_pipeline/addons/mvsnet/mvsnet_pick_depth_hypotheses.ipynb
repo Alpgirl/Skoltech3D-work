{
 "cells": [
  {
   "cell_type": "code",
   "execution_count": 1,
   "id": "ea79e3e1",
   "metadata": {},
   "outputs": [],
   "source": [
    "import sys\n",
    "\n",
    "import numpy as np\n",
    "import matplotlib.pyplot as plt\n",
    "\n",
    "sys.path.append('/home/ovoinov/work/sk3d/dev.sk_robot_rgbd_data/src')\n",
    "from skrgbd.data.io import imgio\n",
    "from skrgbd.data.dataset.pathfinder import Pathfinder\n",
    "from skrgbd.utils.logging import tqdm\n",
    "from skrgbd.data.dataset.dataset import wip_scene_name_by_id"
   ]
  },
  {
   "cell_type": "code",
   "execution_count": 2,
   "id": "d7c5033b",
   "metadata": {},
   "outputs": [],
   "source": [
    "pathfinder = Pathfinder(data_root='/mnt/datasets/sk3d/dataset')"
   ]
  },
  {
   "cell_type": "code",
   "execution_count": 3,
   "id": "14f86845",
   "metadata": {},
   "outputs": [
    {
     "data": {
      "application/vnd.jupyter.widget-view+json": {
       "model_id": "31158e2a3a3f45f4acafaf72c2dec9d6",
       "version_major": 2,
       "version_minor": 0
      },
      "text/plain": [
       "  0%|          | 0/10700 [00:00<?, ?it/s]"
      ]
     },
     "metadata": {},
     "output_type": "display_data"
    }
   ],
   "source": [
    "dmins = []\n",
    "dmaxs = []\n",
    "\n",
    "pairs = [(scene_name, view_i) for scene_name in wip_scene_name_by_id.values() for view_i in range(100)]\n",
    "\n",
    "for scene_name, view_i in tqdm(pairs):\n",
    "    depthmap = pathfinder[scene_name].reprojected.depth[('stl', 'clean_reconstruction'), ('tis_right', 'undistorted')][view_i]\n",
    "    depthmap = imgio.read.stl.depth(depthmap)\n",
    "    dmins.append(np.nanmin(depthmap))\n",
    "    dmaxs.append(np.nanmax(depthmap))"
   ]
  },
  {
   "cell_type": "code",
   "execution_count": 5,
   "id": "ae37f7be",
   "metadata": {},
   "outputs": [
    {
     "data": {
      "image/png": "[encoded data removed]",
      "text/plain": [
       "<Figure size 432x288 with 1 Axes>"
      ]
     },
     "metadata": {
      "needs_background": "light"
     },
     "output_type": "display_data"
    }
   ],
   "source": [
    "plt.hist(dmins, 100);\n",
    "plt.hist(dmaxs, 100);"
   ]
  },
  {
   "cell_type": "code",
   "execution_count": 14,
   "id": "305f070a",
   "metadata": {},
   "outputs": [
    {
     "name": "stdout",
     "output_type": "stream",
     "text": [
      "0.4916858673095703 0.604068574309349\n",
      "0.9637538194656372 0.8949113607406616\n"
     ]
    }
   ],
   "source": [
    "print(np.percentile(dmins, 0), np.percentile(dmins, 5))\n",
    "print(np.percentile(dmaxs, 100), np.percentile(dmaxs, 95))"
   ]
  },
  {
   "cell_type": "code",
   "execution_count": 21,
   "id": "a62f14a8",
   "metadata": {},
   "outputs": [
    {
     "data": {
      "text/plain": [
       "(0.473, 0.983)"
      ]
     },
     "execution_count": 21,
     "metadata": {},
     "output_type": "execute_result"
    },
    {
     "data": {
      "image/png": "[encoded data removed]",
      "text/plain": [
       "<Figure size 432x288 with 1 Axes>"
      ]
     },
     "metadata": {
      "needs_background": "light"
     },
     "output_type": "display_data"
    }
   ],
   "source": [
    "# Option 1: full range, a lot of padding in depth dimension\n",
    "d_planes_n = 256  # same as usually used for DTU\n",
    "d_interval = .002  # 2 mm, same as for DTU\n",
    "d_range = d_interval * (d_planes_n - 1)\n",
    "\n",
    "target_min = np.percentile(dmins, 0)\n",
    "target_max = np.percentile(dmaxs, 100)\n",
    "d_mid = (target_min + target_max) / 2\n",
    "d_min = round(d_mid - d_range / 2, 3)\n",
    "d_max = d_min + d_range\n",
    "\n",
    "plt.hist(dmins, 100);\n",
    "plt.hist(dmaxs, 100);\n",
    "plt.axvline(d_min, c='tab:green');\n",
    "plt.axvline(d_max, c='tab:green');\n",
    "\n",
    "d_min, d_max"
   ]
  },
  {
   "cell_type": "code",
   "execution_count": 22,
   "id": "a28ffe10",
   "metadata": {},
   "outputs": [
    {
     "data": {
      "text/plain": [
       "(0.558, 0.9400000000000001)"
      ]
     },
     "execution_count": 22,
     "metadata": {},
     "output_type": "execute_result"
    },
    {
     "data": {
      "image/png": "[encoded data removed]",
      "text/plain": [
       "<Figure size 432x288 with 1 Axes>"
      ]
     },
     "metadata": {
      "needs_background": "light"
     },
     "output_type": "display_data"
    }
   ],
   "source": [
    "# Option 2: same interval, but fewer planes and less padding\n",
    "d_planes_n = 192  # same as used for DTU in CasMVSNet\n",
    "d_interval = .002\n",
    "d_range = d_interval * (d_planes_n - 1)\n",
    "\n",
    "target_min = np.percentile(dmins, 5)\n",
    "target_max = np.percentile(dmaxs, 95)\n",
    "d_mid = (target_min + target_max) / 2\n",
    "d_min = round(d_mid - d_range / 2, 3)\n",
    "d_max = d_min + d_range\n",
    "\n",
    "plt.hist(dmins, 100);\n",
    "plt.hist(dmaxs, 100);\n",
    "plt.axvline(d_min, c='tab:green');\n",
    "plt.axvline(d_max, c='tab:green');\n",
    "\n",
    "d_min, d_max"
   ]
  },
  {
   "cell_type": "code",
   "execution_count": 23,
   "id": "d7ca6215",
   "metadata": {},
   "outputs": [
    {
     "data": {
      "text/plain": [
       "(0.606, 0.8925000000000001)"
      ]
     },
     "execution_count": 23,
     "metadata": {},
     "output_type": "execute_result"
    },
    {
     "data": {
      "image/png": "[encoded data removed]",
      "text/plain": [
       "<Figure size 432x288 with 1 Axes>"
      ]
     },
     "metadata": {
      "needs_background": "light"
     },
     "output_type": "display_data"
    }
   ],
   "source": [
    "# Option 3: smaller interval, tighter range\n",
    "d_planes_n = 192\n",
    "d_interval = .0015  # same as for DTU in VisMVSNet\n",
    "d_range = d_interval * (d_planes_n - 1)\n",
    "\n",
    "target_min = np.percentile(dmins, 5)\n",
    "target_max = np.percentile(dmaxs, 95)\n",
    "d_mid = (target_min + target_max) / 2\n",
    "d_min = round(d_mid - d_range / 2, 3)\n",
    "d_max = d_min + d_range\n",
    "\n",
    "plt.hist(dmins, 100);\n",
    "plt.hist(dmaxs, 100);\n",
    "plt.axvline(d_min, c='tab:green');\n",
    "plt.axvline(d_max, c='tab:green');\n",
    "\n",
    "d_min, d_max"
   ]
  },
  {
   "cell_type": "code",
   "execution_count": 24,
   "id": "b5e5999d",
   "metadata": {},
   "outputs": [
    {
     "data": {
      "text/plain": [
       "(0.558, 0.9405000000000001)"
      ]
     },
     "execution_count": 24,
     "metadata": {},
     "output_type": "execute_result"
    },
    {
     "data": {
      "image/png": "[encoded data removed]",
      "text/plain": [
       "<Figure size 432x288 with 1 Axes>"
      ]
     },
     "metadata": {
      "needs_background": "light"
     },
     "output_type": "display_data"
    }
   ],
   "source": [
    "# Option 4: small interval, a less tight range\n",
    "d_planes_n = 256  # <-\n",
    "d_interval = .0015\n",
    "d_range = d_interval * (d_planes_n - 1)\n",
    "\n",
    "target_min = np.percentile(dmins, 5)\n",
    "target_max = np.percentile(dmaxs, 95)\n",
    "d_mid = (target_min + target_max) / 2\n",
    "d_min = round(d_mid - d_range / 2, 3)\n",
    "d_max = d_min + d_range\n",
    "\n",
    "plt.hist(dmins, 100);\n",
    "plt.hist(dmaxs, 100);\n",
    "plt.axvline(d_min, c='tab:green');\n",
    "plt.axvline(d_max, c='tab:green');\n",
    "\n",
    "d_min, d_max"
   ]
  },
  {
   "cell_type": "code",
   "execution_count": null,
   "id": "678f901d",
   "metadata": {},
   "outputs": [],
   "source": []
  }
 ],
 "metadata": {
  "kernelspec": {
   "display_name": "Python 3",
   "language": "python",
   "name": "python3"
  },
  "language_info": {
   "codemirror_mode": {
    "name": "ipython",
    "version": 3
   },
   "file_extension": ".py",
   "mimetype": "text/x-python",
   "name": "python",
   "nbconvert_exporter": "python",
   "pygments_lexer": "ipython3",
   "version": "3.8.6"
  }
 },
 "nbformat": 4,
 "nbformat_minor": 5
}
