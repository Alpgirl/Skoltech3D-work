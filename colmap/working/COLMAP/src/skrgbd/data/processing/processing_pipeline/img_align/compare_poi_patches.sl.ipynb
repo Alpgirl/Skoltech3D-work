{
 "cells": [
  {
   "cell_type": "code",
   "execution_count": null,
   "id": "07d7f146",
   "metadata": {},
   "outputs": [],
   "source": [
    "%matplotlib widget\n",
    "\n",
    "import sys\n",
    "\n",
    "import matplotlib.pyplot as plt\n",
    "\n",
    "sys.path.append('/home/o.voynov/work/sk3d/dev.sk_robot_rgbd_data/src')\n",
    "from skrgbd.data.dataset.scene_paths import ScenePaths\n",
    "\n",
    "from compare_poi_patches import PatchHelper"
   ]
  },
  {
   "cell_type": "code",
   "execution_count": null,
   "id": "c6b631a7",
   "metadata": {},
   "outputs": [],
   "source": [
    "scene_name = 'dragon'\n",
    "\n",
    "cam_name, mode = 'tis_right', 'rgb'\n",
    "\n",
    "ver = 'v1.7.4+23_07_09.19_45'\n",
    "# ver = 'v1.7.6+23_07_11.18_52'\n",
    "logdir = ('/mnt/remotes/zhores/gpfs/data/gpfs0/3ddl/projects/sk3d/logs/processing/img_align/img_align_check_rgb/'\n",
    "          f'{cam_name}/{ver}/imgs/{scene_name}')\n",
    "\n",
    "class TmpScenePaths(ScenePaths):\n",
    "    pass\n",
    "#     def cam_poses(self, *args, **kwargs):\n",
    "#         path = super().cam_poses(*args, **kwargs)\n",
    "#         path = path.replace('sk3d/versions/v2', f'sk3d/.v2_tmp/{pos_ver}')\n",
    "#         return path\n",
    "\n",
    "scene_paths = TmpScenePaths(\n",
    "    scene_name,\n",
    "    data_dir='/mnt/remotes/zhores/gpfs/data/gpfs0/3ddl/datasets/sk3d/versions/v2/dataset',\n",
    ")"
   ]
  },
  {
   "cell_type": "code",
   "execution_count": null,
   "id": "2d1c26e9",
   "metadata": {},
   "outputs": [],
   "source": [
    "helper = PatchHelper(scene_paths, cam_name, mode, logdir)"
   ]
  },
  {
   "cell_type": "code",
   "execution_count": null,
   "id": "d672bce8",
   "metadata": {},
   "outputs": [],
   "source": [
    "helper.init_cams()\n",
    "helper.init_scan()\n",
    "helper.init_crops()"
   ]
  },
  {
   "cell_type": "code",
   "execution_count": null,
   "id": "ec93935b",
   "metadata": {},
   "outputs": [],
   "source": [
    "helper.init_imgs()\n",
    "helper.remap('repr_to_ref')"
   ]
  },
  {
   "cell_type": "code",
   "execution_count": null,
   "id": "be2ef338",
   "metadata": {},
   "outputs": [],
   "source": [
    "helper.init_grid(patch_w_img=100, scaling_factor=1)\n",
    "helper.run()"
   ]
  }
 ],
 "metadata": {
  "kernelspec": {
   "display_name": "Python 3 (ipykernel)",
   "language": "python",
   "name": "python3"
  },
  "language_info": {
   "codemirror_mode": {
    "name": "ipython",
    "version": 3
   },
   "file_extension": ".py",
   "mimetype": "text/x-python",
   "name": "python",
   "nbconvert_exporter": "python",
   "pygments_lexer": "ipython3",
   "version": "3.8.16"
  }
 },
 "nbformat": 4,
 "nbformat_minor": 5
}
