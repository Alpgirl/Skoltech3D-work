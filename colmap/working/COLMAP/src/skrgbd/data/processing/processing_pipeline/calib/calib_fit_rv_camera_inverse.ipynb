{
 "cells": [
  {
   "cell_type": "code",
   "execution_count": null,
   "id": "f1b0879f",
   "metadata": {},
   "outputs": [],
   "source": [
    "from pathlib import Path\n",
    "import sys\n",
    "\n",
    "import torch\n",
    "\n",
    "sys.path.append('/home/ovoinov/work/sk3d/dev.sk_robot_rgbd_data/src')\n",
    "from skrgbd.calibration.camera_models.rv_camera_model import RVCameraModel\n",
    "from skrgbd.calibration.camera_models import save_to_pt\n",
    "from skrgbd.data.dataset.scene_paths import ScenePaths"
   ]
  },
  {
   "cell_type": "markdown",
   "id": "0cec0209",
   "metadata": {},
   "source": [
    "The RangeVision calibration of SL camera is the same for all scans, so we only fit the inverse model once."
   ]
  },
  {
   "cell_type": "code",
   "execution_count": null,
   "id": "bc9b6dc6",
   "metadata": {},
   "outputs": [],
   "source": [
    "scene_name = 'dragon'\n",
    "cam_scan_i = 0\n",
    "cam_id = 'b'\n",
    "\n",
    "scene_paths = ScenePaths(scene_name, raw_dir='/mnt/datasets/sk3d/raw',\n",
    "                         raw_calib_dir='/mnt/datasets/sk3d/calibration/raw_calibration/small_scale_sphere')\n",
    "\n",
    "sl_cam_model = f'{scene_paths.sl_raw()}/scan_res_{cam_scan_i:04}/Raw/impar{cam_id}01.txt'\n",
    "sl_cam_model = RVCameraModel.from_impar_txt(sl_cam_model).to('cuda', torch.double)\n",
    "sl_cam_model.fit_projection_parameters(show_progress=True)\n",
    "sl_cam_model = sl_cam_model.to('cpu')"
   ]
  },
  {
   "cell_type": "code",
   "execution_count": null,
   "id": "162f46be",
   "metadata": {},
   "outputs": [],
   "source": [
    "cam = {'a': 'stl_left', 'b': 'stl_right'}[cam_id]\n",
    "cam_dict_pt = scene_paths.cam_model(cam, 'rgb', 'pt')\n",
    "\n",
    "Path(cam_dict_pt).parent.mkdir(parents=True, exist_ok=True)\n",
    "save_to_pt(cam_dict_pt, sl_cam_model)"
   ]
  },
  {
   "cell_type": "code",
   "execution_count": null,
   "id": "5bb2e0ed",
   "metadata": {},
   "outputs": [],
   "source": []
  }
 ],
 "metadata": {
  "kernelspec": {
   "display_name": "Python 3 (ipykernel)",
   "language": "python",
   "name": "python3"
  },
  "language_info": {
   "codemirror_mode": {
    "name": "ipython",
    "version": 3
   },
   "file_extension": ".py",
   "mimetype": "text/x-python",
   "name": "python",
   "nbconvert_exporter": "python",
   "pygments_lexer": "ipython3",
   "version": "3.8.16"
  }
 },
 "nbformat": 4,
 "nbformat_minor": 5
}
