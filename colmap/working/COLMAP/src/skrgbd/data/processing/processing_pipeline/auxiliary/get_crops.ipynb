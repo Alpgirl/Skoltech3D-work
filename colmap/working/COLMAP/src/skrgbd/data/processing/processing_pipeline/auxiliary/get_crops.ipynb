{
 "cells": [
  {
   "cell_type": "code",
   "execution_count": 1,
   "id": "0bf1a222",
   "metadata": {},
   "outputs": [],
   "source": [
    "from itertools import product\n",
    "import sys\n",
    "\n",
    "import torch\n",
    "\n",
    "sys.path.append('/home/o.voynov/work/sk3d/dev.sk_robot_rgbd_data/src')\n",
    "from skrgbd.data.dataset.params import cam_pos_ids\n",
    "from skrgbd.data.image_utils import get_trim\n",
    "from skrgbd.data.io import imgio\n",
    "from skrgbd.data.dataset.scene_paths import ScenePaths\n",
    "from skrgbd.utils.logging import tqdm\n",
    "from skrgbd.data.dataset.dataset import wip_scene_name_by_id"
   ]
  },
  {
   "cell_type": "code",
   "execution_count": 2,
   "id": "be28c8a3",
   "metadata": {},
   "outputs": [],
   "source": [
    "def get_global_crop(sensor, var):\n",
    "    i_min_glob = 100_000\n",
    "    i_max_glob = -1\n",
    "    j_min_glob = 100_000\n",
    "    j_max_glob = -1\n",
    "\n",
    "    pairs = list(product(wip_scene_name_by_id.values(), cam_pos_ids))\n",
    "    for scene_name, view_i in tqdm(pairs):\n",
    "        scene_paths = ScenePaths(scene_name, addons_dir='/mnt/remotes/zhores/gpfs/data/gpfs0/3ddl/datasets/sk3d/versions/v2/addons')\n",
    "        depthmap = scene_paths.proj_depth('stl', 'clean_rec', sensor, var, view_i)\n",
    "        depthmap = imgio.read.stl.depth(depthmap)\n",
    "        depthmap = torch.from_numpy(depthmap)\n",
    "        isfinite = depthmap.isfinite(); del depthmap\n",
    "        i_min, i_max, j_min, j_max = get_trim(isfinite); del isfinite\n",
    "\n",
    "        i_min_glob = min(i_min_glob, i_min)\n",
    "        j_min_glob = min(j_min_glob, j_min)\n",
    "        i_max_glob = max(i_max_glob, i_max)\n",
    "        j_max_glob = max(j_max_glob, j_max)\n",
    "\n",
    "    return i_min_glob, i_max_glob, j_min_glob, j_max_glob"
   ]
  },
  {
   "cell_type": "code",
   "execution_count": 3,
   "id": "deda74a1",
   "metadata": {},
   "outputs": [
    {
     "data": {
      "application/vnd.jupyter.widget-view+json": {
       "model_id": "1c3ec40cf6024ae2a8934b7d98dfc407",
       "version_major": 2,
       "version_minor": 0
      },
      "text/plain": [
       "  0%|          | 0/10700 [00:00<?, ?it/s]"
      ]
     },
     "metadata": {},
     "output_type": "display_data"
    },
    {
     "name": "stderr",
     "output_type": "stream",
     "text": [
      "/tmp/ipykernel_1668591/3245849398.py:12: UserWarning: The given NumPy array is not writeable, and PyTorch does not support non-writeable tensors. This means you can write to the underlying (supposedly non-writeable) NumPy array using the tensor. You may want to copy the array to protect its data or make it writeable before converting it to a tensor. This type of warning will be suppressed for the rest of this program. (Triggered internally at  /opt/conda/conda-bld/pytorch_1627336325426/work/torch/csrc/utils/tensor_numpy.cpp:143.)\n",
      "  depthmap = torch.from_numpy(depthmap)\n"
     ]
    },
    {
     "name": "stdout",
     "output_type": "stream",
     "text": [
      "tis_right.undist:\t[602:1952, 294:1886]\n"
     ]
    }
   ],
   "source": [
    "sensor, var = 'tis_right', 'undist'\n",
    "i_min_glob, i_max_glob, j_min_glob, j_max_glob = get_global_crop(sensor, var)\n",
    "print(f'{sensor}.{var}:\\t[{i_min_glob}:{i_max_glob}, {j_min_glob}:{j_max_glob}]')"
   ]
  },
  {
   "cell_type": "code",
   "execution_count": 3,
   "id": "934a4107",
   "metadata": {},
   "outputs": [
    {
     "data": {
      "application/vnd.jupyter.widget-view+json": {
       "model_id": "1b00eb7db8d246b680a284d406e06d03",
       "version_major": 2,
       "version_minor": 0
      },
      "text/plain": [
       "  0%|          | 0/10700 [00:00<?, ?it/s]"
      ]
     },
     "metadata": {},
     "output_type": "display_data"
    },
    {
     "name": "stderr",
     "output_type": "stream",
     "text": [
      "/tmp/ipykernel_1612677/3245849398.py:12: UserWarning: The given NumPy array is not writeable, and PyTorch does not support non-writeable tensors. This means you can write to the underlying (supposedly non-writeable) NumPy array using the tensor. You may want to copy the array to protect its data or make it writeable before converting it to a tensor. This type of warning will be suppressed for the rest of this program. (Triggered internally at  /opt/conda/conda-bld/pytorch_1627336325426/work/torch/csrc/utils/tensor_numpy.cpp:143.)\n",
      "  depthmap = torch.from_numpy(depthmap)\n"
     ]
    },
    {
     "name": "stdout",
     "output_type": "stream",
     "text": [
      "kinect_v2_ir.undist:\t[106:342, 119:351]\n"
     ]
    }
   ],
   "source": [
    "sensor, var = 'kinect_v2_ir', 'undist'\n",
    "i_min_glob, i_max_glob, j_min_glob, j_max_glob = get_global_crop(sensor, var)\n",
    "print(f'{sensor}.{var}:\\t[{i_min_glob}:{i_max_glob}, {j_min_glob}:{j_max_glob}]')"
   ]
  },
  {
   "cell_type": "code",
   "execution_count": 6,
   "id": "a06da022",
   "metadata": {},
   "outputs": [
    {
     "data": {
      "application/vnd.jupyter.widget-view+json": {
       "model_id": "76121a70e67c4c4bbf3cfc85f7c6fd13",
       "version_major": 2,
       "version_minor": 0
      },
      "text/plain": [
       "  0%|          | 0/10700 [00:00<?, ?it/s]"
      ]
     },
     "metadata": {},
     "output_type": "display_data"
    },
    {
     "name": "stdout",
     "output_type": "stream",
     "text": [
      "real_sense_ir.undist:\t[225:657, 322:759]\n"
     ]
    }
   ],
   "source": [
    "sensor, var = 'real_sense_ir', 'undist'\n",
    "i_min_glob, i_max_glob, j_min_glob, j_max_glob = get_global_crop(sensor, var)\n",
    "print(f'{sensor}.{var}:\\t[{i_min_glob}:{i_max_glob}, {j_min_glob}:{j_max_glob}]')"
   ]
  },
  {
   "cell_type": "code",
   "execution_count": 4,
   "id": "5702cdf3",
   "metadata": {},
   "outputs": [
    {
     "data": {
      "application/vnd.jupyter.widget-view+json": {
       "model_id": "9efdf02214a840da9a872c00ec6a86df",
       "version_major": 2,
       "version_minor": 0
      },
      "text/plain": [
       "  0%|          | 0/10700 [00:00<?, ?it/s]"
      ]
     },
     "metadata": {},
     "output_type": "display_data"
    },
    {
     "name": "stdout",
     "output_type": "stream",
     "text": [
      "phone_right_ir.undist:\t[11:133, 1:131]\n"
     ]
    }
   ],
   "source": [
    "sensor, var = 'phone_right_ir', 'undist'\n",
    "i_min_glob, i_max_glob, j_min_glob, j_max_glob = get_global_crop(sensor, var)\n",
    "print(f'{sensor}.{var}:\\t[{i_min_glob}:{i_max_glob}, {j_min_glob}:{j_max_glob}]')"
   ]
  },
  {
   "cell_type": "code",
   "execution_count": 5,
   "id": "3e64951b",
   "metadata": {},
   "outputs": [
    {
     "data": {
      "application/vnd.jupyter.widget-view+json": {
       "model_id": "12ae0b3485e6426aa740e611b5c55858",
       "version_major": 2,
       "version_minor": 0
      },
      "text/plain": [
       "  0%|          | 0/10700 [00:00<?, ?it/s]"
      ]
     },
     "metadata": {},
     "output_type": "display_data"
    },
    {
     "name": "stdout",
     "output_type": "stream",
     "text": [
      "phone_left_ir.undist:\t[1:126, 57:182]\n"
     ]
    }
   ],
   "source": [
    "sensor, var = 'phone_left_ir', 'undist'\n",
    "i_min_glob, i_max_glob, j_min_glob, j_max_glob = get_global_crop(sensor, var)\n",
    "print(f'{sensor}.{var}:\\t[{i_min_glob}:{i_max_glob}, {j_min_glob}:{j_max_glob}]')"
   ]
  }
 ],
 "metadata": {
  "kernelspec": {
   "display_name": "Python 3 (ipykernel)",
   "language": "python",
   "name": "python3"
  },
  "language_info": {
   "codemirror_mode": {
    "name": "ipython",
    "version": 3
   },
   "file_extension": ".py",
   "mimetype": "text/x-python",
   "name": "python",
   "nbconvert_exporter": "python",
   "pygments_lexer": "ipython3",
   "version": "3.8.16"
  }
 },
 "nbformat": 4,
 "nbformat_minor": 5
}
