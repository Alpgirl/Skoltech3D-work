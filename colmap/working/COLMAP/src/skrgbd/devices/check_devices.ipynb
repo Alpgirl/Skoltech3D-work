{
 "cells": [
  {
   "cell_type": "code",
   "execution_count": null,
   "metadata": {},
   "outputs": [],
   "source": [
    "from time import sleep\n",
    "import sys\n",
    "\n",
    "from PIL import Image\n",
    "import numpy as np\n",
    "import matplotlib.pyplot as plt\n",
    "\n",
    "sys.path.append('/home/universal/Downloads/dev.sk_robot_rgbd_data/src')"
   ]
  },
  {
   "cell_type": "markdown",
   "metadata": {},
   "source": [
    "### TIS Cameras"
   ]
  },
  {
   "cell_type": "code",
   "execution_count": null,
   "metadata": {},
   "outputs": [],
   "source": [
    "from skrgbd.devices.tis import RightTisCamera, LeftTisCamera\n",
    "\n",
    "\n",
    "tis_right = RightTisCamera()\n",
    "tis_right.start()\n",
    "tis_left = LeftTisCamera()\n",
    "tis_left.start()\n",
    "sleep(1)"
   ]
  },
  {
   "cell_type": "code",
   "execution_count": null,
   "metadata": {},
   "outputs": [],
   "source": [
    "right_image = tis_right.snap_frame()['image']\n",
    "left_image = tis_left.snap_frame()['image']\n",
    "\n",
    "f, axes = plt.subplots(1, 2, figsize=(15, 15))\n",
    "axes[0].imshow(left_image)\n",
    "axes[1].imshow(right_image)\n",
    "f.tight_layout()"
   ]
  },
  {
   "cell_type": "code",
   "execution_count": null,
   "metadata": {},
   "outputs": [],
   "source": [
    "del tis_right, tis_left"
   ]
  },
  {
   "cell_type": "markdown",
   "metadata": {},
   "source": [
    "### RealSense"
   ]
  },
  {
   "cell_type": "code",
   "execution_count": null,
   "metadata": {},
   "outputs": [],
   "source": [
    "from skrgbd.devices.realsense import RealSense\n",
    "\n",
    "\n",
    "realsense = RealSense()\n",
    "realsense.start()\n",
    "sleep(5)  # let RealSense get some history of frames"
   ]
  },
  {
   "cell_type": "code",
   "execution_count": null,
   "metadata": {
    "scrolled": false
   },
   "outputs": [],
   "source": [
    "frame = realsense.snap_frame()\n",
    "\n",
    "f, axes = plt.subplots(1, 3, figsize=(15, 15))\n",
    "axes[0].imshow(frame['image'])\n",
    "depth = frame['depth']\n",
    "axes[1].imshow(depth, cmap='jet', vmin=depth[depth > 0].min(), vmax=depth[depth <= 5000].max())\n",
    "axes[2].imshow(frame['ir'], cmap='gray')\n",
    "f.tight_layout()"
   ]
  },
  {
   "cell_type": "code",
   "execution_count": null,
   "metadata": {},
   "outputs": [],
   "source": [
    "del realsense"
   ]
  },
  {
   "cell_type": "markdown",
   "metadata": {},
   "source": [
    "### Kinect"
   ]
  },
  {
   "cell_type": "code",
   "execution_count": null,
   "metadata": {},
   "outputs": [],
   "source": [
    "from skrgbd.devices.kinect import Kinect\n",
    "\n",
    "\n",
    "kinect = Kinect()\n",
    "kinect.start()"
   ]
  },
  {
   "cell_type": "code",
   "execution_count": null,
   "metadata": {
    "scrolled": false
   },
   "outputs": [],
   "source": [
    "frame = kinect.snap_frame()\n",
    "\n",
    "f, axes = plt.subplots(1, 3, figsize=(15, 15))\n",
    "axes[0].imshow(frame['image'])\n",
    "depth = frame['depth']\n",
    "axes[1].imshow(depth, cmap='jet', vmin=depth[depth > 0].min(), vmax=depth[depth <= 5000].max())\n",
    "axes[2].imshow(frame['ir'] ** .5, cmap='gray', vmin=0, vmax=1)\n",
    "f.tight_layout()"
   ]
  },
  {
   "cell_type": "code",
   "execution_count": null,
   "metadata": {},
   "outputs": [],
   "source": [
    "del kinect"
   ]
  }
 ],
 "metadata": {
  "kernelspec": {
   "display_name": "Python 3",
   "language": "python",
   "name": "python3"
  },
  "language_info": {
   "codemirror_mode": {
    "name": "ipython",
    "version": 3
   },
   "file_extension": ".py",
   "mimetype": "text/x-python",
   "name": "python",
   "nbconvert_exporter": "python",
   "pygments_lexer": "ipython3",
   "version": "3.8.6"
  }
 },
 "nbformat": 4,
 "nbformat_minor": 4
}
